{
 "cells": [
  {
   "cell_type": "code",
   "execution_count": 85,
   "id": "411cf201",
   "metadata": {},
   "outputs": [],
   "source": [
    "import numpy as np\n",
    "import pandas as pd\n",
    "import os\n",
    "import pickle\n"
   ]
  },
  {
   "cell_type": "code",
   "execution_count": 86,
   "id": "37a56df7",
   "metadata": {},
   "outputs": [],
   "source": [
    "def preprocess_data(df_orgin):\n",
    "    \"\"\"데이터 전처리\"\"\"\n",
    "    # 컬럼명 변경\n",
    "    df = df_orgin.copy()\n",
    "    \n",
    "    # Churn status 컬럼명 변경\n",
    "    df.rename(columns={'Churn status': 'Churn'}, inplace=True)\n",
    "\n",
    "    # 10살 간격으로 연령대 컬럼 생성\n",
    "    min_age = df['Age'].min()\n",
    "    max_age = df['Age'].max()\n",
    "\n",
    "    bin_from = int(np.floor(min_age / 10) * 10)\n",
    "    bin_to = int(np.ceil(max_age / 10) * 10)\n",
    "\n",
    "    bins = list(range(bin_from, bin_to + 10, 10))\n",
    "    bins.append(99)\n",
    "    labels = [i for i in bins[:-1]]\n",
    "\n",
    "    df['Age_group'] = pd.cut(x=df['Age'], bins=bins, labels=labels, right=False)\n",
    "    df.drop('Age', axis=1, inplace=True)\n",
    "\n",
    "    # 지역별 가격 알아오기\n",
    "    df_region_price = pd.read_csv('./data/region_price.csv')\n",
    "\n",
    "    # 사용자 데이터와 지역별 평균 요금 데이터 결합\n",
    "    df_merged = pd.merge(df, df_region_price, on='Region', how='left')\n",
    "\n",
    "\n",
    "    # 실제 구독 요금 계산 컬럼 생성\n",
    "    conditions = [\n",
    "        (df_merged['Subscription Plan'] == 'Basic'),\n",
    "        (df_merged['Subscription Plan'] == 'Standard'),\n",
    "        (df_merged['Subscription Plan'] == 'Premium')\n",
    "    ]\n",
    "    choices = [\n",
    "        df_merged['avg_region_price_basic'],\n",
    "        df_merged['avg_region_price_standard'],\n",
    "        df_merged['avg_region_price_premium']\n",
    "    ]\n",
    "\n",
    "    df_merged['User_Subscription_Price'] = np.select(conditions, choices, default=0)\n",
    "\n",
    "    # 새로운 복합 컬럼 생성\n",
    "    epsilon = 1e-6 # 0으로 나누는 것을 방지하기 위한 작은 값\n",
    "\n",
    "    # 1. 소득 대비 요금\n",
    "    df_merged['Price_Burden_Ratio'] = df_merged['User_Subscription_Price'] / (df_merged['Monthly Income ($)'] + epsilon)\n",
    "\n",
    "    # 2. 요금별 시청시간(1달러당 얼마나 보는지)\n",
    "    df_merged['Watch_Time_per_Dollar'] = df_merged['Daily Watch Time (Hours)'] / (df_merged['User_Subscription_Price'] + epsilon)\n",
    "\n",
    "    # 3. 요금별 만족도\n",
    "    df_merged['Satisfaction_per_Dollar'] = df_merged['Customer Satisfaction Score (1-10)'] / (df_merged['User_Subscription_Price'] + epsilon)\n",
    "\n",
    "    # 4. 월 평균 문의 수\n",
    "    df_merged['Queries_per_Month'] = df_merged['Support Queries Logged'] / (df_merged['Subscription Length (Months)'] + epsilon)\n",
    "\n",
    "    # 무한대 값 처리\n",
    "    df_merged.replace([np.inf, -np.inf], 0, inplace=True)\n",
    "\n",
    "    return df_merged"
   ]
  },
  {
   "cell_type": "code",
   "execution_count": 92,
   "id": "462b4c45",
   "metadata": {},
   "outputs": [],
   "source": [
    "df = pd.read_csv('./data/our_class.csv')\n",
    "df = preprocess_data(df)"
   ]
  },
  {
   "cell_type": "code",
   "execution_count": 93,
   "id": "d95b5eb9",
   "metadata": {},
   "outputs": [],
   "source": [
    "def predict_churn(model, df):\n",
    "    \"\"\"이탈 확률 예측\"\"\"\n",
    "\n",
    "    x = df.drop('Churn', axis=1)\n",
    "    y = df['Churn']\n",
    "    # loaded_pred = loaded_pipeline.predict(x)\n",
    "    proba = model.predict_proba(x)\n",
    "    \n",
    "    \n",
    "    return proba\n",
    "    # return churn_proba"
   ]
  },
  {
   "cell_type": "code",
   "execution_count": 94,
   "id": "e2336883",
   "metadata": {},
   "outputs": [
    {
     "name": "stderr",
     "output_type": "stream",
     "text": [
      "c:\\Users\\Beoms\\anaconda3\\envs\\ml_env\\Lib\\site-packages\\sklearn\\utils\\validation.py:2749: UserWarning: X does not have valid feature names, but LGBMClassifier was fitted with feature names\n",
      "  warnings.warn(\n"
     ]
    }
   ],
   "source": [
    "target_dir = './model'\n",
    "pipeline_path = os.path.join(target_dir, 'churn_lgbm_pipeline.pkl')\n",
    "\n",
    "with open(pipeline_path, 'rb') as f:\n",
    "    model = pickle.load(f)\n",
    "\n",
    "\n",
    "predictions = predict_churn(model, df)"
   ]
  },
  {
   "cell_type": "code",
   "execution_count": 96,
   "id": "6a51cffb",
   "metadata": {},
   "outputs": [
    {
     "data": {
      "text/plain": [
       "(array([0.9, 1. , 1. , 0.7, 0.3, 0.2, 1. , 0.5, 1. , 0.3, 1. , 0.5, 0.4,\n",
       "        0.4, 0.9, 0.6, 1. , 0.2, 0.9, 0.6, 0.3, 0.6, 0.3, 0.5, 0.5]),\n",
       " array([[0.07606951, 0.92393049],\n",
       "        [0.00832093, 0.99167907],\n",
       "        [0.01406646, 0.98593354],\n",
       "        [0.32919035, 0.67080965],\n",
       "        [0.68174047, 0.31825953],\n",
       "        [0.79201018, 0.20798982],\n",
       "        [0.0347035 , 0.9652965 ],\n",
       "        [0.54376006, 0.45623994],\n",
       "        [0.01371043, 0.98628957],\n",
       "        [0.6535983 , 0.3464017 ],\n",
       "        [0.01691439, 0.98308561],\n",
       "        [0.46237459, 0.53762541],\n",
       "        [0.64812469, 0.35187531],\n",
       "        [0.5838318 , 0.4161682 ],\n",
       "        [0.0546582 , 0.9453418 ],\n",
       "        [0.37562441, 0.62437559],\n",
       "        [0.04391575, 0.95608425],\n",
       "        [0.80628179, 0.19371821],\n",
       "        [0.13679344, 0.86320656],\n",
       "        [0.44559582, 0.55440418],\n",
       "        [0.72022829, 0.27977171],\n",
       "        [0.35605115, 0.64394885],\n",
       "        [0.71005842, 0.28994158],\n",
       "        [0.51648362, 0.48351638],\n",
       "        [0.50133832, 0.49866168]]))"
      ]
     },
     "execution_count": 96,
     "metadata": {},
     "output_type": "execute_result"
    }
   ],
   "source": [
    "predictions[:, 1].round(1), predictions"
   ]
  },
  {
   "cell_type": "code",
   "execution_count": 97,
   "id": "8b6c2880",
   "metadata": {},
   "outputs": [],
   "source": [
    "feature_importance = pd.DataFrame({\n",
    "    'importance': [238, 221, 22, 20, 20, 20, 19, 19, 17, 16, 16, 15, 15, 12, 11, 11, 11, 9, 9, 8, 7, 7],\n",
    "    'feature': [\n",
    "        'Subscription Length (Months)', \n",
    "        'Customer Satisfaction Score (1-10)', \n",
    "        'Daily Watch Time (Hours)', \n",
    "        'Engagement Rate (1-10)', \n",
    "        'Device Used Most Often', \n",
    "        'Genre Preference', \n",
    "        'Region', \n",
    "        'Payment History (On-Time/Delayed)', \n",
    "        'Subscription Plan', \n",
    "        'Support Queries Logged', \n",
    "        'Monthly Income ($)', \n",
    "        'Promotional Offers Used', \n",
    "        'Number of Profiles Created', \n",
    "        'Age_group', \n",
    "        'avg_region_price_basic', \n",
    "        'avg_region_price_standard', \n",
    "        'avg_region_price_premium', \n",
    "        'User_Subscription_Price', \n",
    "        'Price_Burden_Ratio', \n",
    "        'Watch_Time_per_Dollar', \n",
    "        'Satisfaction_per_Dollar', \n",
    "        'Queries_per_Month'\n",
    "    ]\n",
    "}).sort_values('importance', ascending=False)"
   ]
  },
  {
   "cell_type": "code",
   "execution_count": 101,
   "id": "84084696",
   "metadata": {},
   "outputs": [
    {
     "data": {
      "text/html": [
       "<div>\n",
       "<style scoped>\n",
       "    .dataframe tbody tr th:only-of-type {\n",
       "        vertical-align: middle;\n",
       "    }\n",
       "\n",
       "    .dataframe tbody tr th {\n",
       "        vertical-align: top;\n",
       "    }\n",
       "\n",
       "    .dataframe thead th {\n",
       "        text-align: right;\n",
       "    }\n",
       "</style>\n",
       "<table border=\"1\" class=\"dataframe\">\n",
       "  <thead>\n",
       "    <tr style=\"text-align: right;\">\n",
       "      <th></th>\n",
       "      <th>importance</th>\n",
       "      <th>feature</th>\n",
       "    </tr>\n",
       "  </thead>\n",
       "  <tbody>\n",
       "    <tr>\n",
       "      <th>0</th>\n",
       "      <td>238</td>\n",
       "      <td>Subscription Length (Months)</td>\n",
       "    </tr>\n",
       "    <tr>\n",
       "      <th>1</th>\n",
       "      <td>221</td>\n",
       "      <td>Customer Satisfaction Score (1-10)</td>\n",
       "    </tr>\n",
       "    <tr>\n",
       "      <th>2</th>\n",
       "      <td>22</td>\n",
       "      <td>Daily Watch Time (Hours)</td>\n",
       "    </tr>\n",
       "    <tr>\n",
       "      <th>3</th>\n",
       "      <td>20</td>\n",
       "      <td>Engagement Rate (1-10)</td>\n",
       "    </tr>\n",
       "    <tr>\n",
       "      <th>4</th>\n",
       "      <td>20</td>\n",
       "      <td>Device Used Most Often</td>\n",
       "    </tr>\n",
       "    <tr>\n",
       "      <th>5</th>\n",
       "      <td>20</td>\n",
       "      <td>Genre Preference</td>\n",
       "    </tr>\n",
       "    <tr>\n",
       "      <th>6</th>\n",
       "      <td>19</td>\n",
       "      <td>Region</td>\n",
       "    </tr>\n",
       "    <tr>\n",
       "      <th>7</th>\n",
       "      <td>19</td>\n",
       "      <td>Payment History (On-Time/Delayed)</td>\n",
       "    </tr>\n",
       "  </tbody>\n",
       "</table>\n",
       "</div>"
      ],
      "text/plain": [
       "   importance                             feature\n",
       "0         238        Subscription Length (Months)\n",
       "1         221  Customer Satisfaction Score (1-10)\n",
       "2          22            Daily Watch Time (Hours)\n",
       "3          20              Engagement Rate (1-10)\n",
       "4          20              Device Used Most Often\n",
       "5          20                    Genre Preference\n",
       "6          19                              Region\n",
       "7          19   Payment History (On-Time/Delayed)"
      ]
     },
     "execution_count": 101,
     "metadata": {},
     "output_type": "execute_result"
    }
   ],
   "source": [
    "feature_importance.head(8).sort_values('importance', ascending=False)"
   ]
  },
  {
   "cell_type": "code",
   "execution_count": 102,
   "id": "9599e61f",
   "metadata": {},
   "outputs": [],
   "source": [
    "import random"
   ]
  },
  {
   "cell_type": "code",
   "execution_count": 103,
   "id": "f2fa6770",
   "metadata": {},
   "outputs": [],
   "source": [
    "def generate_random_name():\n",
    "    \"\"\"\n",
    "    형용사 + 동물의 규칙으로 랜덤 이름을 생성합니다. (확장 버전)\n",
    "    \"\"\"\n",
    "    # 1. 확장된 형용사 리스트\n",
    "    adjectives = [\n",
    "        \"아주빠른\", \"느릿느릿한\", \"용감한\", \"영리한\", \"밝게빛나는\", \n",
    "        \"어두컴컴한\", \"재미있는\", \"힘센\", \"작은\", \"거대한\",\n",
    "        \"우아한\", \"날쌘\", \"똑똑한\", \"조용한\", \"시끄러운\",\n",
    "        \"신비로운\", \"차분한\", \"활기찬\", \"게으른\", \"사나운\",\n",
    "        \"온순한\", \"기묘한\", \"반짝이는\", \"고요한\", \"매혹적인\",\n",
    "        \"현명한\", \"자유로운\", \"민첩한\", \"단단한\", \"부드러운\",\n",
    "        \"차가운\", \"뜨거운\", \"황금빛\", \"은빛\", \"투명한\",\n",
    "        \"몽환적인\", \"천진난만한\", \"장난꾸러기\", \"눈부신\", \"기발한\",\n",
    "        \"까만\", \"하얀\", \"붉은\", \"푸른\", \"노란\"\n",
    "    ]\n",
    "    \n",
    "    # 2. 확장된 동물 리스트\n",
    "    animals = [\n",
    "        \"나무늘보\", \"호랑이\", \"코끼리\", \"치타\", \"펭귄\", \n",
    "        \"부엉이\", \"고래\", \"카멜레온\", \"사자\", \"토끼\",\n",
    "        \"여우\", \"코알라\", \"달팽이\", \"독수리\", \"늑대\",\n",
    "        \"돌고래\", \"팬더\", \"기린\", \"하마\", \"오리너구리\",\n",
    "        \"퓨마\", \"매미\", \"개미\", \"벌새\", \"알파카\",\n",
    "        \"이구아나\", \"악어\", \"앵무새\", \"문어\", \"고슴도치\",\n",
    "        \"사슴\", \"곰\", \"표범\", \"다람쥐\", \"양\",\n",
    "        \"염소\", \"수달\", \"캥거루\", \"바다표범\", \"비둘기\",\n",
    "        \"뱀\", \"제비\", \"참새\", \"두더지\", \"낙타\",\n",
    "        \"코뿔소\"\n",
    "    ]\n",
    "    \n",
    "    adjective = random.choice(adjectives)\n",
    "    animal = random.choice(animals)\n",
    "    \n",
    "    random_name = adjective + animal\n",
    "    \n",
    "    return random_name"
   ]
  },
  {
   "cell_type": "code",
   "execution_count": 106,
   "id": "99a5b6ef",
   "metadata": {},
   "outputs": [
    {
     "name": "stdout",
     "output_type": "stream",
     "text": [
      "현명한코끼리\n",
      "반짝이는토끼\n",
      "차분한뱀\n",
      "황금빛퓨마\n",
      "영리한곰\n",
      "노란다람쥐\n",
      "아주빠른사자\n",
      "아주빠른호랑이\n",
      "매혹적인참새\n",
      "천진난만한기린\n",
      "기묘한코뿔소\n",
      "힘센다람쥐\n",
      "은빛비둘기\n",
      "작은뱀\n",
      "작은수달\n",
      "노란나무늘보\n",
      "기발한알파카\n",
      "뜨거운달팽이\n",
      "용감한여우\n",
      "사나운독수리\n",
      "자유로운매미\n",
      "자유로운수달\n",
      "힘센여우\n",
      "투명한앵무새\n",
      "차분한코알라\n"
     ]
    }
   ],
   "source": [
    "x = []\n",
    "for _ in range(25):\n",
    "    # x.append(generate_random_name())\n",
    "    print(generate_random_name())\n",
    "\n"
   ]
  },
  {
   "cell_type": "code",
   "execution_count": 1,
   "id": "78753bb8",
   "metadata": {},
   "outputs": [
    {
     "name": "stdout",
     "output_type": "stream",
     "text": [
      "Requirement already satisfied: chardet in c:\\users\\beoms\\anaconda3\\envs\\ml_env\\lib\\site-packages (5.2.0)\n"
     ]
    }
   ],
   "source": [
    "!pip install chardet"
   ]
  }
 ],
 "metadata": {
  "kernelspec": {
   "display_name": "ml_env",
   "language": "python",
   "name": "python3"
  },
  "language_info": {
   "codemirror_mode": {
    "name": "ipython",
    "version": 3
   },
   "file_extension": ".py",
   "mimetype": "text/x-python",
   "name": "python",
   "nbconvert_exporter": "python",
   "pygments_lexer": "ipython3",
   "version": "3.12.11"
  }
 },
 "nbformat": 4,
 "nbformat_minor": 5
}
