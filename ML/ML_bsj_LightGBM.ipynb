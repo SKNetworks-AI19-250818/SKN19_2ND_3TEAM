{
 "cells": [
  {
   "cell_type": "markdown",
   "id": "94abfb96",
   "metadata": {},
   "source": [
    "### 1. 데이터 로드 및 모델 학습"
   ]
  },
  {
   "cell_type": "code",
   "execution_count": null,
   "id": "b604ebb4",
   "metadata": {},
   "outputs": [
    {
     "name": "stdout",
     "output_type": "stream",
     "text": [
      "[LightGBM] [Info] Number of positive: 74803, number of negative: 74803\n",
      "[LightGBM] [Info] Auto-choosing col-wise multi-threading, the overhead of testing was 0.004241 seconds.\n",
      "You can set `force_col_wise=true` to remove the overhead.\n",
      "[LightGBM] [Info] Total Bins 2339\n",
      "[LightGBM] [Info] Number of data points in the train set: 149606, number of used features: 13\n",
      "[LightGBM] [Info] [binary:BoostFromScore]: pavg=0.500000 -> initscore=0.000000\n",
      "              precision    recall  f1-score   support\n",
      "\n",
      "           0       0.20      0.68      0.31      3875\n",
      "           1       0.95      0.67      0.78     32059\n",
      "\n",
      "    accuracy                           0.67     35934\n",
      "   macro avg       0.57      0.68      0.55     35934\n",
      "weighted avg       0.87      0.67      0.73     35934\n",
      "\n"
     ]
    },
    {
     "name": "stderr",
     "output_type": "stream",
     "text": [
      "c:\\Users\\Playdata\\anaconda3\\envs\\ml_env\\Lib\\site-packages\\sklearn\\utils\\validation.py:2749: UserWarning: X does not have valid feature names, but LGBMClassifier was fitted with feature names\n",
      "  warnings.warn(\n"
     ]
    }
   ],
   "source": [
    "# 데이터 분석\n",
    "import pandas as pd\n",
    "import numpy as np\n",
    "import pickle\n",
    "import os\n",
    "\n",
    "# 모델 학습\n",
    "from sklearn.model_selection import train_test_split\n",
    "from sklearn.preprocessing import StandardScaler, OneHotEncoder\n",
    "from sklearn.compose import ColumnTransformer\n",
    "from sklearn.metrics import classification_report\n",
    "\n",
    "# 불균형 데이터\n",
    "from imblearn.over_sampling import SMOTE\n",
    "from imblearn.pipeline import Pipeline as ImbPipeline\n",
    "\n",
    "# 모델 선정 -> 불균형 데이터에 강력한 트리 기반 모델\n",
    "from lightgbm import LGBMClassifier\n",
    "\n",
    "# --- 데이터 로드 및 분리\n",
    "df = pd.read_csv('./data/netflix_feature_engineered.csv')\n",
    "df['Churn'] = df['Churn'].apply(lambda x: 1 if x == 'Yes' else 0)\n",
    "\n",
    "drop_cols = ['Region', 'Device Used Most Often', 'Payment History (On-Time/Delayed)', 'Monthly Income ($)', \n",
    "             'Number of Profiles Created', 'Age_group', 'Support Queries Logged', 'Daily Watch Time (Hours)']\n",
    "\n",
    "df.drop(columns=drop_cols, axis=1, inplace=True, errors='ignore')\n",
    "\n",
    "X = df.drop('Churn', axis=1)\n",
    "y = df['Churn']\n",
    "\n",
    "X_train, X_test, y_train, y_test = train_test_split(X, y, test_size=0.3, random_state=42, stratify=y)\n",
    "\n",
    "# --- 모델 파이프라인 구축\n",
    "numerical_features = X.select_dtypes(include=np.number).columns.tolist()\n",
    "categorical_features = X.select_dtypes(include='object').columns.tolist()\n",
    "\n",
    "preprocessor = ColumnTransformer(\n",
    "    transformers=[\n",
    "        ('num', StandardScaler(), numerical_features),\n",
    "        ('cat', OneHotEncoder(handle_unknown='ignore'), categorical_features)\n",
    "    ],\n",
    "    remainder='passthrough'\n",
    ")\n",
    "\n",
    "model = LGBMClassifier(random_state=42, class_weight='balanced')\n",
    "\n",
    "pipeline = ImbPipeline(steps=[\n",
    "    ('preprocessor', preprocessor),\n",
    "    ('smote', SMOTE(random_state=42)),\n",
    "    ('classifier', model)\n",
    "])\n",
    "\n",
    "# --- 모델 학습\n",
    "pipeline.fit(X_train, y_train)"
   ]
  },
  {
   "cell_type": "markdown",
   "id": "cc334dea",
   "metadata": {},
   "source": [
    "### 2. 예측 및 평가 시행"
   ]
  },
  {
   "cell_type": "code",
   "execution_count": null,
   "id": "51ec89c0",
   "metadata": {},
   "outputs": [],
   "source": [
    "# --- 모델 예측 및 평가\n",
    "y_pred = pipeline.predict(X_test)\n",
    "y_pred_ser = pd.Series(y_pred)\n",
    "\n",
    "print(classification_report(y_test, y_pred))"
   ]
  },
  {
   "cell_type": "markdown",
   "id": "5c72b89f",
   "metadata": {},
   "source": [
    "### 3. 학습된 모델과 데이터 저장 (필요시) "
   ]
  },
  {
   "cell_type": "code",
   "execution_count": null,
   "id": "e316d458",
   "metadata": {},
   "outputs": [],
   "source": [
    "# --- 학습된 모델 및 데이터 저장\n",
    "# 1. 저장할 디렉토리 생성\n",
    "output_dir = './model'\n",
    "os.makedirs(output_dir, exist_ok=True)\n",
    "\n",
    "# 2. 학습된 모델 파이프라인 저장\n",
    "pipeline_path = os.path.join(output_dir, 'churn_lgbm_pipeline.pkl')\n",
    "with open(pipeline_path, 'wb') as f:\n",
    "    pickle.dump(pipeline, f)\n",
    "\n",
    "# 3. 학습/테스트 데이터 저장\n",
    "data_path = os.path.join(output_dir, 'churn_data_split.pkl')\n",
    "data_to_save = {\n",
    "    'X_train': X_train,\n",
    "    'X_test': X_test,\n",
    "    'y_train': y_train,\n",
    "    'y_test': y_test\n",
    "}\n",
    "with open(data_path, 'wb') as f:\n",
    "    pickle.dump(data_to_save, f)"
   ]
  },
  {
   "cell_type": "markdown",
   "id": "d94f5f0b",
   "metadata": {},
   "source": [
    "### 4. 로컬에 저장된 모델 로드 후 사용"
   ]
  },
  {
   "cell_type": "code",
   "execution_count": null,
   "id": "8d15dfc8",
   "metadata": {},
   "outputs": [
    {
     "name": "stdout",
     "output_type": "stream",
     "text": [
      "              precision    recall  f1-score   support\n",
      "\n",
      "           0       0.20      0.68      0.31      3875\n",
      "           1       0.95      0.67      0.78     32059\n",
      "\n",
      "    accuracy                           0.67     35934\n",
      "   macro avg       0.57      0.68      0.55     35934\n",
      "weighted avg       0.87      0.67      0.73     35934\n",
      "\n",
      "[1 0 0 ... 1 0 1]\n"
     ]
    },
    {
     "name": "stderr",
     "output_type": "stream",
     "text": [
      "c:\\Users\\Playdata\\anaconda3\\envs\\ml_env\\Lib\\site-packages\\sklearn\\utils\\validation.py:2749: UserWarning: X does not have valid feature names, but LGBMClassifier was fitted with feature names\n",
      "  warnings.warn(\n"
     ]
    }
   ],
   "source": [
    "# --- 저장된 모델 및 데이터 로드\n",
    "target_dir = './model'\n",
    "pipeline_path = os.path.join(target_dir, 'churn_lgbm_pipeline.pkl')\n",
    "data_path = os.path.join(target_dir, 'churn_data_split.pkl')\n",
    "\n",
    "with open(pipeline_path, 'rb') as f:\n",
    "    loaded_pipeline = pickle.load(f)\n",
    "\n",
    "with open(data_path, 'rb') as f:\n",
    "    loaded_data = pickle.load(f)\n",
    "\n",
    "loaded_X_test = loaded_data['X_test']\n",
    "loaded_y_test = loaded_data['y_test']\n",
    "loaded_pred = loaded_pipeline.predict(loaded_X_test)\n",
    "\n",
    "print(classification_report(loaded_y_test, loaded_pred))\n",
    "print(loaded_pred)"
   ]
  }
 ],
 "metadata": {
  "kernelspec": {
   "display_name": "ml_env",
   "language": "python",
   "name": "python3"
  },
  "language_info": {
   "name": "python",
   "version": "3.12.11"
  }
 },
 "nbformat": 4,
 "nbformat_minor": 5
}
