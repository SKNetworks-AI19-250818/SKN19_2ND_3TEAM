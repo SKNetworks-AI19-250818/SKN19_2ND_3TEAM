{
 "cells": [
  {
   "cell_type": "code",
   "execution_count": 1,
   "id": "8f1aca9f",
   "metadata": {},
   "outputs": [],
   "source": [
    "import numpy as np\n",
    "import pandas as pd\n",
    "import matplotlib.pyplot as plt\n",
    "import seaborn as sns"
   ]
  },
  {
   "cell_type": "code",
   "execution_count": 2,
   "id": "e8cfeb24",
   "metadata": {},
   "outputs": [],
   "source": [
    "df = pd.read_csv('./data/netflix_user_data_unclean.csv')"
   ]
  },
  {
   "cell_type": "code",
   "execution_count": 3,
   "id": "918d92b9",
   "metadata": {},
   "outputs": [
    {
     "data": {
      "text/html": [
       "<div>\n",
       "<style scoped>\n",
       "    .dataframe tbody tr th:only-of-type {\n",
       "        vertical-align: middle;\n",
       "    }\n",
       "\n",
       "    .dataframe tbody tr th {\n",
       "        vertical-align: top;\n",
       "    }\n",
       "\n",
       "    .dataframe thead th {\n",
       "        text-align: right;\n",
       "    }\n",
       "</style>\n",
       "<table border=\"1\" class=\"dataframe\">\n",
       "  <thead>\n",
       "    <tr style=\"text-align: right;\">\n",
       "      <th></th>\n",
       "      <th>Age</th>\n",
       "      <th>Unnamed: 16</th>\n",
       "      <th>Unnamed: 17</th>\n",
       "      <th>Unnamed: 18</th>\n",
       "    </tr>\n",
       "  </thead>\n",
       "  <tbody>\n",
       "    <tr>\n",
       "      <th>count</th>\n",
       "      <td>118542.000000</td>\n",
       "      <td>0.0</td>\n",
       "      <td>2.000000</td>\n",
       "      <td>1.0</td>\n",
       "    </tr>\n",
       "    <tr>\n",
       "      <th>mean</th>\n",
       "      <td>43.823716</td>\n",
       "      <td>NaN</td>\n",
       "      <td>21954.000000</td>\n",
       "      <td>4010.0</td>\n",
       "    </tr>\n",
       "    <tr>\n",
       "      <th>std</th>\n",
       "      <td>15.317243</td>\n",
       "      <td>NaN</td>\n",
       "      <td>2835.498193</td>\n",
       "      <td>NaN</td>\n",
       "    </tr>\n",
       "    <tr>\n",
       "      <th>min</th>\n",
       "      <td>18.000000</td>\n",
       "      <td>NaN</td>\n",
       "      <td>19949.000000</td>\n",
       "      <td>4010.0</td>\n",
       "    </tr>\n",
       "    <tr>\n",
       "      <th>25%</th>\n",
       "      <td>30.000000</td>\n",
       "      <td>NaN</td>\n",
       "      <td>20951.500000</td>\n",
       "      <td>4010.0</td>\n",
       "    </tr>\n",
       "    <tr>\n",
       "      <th>50%</th>\n",
       "      <td>44.000000</td>\n",
       "      <td>NaN</td>\n",
       "      <td>21954.000000</td>\n",
       "      <td>4010.0</td>\n",
       "    </tr>\n",
       "    <tr>\n",
       "      <th>75%</th>\n",
       "      <td>57.000000</td>\n",
       "      <td>NaN</td>\n",
       "      <td>22956.500000</td>\n",
       "      <td>4010.0</td>\n",
       "    </tr>\n",
       "    <tr>\n",
       "      <th>max</th>\n",
       "      <td>70.000000</td>\n",
       "      <td>NaN</td>\n",
       "      <td>23959.000000</td>\n",
       "      <td>4010.0</td>\n",
       "    </tr>\n",
       "  </tbody>\n",
       "</table>\n",
       "</div>"
      ],
      "text/plain": [
       "                 Age  Unnamed: 16   Unnamed: 17  Unnamed: 18\n",
       "count  118542.000000          0.0      2.000000          1.0\n",
       "mean       43.823716          NaN  21954.000000       4010.0\n",
       "std        15.317243          NaN   2835.498193          NaN\n",
       "min        18.000000          NaN  19949.000000       4010.0\n",
       "25%        30.000000          NaN  20951.500000       4010.0\n",
       "50%        44.000000          NaN  21954.000000       4010.0\n",
       "75%        57.000000          NaN  22956.500000       4010.0\n",
       "max        70.000000          NaN  23959.000000       4010.0"
      ]
     },
     "execution_count": 3,
     "metadata": {},
     "output_type": "execute_result"
    }
   ],
   "source": [
    "df.describe()"
   ]
  },
  {
   "cell_type": "code",
   "execution_count": 4,
   "id": "a695f826",
   "metadata": {},
   "outputs": [
    {
     "name": "stdout",
     "output_type": "stream",
     "text": [
      "<class 'pandas.core.frame.DataFrame'>\n",
      "RangeIndex: 119779 entries, 0 to 119778\n",
      "Data columns (total 19 columns):\n",
      " #   Column                              Non-Null Count   Dtype  \n",
      "---  ------                              --------------   -----  \n",
      " 0   Customer ID                         119378 non-null  object \n",
      " 1   Subscription Length (Months)        119379 non-null  object \n",
      " 2   Customer Satisfaction Score (1-10)  119369 non-null  object \n",
      " 3   Daily Watch Time (Hours)            119352 non-null  object \n",
      " 4   Engagement Rate (1-10)              119354 non-null  object \n",
      " 5   Device Used Most Often              119332 non-null  object \n",
      " 6   Genre Preference                    119342 non-null  object \n",
      " 7   Region                              119380 non-null  object \n",
      " 8   Payment History (On-Time/Delayed)   119330 non-null  object \n",
      " 9   Subscription Plan                   119383 non-null  object \n",
      " 10  Churn status                        119391 non-null  object \n",
      " 11  Support Queries Logged              119349 non-null  object \n",
      " 12  Age                                 118542 non-null  float64\n",
      " 13  Monthly Income ($)                  119360 non-null  object \n",
      " 14  Promotional Offers Used             119336 non-null  object \n",
      " 15  Number of Profiles Created          119381 non-null  object \n",
      " 16  Unnamed: 16                         0 non-null       float64\n",
      " 17  Unnamed: 17                         2 non-null       float64\n",
      " 18  Unnamed: 18                         1 non-null       float64\n",
      "dtypes: float64(4), object(15)\n",
      "memory usage: 17.4+ MB\n"
     ]
    }
   ],
   "source": [
    "df.info()"
   ]
  },
  {
   "cell_type": "code",
   "execution_count": 5,
   "id": "2b835e1f",
   "metadata": {},
   "outputs": [
    {
     "data": {
      "text/plain": [
       "Customer ID                              401\n",
       "Subscription Length (Months)             400\n",
       "Customer Satisfaction Score (1-10)       410\n",
       "Daily Watch Time (Hours)                 427\n",
       "Engagement Rate (1-10)                   425\n",
       "Device Used Most Often                   447\n",
       "Genre Preference                         437\n",
       "Region                                   399\n",
       "Payment History (On-Time/Delayed)        449\n",
       "Subscription Plan                        396\n",
       "Churn status                             388\n",
       "Support Queries Logged                   430\n",
       "Age                                     1237\n",
       "Monthly Income ($)                       419\n",
       "Promotional Offers Used                  443\n",
       "Number of Profiles Created               398\n",
       "Unnamed: 16                           119779\n",
       "Unnamed: 17                           119777\n",
       "Unnamed: 18                           119778\n",
       "dtype: int64"
      ]
     },
     "execution_count": 5,
     "metadata": {},
     "output_type": "execute_result"
    }
   ],
   "source": [
    "df.isnull().sum()"
   ]
  },
  {
   "cell_type": "code",
   "execution_count": 6,
   "id": "663b2c79",
   "metadata": {},
   "outputs": [
    {
     "name": "stdout",
     "output_type": "stream",
     "text": [
      "        Unnamed: 16  Unnamed: 17  Unnamed: 18\n",
      "0               NaN          NaN          NaN\n",
      "1               NaN          NaN          NaN\n",
      "2               NaN          NaN          NaN\n",
      "3               NaN          NaN          NaN\n",
      "4               NaN          NaN          NaN\n",
      "...             ...          ...          ...\n",
      "119774          NaN          NaN          NaN\n",
      "119775          NaN          NaN          NaN\n",
      "119776          NaN          NaN          NaN\n",
      "119777          NaN          NaN          NaN\n",
      "119778          NaN          NaN          NaN\n",
      "\n",
      "[119779 rows x 3 columns]\n"
     ]
    }
   ],
   "source": [
    "print(df[['Unnamed: 16', 'Unnamed: 17', 'Unnamed: 18']])"
   ]
  },
  {
   "cell_type": "code",
   "execution_count": 7,
   "id": "25c26150",
   "metadata": {},
   "outputs": [],
   "source": [
    "df.drop(columns=['Unnamed: 16', 'Unnamed: 17', 'Unnamed: 18'], inplace=True) # 불필요한 열 제거(전부 nan값)"
   ]
  },
  {
   "cell_type": "code",
   "execution_count": 8,
   "id": "a29da923",
   "metadata": {},
   "outputs": [
    {
     "data": {
      "text/html": [
       "<div>\n",
       "<style scoped>\n",
       "    .dataframe tbody tr th:only-of-type {\n",
       "        vertical-align: middle;\n",
       "    }\n",
       "\n",
       "    .dataframe tbody tr th {\n",
       "        vertical-align: top;\n",
       "    }\n",
       "\n",
       "    .dataframe thead th {\n",
       "        text-align: right;\n",
       "    }\n",
       "</style>\n",
       "<table border=\"1\" class=\"dataframe\">\n",
       "  <thead>\n",
       "    <tr style=\"text-align: right;\">\n",
       "      <th></th>\n",
       "      <th>Age</th>\n",
       "    </tr>\n",
       "  </thead>\n",
       "  <tbody>\n",
       "    <tr>\n",
       "      <th>count</th>\n",
       "      <td>118542.000000</td>\n",
       "    </tr>\n",
       "    <tr>\n",
       "      <th>mean</th>\n",
       "      <td>43.823716</td>\n",
       "    </tr>\n",
       "    <tr>\n",
       "      <th>std</th>\n",
       "      <td>15.317243</td>\n",
       "    </tr>\n",
       "    <tr>\n",
       "      <th>min</th>\n",
       "      <td>18.000000</td>\n",
       "    </tr>\n",
       "    <tr>\n",
       "      <th>25%</th>\n",
       "      <td>30.000000</td>\n",
       "    </tr>\n",
       "    <tr>\n",
       "      <th>50%</th>\n",
       "      <td>44.000000</td>\n",
       "    </tr>\n",
       "    <tr>\n",
       "      <th>75%</th>\n",
       "      <td>57.000000</td>\n",
       "    </tr>\n",
       "    <tr>\n",
       "      <th>max</th>\n",
       "      <td>70.000000</td>\n",
       "    </tr>\n",
       "  </tbody>\n",
       "</table>\n",
       "</div>"
      ],
      "text/plain": [
       "                 Age\n",
       "count  118542.000000\n",
       "mean       43.823716\n",
       "std        15.317243\n",
       "min        18.000000\n",
       "25%        30.000000\n",
       "50%        44.000000\n",
       "75%        57.000000\n",
       "max        70.000000"
      ]
     },
     "execution_count": 8,
     "metadata": {},
     "output_type": "execute_result"
    }
   ],
   "source": [
    "df.describe() # 수치형 데이터 요약 통계량 확인"
   ]
  },
  {
   "cell_type": "markdown",
   "id": "0464dae2",
   "metadata": {},
   "source": [
    "오브젝트 값 확인하고 숫자형, 문자형 구분\n",
    "\n",
    " 0   Customer ID                         119378 non-null  object \n",
    "\n",
    " 1   Subscription Length (Months)        119379 non-null  object \n",
    "\n",
    " 2   Customer Satisfaction Score (1-10)  119369 non-null  object \n",
    "\n",
    " 3   Daily Watch Time (Hours)            119352 non-null  object \n",
    "\n",
    " 4   Engagement Rate (1-10)              119354 non-null  object \n",
    "\n",
    " 5   Device Used Most Often              119332 non-null  object \n",
    " \n",
    " 6   Genre Preference                    119342 non-null  object \n",
    "\n",
    " 7   Region                              119380 non-null  object \n",
    "\n",
    " 8   Payment History (On-Time/Delayed)   119330 non-null  object \n",
    "\n",
    " 9   Subscription Plan                   119383 non-null  object \n",
    "\n",
    " 10  Churn status                        119391 non-null  object \n",
    "\n",
    " 11  Support Queries Logged              119349 non-null  object \n",
    "\n",
    " 13  Monthly Income ($)                  119360 non-null  object \n",
    "\n",
    " 14  Promotional Offers Used             119336 non-null  object \n",
    "\n",
    " 15  Number of Profiles Created          119381 non-null  object "
   ]
  },
  {
   "cell_type": "markdown",
   "id": "7c5e7377",
   "metadata": {},
   "source": [
    "---\n",
    "숫자열 컬럼"
   ]
  },
  {
   "cell_type": "code",
   "execution_count": 9,
   "id": "bf9c862e",
   "metadata": {},
   "outputs": [
    {
     "name": "stdout",
     "output_type": "stream",
     "text": [
      "Customer ID\n",
      "###        413\n",
      "C028760      2\n",
      "C013775      2\n",
      "C024383      2\n",
      "C030099      2\n",
      "          ... \n",
      "C118031      1\n",
      "C118032      1\n",
      "C118033      1\n",
      "C118034      1\n",
      "C000006      1\n",
      "Name: count, Length: 117245, dtype: int64\n"
     ]
    }
   ],
   "source": [
    "print(df['Customer ID'].value_counts()) # 고객 ID의 고유값 개수 확인(중복된 고객이 있는지 확인)"
   ]
  },
  {
   "cell_type": "code",
   "execution_count": 10,
   "id": "980e1aad",
   "metadata": {},
   "outputs": [
    {
     "name": "stdout",
     "output_type": "stream",
     "text": [
      "119779\n",
      "117245\n",
      "117246\n"
     ]
    }
   ],
   "source": [
    "# 결측치 401개 존재\n",
    "print(len(df)) # 전체 행 개수 확인\n",
    "print(df['Customer ID'].nunique()) # 고객 ID의 고유값 개수 확인(중복된 고객이 있는지 확인)\n",
    "df = df.drop_duplicates(subset=['Customer ID']) # 고객 ID를 기준으로 중복된 행 제거\n",
    "print(len(df)) # 중복 제거 후 행 개수 확인"
   ]
  },
  {
   "cell_type": "code",
   "execution_count": 11,
   "id": "b28b4ce0",
   "metadata": {},
   "outputs": [
    {
     "name": "stdout",
     "output_type": "stream",
     "text": [
      "Subscription Length (Months)\n",
      "6      25988\n",
      "3      23070\n",
      "24     23000\n",
      "12     22289\n",
      "1      22003\n",
      "###      367\n",
      "2z        20\n",
      "x4        18\n",
      "2x        18\n",
      "2y        17\n",
      "x2        15\n",
      "1x        14\n",
      "1y        13\n",
      "z4        11\n",
      "y2        10\n",
      "1z         9\n",
      "z2         7\n",
      "y4         7\n",
      "Name: count, dtype: int64\n"
     ]
    }
   ],
   "source": [
    "print(df['Subscription Length (Months)'].value_counts()) # 구독 기간 분포 확인"
   ]
  },
  {
   "cell_type": "code",
   "execution_count": 12,
   "id": "60aa6080",
   "metadata": {},
   "outputs": [],
   "source": [
    "df['Subscription Length (Months)'] = pd.to_numeric(df['Subscription Length (Months)'], errors='coerce') # 숫자형으로 변환, 변환 불가 시 NaN 처리(컬럼명을 월 단위로 명시되어 있기 때문에 나머지 값 제거)"
   ]
  },
  {
   "cell_type": "code",
   "execution_count": 13,
   "id": "30ee17ba",
   "metadata": {},
   "outputs": [
    {
     "name": "stdout",
     "output_type": "stream",
     "text": [
      "Customer Satisfaction Score (1-10)\n",
      "2     13291\n",
      "4     12471\n",
      "5     12463\n",
      "3     12130\n",
      "6     11975\n",
      "10    11628\n",
      "8     11065\n",
      "1     11061\n",
      "9     10372\n",
      "7     10013\n",
      "15      352\n",
      "1z       12\n",
      "x0       10\n",
      "1x        9\n",
      "z0        7\n",
      "y0        4\n",
      "1y        3\n",
      "Name: count, dtype: int64\n"
     ]
    }
   ],
   "source": [
    "print(df['Customer Satisfaction Score (1-10)'].value_counts()) # 고객 만족도 점수 분포 확인"
   ]
  },
  {
   "cell_type": "code",
   "execution_count": 14,
   "id": "0923a9b6",
   "metadata": {},
   "outputs": [],
   "source": [
    "df['Customer Satisfaction Score (1-10)'] = pd.to_numeric(df['Customer Satisfaction Score (1-10)'], errors='coerce') # 숫자형으로 변환, 변환 불가 시 NaN 처리(컬럼 명이 1~10으로 명시되어 있기 때문에 나머지 값 제거)"
   ]
  },
  {
   "cell_type": "code",
   "execution_count": 15,
   "id": "b1b3ec80",
   "metadata": {},
   "outputs": [],
   "source": [
    "df = df[(df['Customer Satisfaction Score (1-10)'] >= 1) & (df['Customer Satisfaction Score (1-10)'] <= 10)] # 고객 만족도 점수가 1~10 사이인 행만 남김"
   ]
  },
  {
   "cell_type": "code",
   "execution_count": 16,
   "id": "ece935b7",
   "metadata": {},
   "outputs": [
    {
     "name": "stdout",
     "output_type": "stream",
     "text": [
      "Daily Watch Time (Hours)\n",
      "4.59    1037\n",
      "3.25     815\n",
      "0.87     804\n",
      "0.77     699\n",
      "3.11     697\n",
      "        ... \n",
      "3.z3       1\n",
      "x.26       1\n",
      "2y99       1\n",
      "4z58       1\n",
      "3z26       1\n",
      "Name: count, Length: 721, dtype: int64\n"
     ]
    }
   ],
   "source": [
    "print(df['Daily Watch Time (Hours)'].value_counts()) # 일일 시청 시간 분포 확인"
   ]
  },
  {
   "cell_type": "code",
   "execution_count": 17,
   "id": "084862d2",
   "metadata": {},
   "outputs": [],
   "source": [
    "df['Daily Watch Time (Hours)'] = pd.to_numeric(df['Daily Watch Time (Hours)'], errors='coerce') # 숫자형으로 변환, 변환 불가 시 NaN 처리(컬럼 명이 시간 단위로 명시되어 있기 때문에 나머지 값 제거)"
   ]
  },
  {
   "cell_type": "code",
   "execution_count": 18,
   "id": "842f281b",
   "metadata": {},
   "outputs": [
    {
     "name": "stdout",
     "output_type": "stream",
     "text": [
      "Engagement Rate (1-10)\n",
      "9     13413\n",
      "6     13198\n",
      "2     13076\n",
      "8     11223\n",
      "5     11213\n",
      "3     11125\n",
      "1     10876\n",
      "10    10636\n",
      "4     10520\n",
      "7     10418\n",
      "-2      364\n",
      "1x       11\n",
      "y0        6\n",
      "z0        5\n",
      "1z        5\n",
      "1y        4\n",
      "x0        1\n",
      "Name: count, dtype: int64\n"
     ]
    }
   ],
   "source": [
    "print(df['Engagement Rate (1-10)'].value_counts()) # 참여도 점수 분포 확인"
   ]
  },
  {
   "cell_type": "code",
   "execution_count": 19,
   "id": "c4f84719",
   "metadata": {},
   "outputs": [],
   "source": [
    "df['Engagement Rate (1-10)'] = pd.to_numeric(df['Engagement Rate (1-10)'], errors='coerce') # 숫자형으로 변환, 변환 불가 시 NaN 처리(컬럼 명이 1~10으로 명시되어 있기 때문에 나머지 값 제거)"
   ]
  },
  {
   "cell_type": "code",
   "execution_count": 20,
   "id": "23de7915",
   "metadata": {},
   "outputs": [],
   "source": [
    "df.loc[df['Engagement Rate (1-10)'] < 0, 'Engagement Rate (1-10)'] = np.nan # 참여도 점수가 0 미만인 경우 NaN 처리"
   ]
  },
  {
   "cell_type": "code",
   "execution_count": 21,
   "id": "a4a8c9ee",
   "metadata": {},
   "outputs": [],
   "source": [
    "df = df[(df['Engagement Rate (1-10)'] >= 1) & (df['Engagement Rate (1-10)'] <= 10)] # 고객 만족도 점수가 1~10 사이인 행만 남김"
   ]
  },
  {
   "cell_type": "code",
   "execution_count": 22,
   "id": "28a89016",
   "metadata": {},
   "outputs": [
    {
     "name": "stdout",
     "output_type": "stream",
     "text": [
      "Support Queries Logged\n",
      "3       11750\n",
      "6       11728\n",
      "4       10925\n",
      "7       10805\n",
      "9       10589\n",
      "0       10588\n",
      "5       10333\n",
      "2       10206\n",
      "10       9636\n",
      "1        9561\n",
      "8        8845\n",
      "Many      349\n",
      "1y          8\n",
      "1z          6\n",
      "x0          6\n",
      "z0          5\n",
      "1x          5\n",
      "y0          1\n",
      "Name: count, dtype: int64\n"
     ]
    }
   ],
   "source": [
    "print(df['Support Queries Logged'].value_counts()) # 지원 문의 기록 분포 확인"
   ]
  },
  {
   "cell_type": "code",
   "execution_count": 23,
   "id": "0a27c69c",
   "metadata": {},
   "outputs": [
    {
     "name": "stdout",
     "output_type": "stream",
     "text": [
      "Support Queries Logged\n",
      "3       11750\n",
      "6       11728\n",
      "4       10925\n",
      "7       10805\n",
      "9       10589\n",
      "0       10588\n",
      "5       10333\n",
      "2       10206\n",
      "10       9636\n",
      "1        9561\n",
      "8        8845\n",
      "Many      349\n",
      "1y          8\n",
      "1z          6\n",
      "x0          6\n",
      "z0          5\n",
      "1x          5\n",
      "y0          1\n",
      "Name: count, dtype: int64\n"
     ]
    }
   ],
   "source": [
    "print(df['Support Queries Logged'].value_counts()) # 지원 문의 기록 분포 확인"
   ]
  },
  {
   "cell_type": "code",
   "execution_count": 24,
   "id": "9371bb2a",
   "metadata": {},
   "outputs": [],
   "source": [
    "df['Support Queries Logged'] = pd.to_numeric(df['Support Queries Logged'], errors='coerce') # 숫자형으로 변환, 변환 불가 시 NaN 처리(many 값은 표현상 10이상인 것 같지만 표본이 적어 제거)"
   ]
  },
  {
   "cell_type": "code",
   "execution_count": 25,
   "id": "08117b3b",
   "metadata": {},
   "outputs": [
    {
     "name": "stdout",
     "output_type": "stream",
     "text": [
      "Monthly Income ($)\n",
      "3085       462\n",
      "6014       345\n",
      "4086       345\n",
      "Unknown    321\n",
      "3942       234\n",
      "          ... \n",
      "y120         1\n",
      "55z6         1\n",
      "9y48         1\n",
      "1y30         1\n",
      "x611         1\n",
      "Name: count, Length: 1209, dtype: int64\n"
     ]
    }
   ],
   "source": [
    "print(df['Monthly Income ($)'].value_counts()) # 월 소득 분포 확인"
   ]
  },
  {
   "cell_type": "code",
   "execution_count": 26,
   "id": "4f43ed37",
   "metadata": {},
   "outputs": [
    {
     "name": "stdout",
     "output_type": "stream",
     "text": [
      "Monthly Income ($)\n",
      "3085    462\n",
      "6014    345\n",
      "4086    345\n",
      "3942    234\n",
      "5577    234\n",
      "       ... \n",
      "2426    109\n",
      "6736    109\n",
      "747     109\n",
      "4952    109\n",
      "5872    109\n",
      "Name: count, Length: 933, dtype: int64\n"
     ]
    }
   ],
   "source": [
    "numerlic_monthly_income = df['Monthly Income ($)'].astype(str).str.contains(r'[^0-9.]', na=False) # 숫자와 소수점 이외의 문자가 포함된 행 찾기\n",
    "df = df[~numerlic_monthly_income] # 숫자와 소수점 이외의 문자가 포함된 행 제거\n",
    "df['Monthly Income ($)'] = pd.to_numeric(df['Monthly Income ($)'], errors='coerce') # 숫자형으로 변환, 변환 불가 시 NaN 처리\n",
    "print(df['Monthly Income ($)'].value_counts()) # 월 소득 분포 확인"
   ]
  },
  {
   "cell_type": "code",
   "execution_count": 27,
   "id": "50607669",
   "metadata": {},
   "outputs": [
    {
     "name": "stdout",
     "output_type": "stream",
     "text": [
      "Promotional Offers Used\n",
      "0      19964\n",
      "1      19661\n",
      "3      19514\n",
      "2      19315\n",
      "4      18932\n",
      "5      16771\n",
      "###      286\n",
      "Name: count, dtype: int64\n"
     ]
    }
   ],
   "source": [
    "print(df['Promotional Offers Used'].value_counts()) # 사용한 프로모션 오퍼 분포 확인"
   ]
  },
  {
   "cell_type": "code",
   "execution_count": 28,
   "id": "de1d2b4a",
   "metadata": {},
   "outputs": [],
   "source": [
    "df['Promotional Offers Used'] = pd.to_numeric(df['Promotional Offers Used'], errors='coerce') # 숫자형으로 변환, 변환 불가 시 NaN 처리"
   ]
  },
  {
   "cell_type": "code",
   "execution_count": 29,
   "id": "feb4c30b",
   "metadata": {},
   "outputs": [
    {
     "name": "stdout",
     "output_type": "stream",
     "text": [
      "Number of Profiles Created\n",
      "1      25541\n",
      "4      23659\n",
      "2      22367\n",
      "5      21408\n",
      "3      21214\n",
      "###      287\n",
      "Name: count, dtype: int64\n"
     ]
    }
   ],
   "source": [
    "print(df['Number of Profiles Created'].value_counts()) # 생성한 프로필 수 분포 확인"
   ]
  },
  {
   "cell_type": "code",
   "execution_count": 30,
   "id": "b03918a4",
   "metadata": {},
   "outputs": [],
   "source": [
    "df['Number of Profiles Created'] = pd.to_numeric(df['Number of Profiles Created'], errors='coerce') # 숫자형으로 변환, 변환 불가 시 NaN 처리"
   ]
  },
  {
   "cell_type": "code",
   "execution_count": 31,
   "id": "5cc81cd6",
   "metadata": {},
   "outputs": [
    {
     "data": {
      "text/html": [
       "<div>\n",
       "<style scoped>\n",
       "    .dataframe tbody tr th:only-of-type {\n",
       "        vertical-align: middle;\n",
       "    }\n",
       "\n",
       "    .dataframe tbody tr th {\n",
       "        vertical-align: top;\n",
       "    }\n",
       "\n",
       "    .dataframe thead th {\n",
       "        text-align: right;\n",
       "    }\n",
       "</style>\n",
       "<table border=\"1\" class=\"dataframe\">\n",
       "  <thead>\n",
       "    <tr style=\"text-align: right;\">\n",
       "      <th></th>\n",
       "      <th>Subscription Length (Months)</th>\n",
       "      <th>Customer Satisfaction Score (1-10)</th>\n",
       "      <th>Daily Watch Time (Hours)</th>\n",
       "      <th>Engagement Rate (1-10)</th>\n",
       "      <th>Support Queries Logged</th>\n",
       "      <th>Age</th>\n",
       "      <th>Monthly Income ($)</th>\n",
       "      <th>Promotional Offers Used</th>\n",
       "      <th>Number of Profiles Created</th>\n",
       "    </tr>\n",
       "  </thead>\n",
       "  <tbody>\n",
       "    <tr>\n",
       "      <th>count</th>\n",
       "      <td>114059.000000</td>\n",
       "      <td>114764.000000</td>\n",
       "      <td>113800.000000</td>\n",
       "      <td>114764.000000</td>\n",
       "      <td>114095.000000</td>\n",
       "      <td>113845.000000</td>\n",
       "      <td>114764.000000</td>\n",
       "      <td>114157.000000</td>\n",
       "      <td>114189.000000</td>\n",
       "    </tr>\n",
       "    <tr>\n",
       "      <th>mean</th>\n",
       "      <td>9.169491</td>\n",
       "      <td>5.378385</td>\n",
       "      <td>2.828675</td>\n",
       "      <td>5.510909</td>\n",
       "      <td>4.949314</td>\n",
       "      <td>43.846335</td>\n",
       "      <td>5251.483035</td>\n",
       "      <td>2.421367</td>\n",
       "      <td>2.938926</td>\n",
       "    </tr>\n",
       "    <tr>\n",
       "      <th>std</th>\n",
       "      <td>8.212657</td>\n",
       "      <td>2.854364</td>\n",
       "      <td>1.302063</td>\n",
       "      <td>2.870003</td>\n",
       "      <td>3.110216</td>\n",
       "      <td>15.346386</td>\n",
       "      <td>2719.714973</td>\n",
       "      <td>1.688414</td>\n",
       "      <td>1.429672</td>\n",
       "    </tr>\n",
       "    <tr>\n",
       "      <th>min</th>\n",
       "      <td>1.000000</td>\n",
       "      <td>1.000000</td>\n",
       "      <td>0.500000</td>\n",
       "      <td>1.000000</td>\n",
       "      <td>0.000000</td>\n",
       "      <td>18.000000</td>\n",
       "      <td>510.000000</td>\n",
       "      <td>0.000000</td>\n",
       "      <td>1.000000</td>\n",
       "    </tr>\n",
       "    <tr>\n",
       "      <th>25%</th>\n",
       "      <td>3.000000</td>\n",
       "      <td>3.000000</td>\n",
       "      <td>1.650000</td>\n",
       "      <td>3.000000</td>\n",
       "      <td>2.000000</td>\n",
       "      <td>30.000000</td>\n",
       "      <td>3071.000000</td>\n",
       "      <td>1.000000</td>\n",
       "      <td>2.000000</td>\n",
       "    </tr>\n",
       "    <tr>\n",
       "      <th>50%</th>\n",
       "      <td>6.000000</td>\n",
       "      <td>5.000000</td>\n",
       "      <td>2.890000</td>\n",
       "      <td>6.000000</td>\n",
       "      <td>5.000000</td>\n",
       "      <td>44.000000</td>\n",
       "      <td>5272.000000</td>\n",
       "      <td>2.000000</td>\n",
       "      <td>3.000000</td>\n",
       "    </tr>\n",
       "    <tr>\n",
       "      <th>75%</th>\n",
       "      <td>12.000000</td>\n",
       "      <td>8.000000</td>\n",
       "      <td>3.930000</td>\n",
       "      <td>8.000000</td>\n",
       "      <td>8.000000</td>\n",
       "      <td>57.000000</td>\n",
       "      <td>7596.000000</td>\n",
       "      <td>4.000000</td>\n",
       "      <td>4.000000</td>\n",
       "    </tr>\n",
       "    <tr>\n",
       "      <th>max</th>\n",
       "      <td>24.000000</td>\n",
       "      <td>10.000000</td>\n",
       "      <td>5.000000</td>\n",
       "      <td>10.000000</td>\n",
       "      <td>10.000000</td>\n",
       "      <td>70.000000</td>\n",
       "      <td>9994.000000</td>\n",
       "      <td>5.000000</td>\n",
       "      <td>5.000000</td>\n",
       "    </tr>\n",
       "  </tbody>\n",
       "</table>\n",
       "</div>"
      ],
      "text/plain": [
       "       Subscription Length (Months)  Customer Satisfaction Score (1-10)  \\\n",
       "count                 114059.000000                       114764.000000   \n",
       "mean                       9.169491                            5.378385   \n",
       "std                        8.212657                            2.854364   \n",
       "min                        1.000000                            1.000000   \n",
       "25%                        3.000000                            3.000000   \n",
       "50%                        6.000000                            5.000000   \n",
       "75%                       12.000000                            8.000000   \n",
       "max                       24.000000                           10.000000   \n",
       "\n",
       "       Daily Watch Time (Hours)  Engagement Rate (1-10)  \\\n",
       "count             113800.000000           114764.000000   \n",
       "mean                   2.828675                5.510909   \n",
       "std                    1.302063                2.870003   \n",
       "min                    0.500000                1.000000   \n",
       "25%                    1.650000                3.000000   \n",
       "50%                    2.890000                6.000000   \n",
       "75%                    3.930000                8.000000   \n",
       "max                    5.000000               10.000000   \n",
       "\n",
       "       Support Queries Logged            Age  Monthly Income ($)  \\\n",
       "count           114095.000000  113845.000000       114764.000000   \n",
       "mean                 4.949314      43.846335         5251.483035   \n",
       "std                  3.110216      15.346386         2719.714973   \n",
       "min                  0.000000      18.000000          510.000000   \n",
       "25%                  2.000000      30.000000         3071.000000   \n",
       "50%                  5.000000      44.000000         5272.000000   \n",
       "75%                  8.000000      57.000000         7596.000000   \n",
       "max                 10.000000      70.000000         9994.000000   \n",
       "\n",
       "       Promotional Offers Used  Number of Profiles Created  \n",
       "count            114157.000000               114189.000000  \n",
       "mean                  2.421367                    2.938926  \n",
       "std                   1.688414                    1.429672  \n",
       "min                   0.000000                    1.000000  \n",
       "25%                   1.000000                    2.000000  \n",
       "50%                   2.000000                    3.000000  \n",
       "75%                   4.000000                    4.000000  \n",
       "max                   5.000000                    5.000000  "
      ]
     },
     "execution_count": 31,
     "metadata": {},
     "output_type": "execute_result"
    }
   ],
   "source": [
    "df.describe()"
   ]
  },
  {
   "cell_type": "markdown",
   "id": "4cdee45c",
   "metadata": {},
   "source": [
    "---\n",
    "문자열"
   ]
  },
  {
   "cell_type": "code",
   "execution_count": 32,
   "id": "f96c8b66",
   "metadata": {},
   "outputs": [
    {
     "name": "stdout",
     "output_type": "stream",
     "text": [
      "Device Used Most Often\n",
      "Laptop      25597\n",
      "Mobile      22871\n",
      "Tablet      22751\n",
      "Smart TV    21520\n",
      "Desktop     21078\n",
      "            ...  \n",
      "Desktox         1\n",
      "Tabyet          1\n",
      "Tablex          1\n",
      "Deskyop         1\n",
      "Mobilz          1\n",
      "Name: count, Length: 97, dtype: int64\n"
     ]
    }
   ],
   "source": [
    "print(df['Device Used Most Often'].value_counts()) # 가장 자주 사용하는 기기 분포 확인"
   ]
  },
  {
   "cell_type": "code",
   "execution_count": 33,
   "id": "4704f6db",
   "metadata": {},
   "outputs": [
    {
     "name": "stdout",
     "output_type": "stream",
     "text": [
      "Device Used Most Often\n",
      "Laptop      25597\n",
      "Mobile      22871\n",
      "Tablet      22751\n",
      "Smart TV    21520\n",
      "Desktop     21078\n",
      "Name: count, dtype: int64\n"
     ]
    }
   ],
   "source": [
    "valid_devices = ['Laptop', 'Mobile', 'Tablet', 'Smart TV', 'Desktop'] # 유효한 기기 목록\n",
    "df = df[df['Device Used Most Often'].isin(valid_devices)] # 유효한 기기만 남기고 나머지 제거\n",
    "print(df['Device Used Most Often'].value_counts()) # 가장 자주 사용하는 기기 분포 확인"
   ]
  },
  {
   "cell_type": "code",
   "execution_count": 34,
   "id": "d8f56e5a",
   "metadata": {},
   "outputs": [
    {
     "name": "stdout",
     "output_type": "stream",
     "text": [
      "Genre Preference\n",
      "Sci-Fi         18870\n",
      "Romance        16318\n",
      "Drama          16275\n",
      "Thriller       15836\n",
      "Documentary    15671\n",
      "               ...  \n",
      "Thyiller           1\n",
      "Documentxry        1\n",
      "ScixFi             1\n",
      "Thrillex           1\n",
      "Docxmentary        1\n",
      "Name: count, Length: 126, dtype: int64\n"
     ]
    }
   ],
   "source": [
    "print(df['Genre Preference'].value_counts()) # 선호 장르 분포 확인"
   ]
  },
  {
   "cell_type": "code",
   "execution_count": 35,
   "id": "dcf53691",
   "metadata": {},
   "outputs": [
    {
     "name": "stdout",
     "output_type": "stream",
     "text": [
      "Genre Preference\n",
      "Sci-Fi         18870\n",
      "Romance        16318\n",
      "Drama          16275\n",
      "Thriller       15836\n",
      "Documentary    15671\n",
      "Comedy         14691\n",
      "Name: count, dtype: int64\n"
     ]
    }
   ],
   "source": [
    "valid_genres = ['Sci-Fi', 'Romance', 'Drama', 'Thriller', 'Documentary', 'Comedy'] # 유효한 장르 목록\n",
    "df = df[df['Genre Preference'].isin(valid_genres)] # 유효한 장르만 남기고 나머지 제거\n",
    "print(df['Genre Preference'].value_counts()) # 선호 장르 분포 확인"
   ]
  },
  {
   "cell_type": "code",
   "execution_count": 36,
   "id": "a7980a05",
   "metadata": {},
   "outputs": [
    {
     "name": "stdout",
     "output_type": "stream",
     "text": [
      "Region\n",
      "Asia             20417\n",
      "South America    20100\n",
      "Europe           19563\n",
      "Africa           18851\n",
      "North America    18090\n",
      "Eurasia            199\n",
      "Asiy                 7\n",
      "Afyica               7\n",
      "Ezrope               6\n",
      "Afzica               5\n",
      "Afriza               5\n",
      "Azia                 5\n",
      "Eurype               5\n",
      "Ayia                 5\n",
      "South Amyrica        5\n",
      "Euyope               5\n",
      "Asix                 5\n",
      "Asya                 4\n",
      "Africy               4\n",
      "zurope               4\n",
      "South Ayerica        4\n",
      "Europx               4\n",
      "Afxica               4\n",
      "Soxth America        4\n",
      "yfrica               4\n",
      "Soutz America        3\n",
      "Axia                 3\n",
      "North Axerica        3\n",
      "South Ameriya        3\n",
      "Afriya               3\n",
      "Azrica               3\n",
      "zfrica               3\n",
      "Ayrica               3\n",
      "North Americy        3\n",
      "yurope               3\n",
      "Souyh America        3\n",
      "North Amexica        3\n",
      "xurope               3\n",
      "zsia                 3\n",
      "ysia                 3\n",
      "xsia                 3\n",
      "Exrope               3\n",
      "Asxa                 3\n",
      "Asiz                 3\n",
      "NorthyAmerica        3\n",
      "South Americy        2\n",
      "North Amerixa        2\n",
      "Noyth America        2\n",
      "Euroxe               2\n",
      "North Amerzca        2\n",
      "Nortz America        2\n",
      "Axrica               2\n",
      "South xmerica        2\n",
      "Asza                 2\n",
      "South Amerzca        2\n",
      "Euroye               2\n",
      "Norxh America        2\n",
      "Afrixa               2\n",
      "zorth America        2\n",
      "Europy               2\n",
      "North zmerica        2\n",
      "Afrxca               2\n",
      "North Amezica        2\n",
      "SouthxAmerica        2\n",
      "South Axerica        2\n",
      "South Amezica        2\n",
      "Souty America        1\n",
      "North Amzrica        1\n",
      "Soyth America        1\n",
      "Africx               1\n",
      "South Amerixa        1\n",
      "Euxope               1\n",
      "Soutx America        1\n",
      "South Amerxca        1\n",
      "North Ameyica        1\n",
      "Szuth America        1\n",
      "Euzope               1\n",
      "Euroze               1\n",
      "NorthxAmerica        1\n",
      "Africz               1\n",
      "Nzrth America        1\n",
      "North Amerxca        1\n",
      "Noxth America        1\n",
      "North Azerica        1\n",
      "South Amxrica        1\n",
      "Syuth America        1\n",
      "North Americz        1\n",
      "Europz               1\n",
      "Noryh America        1\n",
      "Afrzca               1\n",
      "South Americx        1\n",
      "Nortx America        1\n",
      "Souxh America        1\n",
      "South Ameryca        1\n",
      "Eyrope               1\n",
      "Eurzpe               1\n",
      "xfrica               1\n",
      "Sxuth America        1\n",
      "North Americx        1\n",
      "North xmerica        1\n",
      "South zmerica        1\n",
      "youth America        1\n",
      "South Ameyica        1\n",
      "Name: count, dtype: int64\n"
     ]
    }
   ],
   "source": [
    "pd.set_option('display.max_rows', None) # 모든 행 출력 설정\n",
    "print(df['Region'].value_counts()) # 지역 분포 확인\n",
    "pd.reset_option('display.max_rows') # 설정 초기화"
   ]
  },
  {
   "cell_type": "code",
   "execution_count": 37,
   "id": "09f49335",
   "metadata": {},
   "outputs": [
    {
     "name": "stdout",
     "output_type": "stream",
     "text": [
      "Region\n",
      "Asia             20417\n",
      "South America    20100\n",
      "Europe           19563\n",
      "Africa           18851\n",
      "North America    18090\n",
      "Eurasia            199\n",
      "Name: count, dtype: int64\n"
     ]
    }
   ],
   "source": [
    "valid_regions = ['Asia', 'Africa', 'Europe', 'South America', 'North America', 'Eurasia'] # 유효한 지역 값 리스트\n",
    "df = df[df['Region'].isin(valid_regions)] # 유효한 지역 값만 남기고 나머지 행 제거\n",
    "print(df['Region'].value_counts()) # 지역 분포 확인"
   ]
  },
  {
   "cell_type": "code",
   "execution_count": 38,
   "id": "c3f7a478",
   "metadata": {},
   "outputs": [
    {
     "name": "stdout",
     "output_type": "stream",
     "text": [
      "Payment History (On-Time/Delayed)\n",
      "Delayed    49605\n",
      "On-Time    47006\n",
      "Late         210\n",
      "On-Tiye       11\n",
      "Delayex       10\n",
      "On-Timx        9\n",
      "On-Tzme        8\n",
      "On-Tyme        8\n",
      "Delzyed        7\n",
      "Delaxed        6\n",
      "On-Tixe        6\n",
      "Deyayed        6\n",
      "Delazed        6\n",
      "Dylayed        6\n",
      "Delayyd        5\n",
      "Delayez        5\n",
      "yelayed        5\n",
      "xn-Time        4\n",
      "OnzTime        4\n",
      "Oy-Time        4\n",
      "zelayed        4\n",
      "zn-Time        4\n",
      "yn-Time        4\n",
      "Delayxd        4\n",
      "Dxlayed        4\n",
      "Delayzd        4\n",
      "OnyTime        4\n",
      "Delyyed        4\n",
      "On-Tize        3\n",
      "OnxTime        3\n",
      "Dezayed        3\n",
      "xelayed        3\n",
      "Delayey        3\n",
      "Oz-Time        3\n",
      "On-Timy        3\n",
      "Delxyed        3\n",
      "Dexayed        3\n",
      "On-zime        3\n",
      "On-Txme        2\n",
      "On-Timz        2\n",
      "Ox-Time        2\n",
      "On-yime        1\n",
      "Dzlayed        1\n",
      "Name: count, dtype: int64\n"
     ]
    },
    {
     "name": "stderr",
     "output_type": "stream",
     "text": [
      "C:\\Users\\Playdata\\AppData\\Local\\Temp\\ipykernel_22064\\1789514189.py:2: FutureWarning: A value is trying to be set on a copy of a DataFrame or Series through chained assignment using an inplace method.\n",
      "The behavior will change in pandas 3.0. This inplace method will never work because the intermediate object on which we are setting values always behaves as a copy.\n",
      "\n",
      "For example, when doing 'df[col].method(value, inplace=True)', try using 'df.method({col: value}, inplace=True)' or df[col] = df[col].method(value) instead, to perform the operation inplace on the original object.\n",
      "\n",
      "\n",
      "  df['Payment History (On-Time/Delayed)'].replace('Late', 'Delayed', inplace=True) # 'Late' 값을 'Delayed'로 통일\n"
     ]
    }
   ],
   "source": [
    "print(df['Payment History (On-Time/Delayed)'].value_counts()) # 결제 이력 분포 확인\n",
    "df['Payment History (On-Time/Delayed)'].replace('Late', 'Delayed', inplace=True) # 'Late' 값을 'Delayed'로 통일\n",
    "valid_payment_history = ['On-Time', 'Delayed'] # 유효한 결제 이력 값 리스트\n",
    "df = df[df['Payment History (On-Time/Delayed)'].isin(valid_payment_history)] # 유효한 결제 이력 값만 남기고 나머지 행 제거"
   ]
  },
  {
   "cell_type": "code",
   "execution_count": 39,
   "id": "88b080f5",
   "metadata": {},
   "outputs": [
    {
     "name": "stdout",
     "output_type": "stream",
     "text": [
      "Payment History (On-Time/Delayed)\n",
      "Delayed    49815\n",
      "On-Time    47006\n",
      "Name: count, dtype: int64\n"
     ]
    }
   ],
   "source": [
    "print(df['Payment History (On-Time/Delayed)'].value_counts()) # 결제 이력 분포 확인"
   ]
  },
  {
   "cell_type": "code",
   "execution_count": 40,
   "id": "d6e289d9",
   "metadata": {},
   "outputs": [
    {
     "name": "stdout",
     "output_type": "stream",
     "text": [
      "Subscription Plan\n",
      "Standard    33296\n",
      "Premium     32746\n",
      "Basic       30225\n",
      "Standrd       174\n",
      "Staxdard        8\n",
      "            ...  \n",
      "ytandard        1\n",
      "Sxandard        1\n",
      "Premizm         1\n",
      "xtandard        1\n",
      "Standarx        1\n",
      "Name: count, Length: 61, dtype: int64\n"
     ]
    }
   ],
   "source": [
    "print(df['Subscription Plan'].value_counts()) # 구독 플랜 분포 확인"
   ]
  },
  {
   "cell_type": "code",
   "execution_count": 41,
   "id": "b35ae331",
   "metadata": {},
   "outputs": [
    {
     "name": "stdout",
     "output_type": "stream",
     "text": [
      "Subscription Plan\n",
      "Standard    33296\n",
      "Premium     32746\n",
      "Basic       30225\n",
      "Name: count, dtype: int64\n"
     ]
    }
   ],
   "source": [
    "valid_plans = ['Basic', 'Standard', 'Premium'] # 유효한 구독 플랜 값 리스트\n",
    "df = df[df['Subscription Plan'].isin(valid_plans)] # 유효한 구독 플랜 값만 남기고 나머지 행 제거\n",
    "print(df['Subscription Plan'].value_counts()) # 구독 플랜 분포 확인"
   ]
  },
  {
   "cell_type": "code",
   "execution_count": 42,
   "id": "19a0a161",
   "metadata": {},
   "outputs": [
    {
     "name": "stdout",
     "output_type": "stream",
     "text": [
      "Churn status\n",
      "Yes      86172\n",
      "No        9636\n",
      "Maybe      166\n",
      "zo          15\n",
      "Yey         13\n",
      "Yex         12\n",
      "Ny          12\n",
      "yo          12\n",
      "Nx          10\n",
      "Yxs         10\n",
      "xes          9\n",
      "Nz           9\n",
      "xo           8\n",
      "zes          7\n",
      "Yez          7\n",
      "yes          6\n",
      "Yzs          6\n",
      "Yys          3\n",
      "Name: count, dtype: int64\n"
     ]
    }
   ],
   "source": [
    "print(df['Churn status'].value_counts()) # 이탈 상태 분포 확인"
   ]
  },
  {
   "cell_type": "code",
   "execution_count": 43,
   "id": "c80c7924",
   "metadata": {},
   "outputs": [
    {
     "name": "stdout",
     "output_type": "stream",
     "text": [
      "Churn status\n",
      "Yes    86172\n",
      "No      9636\n",
      "Name: count, dtype: int64\n"
     ]
    }
   ],
   "source": [
    "valid_Churn_status = ['Yes', 'No'] # 유효한 이탈 상태 값 리스트\n",
    "df = df[df['Churn status'].isin(valid_Churn_status)] # 유효한 이탈 상태 값만 남기고 나머지 행 제거\n",
    "print(df['Churn status'].value_counts()) # 이탈 상태 분포 확인"
   ]
  },
  {
   "cell_type": "code",
   "execution_count": 44,
   "id": "426bb6a1",
   "metadata": {},
   "outputs": [
    {
     "name": "stdout",
     "output_type": "stream",
     "text": [
      "Customer ID                             0\n",
      "Subscription Length (Months)          333\n",
      "Customer Satisfaction Score (1-10)      0\n",
      "Daily Watch Time (Hours)              459\n",
      "Engagement Rate (1-10)                  0\n",
      "Device Used Most Often                  0\n",
      "Genre Preference                        0\n",
      "Region                                  0\n",
      "Payment History (On-Time/Delayed)       0\n",
      "Subscription Plan                       0\n",
      "Churn status                            0\n",
      "Support Queries Logged                313\n",
      "Age                                   455\n",
      "Monthly Income ($)                      0\n",
      "Promotional Offers Used               293\n",
      "Number of Profiles Created            270\n",
      "dtype: int64\n"
     ]
    }
   ],
   "source": [
    "print(df.isnull().sum()) # 각 열의 결측치 개수 확인"
   ]
  },
  {
   "cell_type": "code",
   "execution_count": 45,
   "id": "6882df4b",
   "metadata": {},
   "outputs": [],
   "source": [
    "df.dropna(inplace=True) # 결측치가 있는 행 제거"
   ]
  },
  {
   "cell_type": "code",
   "execution_count": 46,
   "id": "2e997bdc",
   "metadata": {},
   "outputs": [
    {
     "name": "stdout",
     "output_type": "stream",
     "text": [
      "Customer ID                           0\n",
      "Subscription Length (Months)          0\n",
      "Customer Satisfaction Score (1-10)    0\n",
      "Daily Watch Time (Hours)              0\n",
      "Engagement Rate (1-10)                0\n",
      "Device Used Most Often                0\n",
      "Genre Preference                      0\n",
      "Region                                0\n",
      "Payment History (On-Time/Delayed)     0\n",
      "Subscription Plan                     0\n",
      "Churn status                          0\n",
      "Support Queries Logged                0\n",
      "Age                                   0\n",
      "Monthly Income ($)                    0\n",
      "Promotional Offers Used               0\n",
      "Number of Profiles Created            0\n",
      "dtype: int64\n"
     ]
    }
   ],
   "source": [
    "print(df.isnull().sum()) # 각 열의 결측치 개수 확인"
   ]
  },
  {
   "cell_type": "code",
   "execution_count": 47,
   "id": "344dd811",
   "metadata": {},
   "outputs": [],
   "source": [
    "cleaned_file_path = './data/netflix_user_data_cleaned.csv'\n",
    "df.to_csv(cleaned_file_path, index=False) # 정제된 데이터셋을 새로운 CSV 파일로 저장"
   ]
  }
 ],
 "metadata": {
  "kernelspec": {
   "display_name": "ml_env",
   "language": "python",
   "name": "python3"
  },
  "language_info": {
   "codemirror_mode": {
    "name": "ipython",
    "version": 3
   },
   "file_extension": ".py",
   "mimetype": "text/x-python",
   "name": "python",
   "nbconvert_exporter": "python",
   "pygments_lexer": "ipython3",
   "version": "3.12.11"
  }
 },
 "nbformat": 4,
 "nbformat_minor": 5
}
