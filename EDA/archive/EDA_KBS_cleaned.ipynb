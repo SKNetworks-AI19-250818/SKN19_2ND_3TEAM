{
 "cells": [
  {
   "cell_type": "markdown",
   "id": "076ace24",
   "metadata": {},
   "source": [
    "시각화 없이 데이터 뽑기 위한 파일"
   ]
  },
  {
   "cell_type": "code",
   "execution_count": 147,
   "id": "65faadd7",
   "metadata": {},
   "outputs": [],
   "source": [
    "import numpy as np\n",
    "import pandas as pd\n",
    "import matplotlib.pyplot as plt\n",
    "import seaborn as sns\n",
    "import warnings\n",
    "warnings.filterwarnings('ignore')\n",
    "\n",
    "# 문자열 비교 및 대체 용도\n",
    "from fuzzywuzzy import fuzz\n",
    "from fuzzywuzzy import process"
   ]
  },
  {
   "cell_type": "code",
   "execution_count": 148,
   "id": "4d023c70",
   "metadata": {},
   "outputs": [],
   "source": [
    "# 데이터 로드\n",
    "\n",
    "df = pd.read_csv('./data/netflix_user_data_unclean.csv')\n",
    "\n",
    "origin_cnt = df.shape[0]"
   ]
  },
  {
   "cell_type": "code",
   "execution_count": 149,
   "id": "64c327ee",
   "metadata": {},
   "outputs": [],
   "source": [
    "def displayCountNonNumeric(df, col_name, show_all=False):\n",
    "    \"\"\"\n",
    "    숫자로 예상되는 컬럼의 숫자가 아닌 데이터를 노출한다.\n",
    "    \"\"\"\n",
    "    # 1. 숫자로 변환될 수 없는 값은 NaN으로 강제 변환\n",
    "    numeric_series = pd.to_numeric(df[col_name], errors='coerce')\n",
    "\n",
    "    # 2. 숫자로 변환된 값(NaN이 아님)과 원래 NaN이 아닌 값(문자열 등)을 구분\n",
    "    # True: 숫자가 아니거나, 공백이거나, 원래 NaN이었던 값\n",
    "    non_numeric_mask = numeric_series.isna()\n",
    "\n",
    "    # 3. 원본 데이터프레임에서 숫자가 아닌 행만 필터링\n",
    "    non_numeric_data = df[non_numeric_mask]\n",
    "\n",
    "    # 4. value_counts()를 사용하여 빈도수를 계산하되,\n",
    "    #    NaN 값도 결과에 포함시키도록 dropna=False 설정\n",
    "    df_result = non_numeric_data[col_name].value_counts(dropna=False).reset_index()\n",
    "\n",
    "    # 컬럼 이름 변경\n",
    "    df_result.columns = [col_name, 'count']\n",
    "    # df_result['percent'] = df_result['count'] / df.shape[0] * 100\n",
    "    df_result['percent'] = (df_result['count'] / df.shape[0] * 100).round(4)\n",
    "\n",
    "    pd.set_option('display.float_format', '{:.4f}'.format)\n",
    "\n",
    "    if show_all:\n",
    "        # 전체 행 출력을 위한 pandas 옵션 설정\n",
    "        pd.set_option('display.max_rows', None)  # 모든 행 출력\n",
    "    # 5. 결과 출력\n",
    "    display(df_result)\n",
    "\n",
    "    if show_all:\n",
    "        # # 출력 후 기본값으로 복원 (선택사항)\n",
    "        pd.reset_option('display.max_rows')\n",
    "\n",
    "    pd.set_option('display.float_format', '{:.2f}'.format)\n",
    "\n",
    "def displayPatterns(df, col, show_all=False):\n",
    "    \"\"\"\n",
    "    문자열 컬럼 데이터 분포 보기\n",
    "    \"\"\"\n",
    "    if show_all:\n",
    "        # 전체 행 출력을 위한 pandas 옵션 설정\n",
    "        pd.set_option('display.max_rows', None)  # 모든 행 출력\n",
    "\n",
    "    df_result = df[col].value_counts(dropna=False).reset_index()\n",
    "    df_result['percent'] = (df_result['count'] / df.shape[0] * 100).round(4)\n",
    "\n",
    "    pd.set_option('display.float_format', '{:.4f}'.format)\n",
    "\n",
    "    print(df_result)\n",
    "    \n",
    "    pd.set_option('display.float_format', '{:.2f}'.format)\n",
    "\n",
    "    if show_all:\n",
    "        # # 출력 후 기본값으로 복원 (선택사항)\n",
    "        pd.reset_option('display.max_rows')\n",
    "\n",
    "def fuzzy_match_and_clean(wrong_value, allowed_values, THRESHOLD = 80):\n",
    "    \"\"\"\n",
    "    주어진 오류 값(wrong_value)를 허용 목록(allowed_values)과 비교하여\n",
    "    유사도가 임계값(THRESHOLD) 이상이면 가장 유사한 값으로 대체합니다.\n",
    "    \"\"\"\n",
    "    if wrong_value in allowed_values or pd.isna(wrong_value) or wrong_value == '':\n",
    "        return wrong_value\n",
    "    \n",
    "    # process.extractOne: 목록에서 가장 유사한 항목 1개를 찾아냄\n",
    "    # 결과: ('가장 유사한 장르', 유사도 점수)\n",
    "    best_match = process.extractOne(wrong_value, allowed_values)\n",
    "    \n",
    "    match_value = best_match[0]\n",
    "    score = best_match[1]\n",
    "    \n",
    "    if score >= THRESHOLD:\n",
    "        # 유사도 점수가 높으면 정상 장르로 대체\n",
    "        return match_value\n",
    "    else:\n",
    "        # 유사도 점수가 낮으면(너무 다른 단어이면) np.nan 등으로 남겨서 후속 처리를 유도\n",
    "        return wrong_value\n",
    "    \n",
    "def printMiddle(before_cnt, after_cnt):\n",
    "    print('-'*77)\n",
    "    print(\"최초\", origin_cnt, \"처리 전\", before_cnt, \"처리 후\", after_cnt, '제거됨', before_cnt - after_cnt, '누적제거', origin_cnt - after_cnt)"
   ]
  },
  {
   "cell_type": "markdown",
   "id": "173ae28d",
   "metadata": {},
   "source": []
  },
  {
   "cell_type": "code",
   "execution_count": 150,
   "id": "2c126b63",
   "metadata": {},
   "outputs": [
    {
     "name": "stdout",
     "output_type": "stream",
     "text": [
      "-----------------------------------------------------------------------------\n",
      "최초 119779 처리 전 119779 처리 후 118334 제거됨 1445 누적제거 1445\n"
     ]
    }
   ],
   "source": [
    "# 1. 전체 중복 데이터 처리\n",
    "\n",
    "before_cnt = df.shape[0]\n",
    "df = df.drop_duplicates().reset_index(drop=True) # drop=True 중복 데이터 남김\n",
    "after_cnt = df.shape[0]\n",
    "\n",
    "printMiddle(before_cnt, after_cnt)"
   ]
  },
  {
   "cell_type": "code",
   "execution_count": 151,
   "id": "76758e26",
   "metadata": {},
   "outputs": [
    {
     "name": "stdout",
     "output_type": "stream",
     "text": [
      "처리전\n",
      "   Churn status   count  percent\n",
      "0           Yes  104771  88.5384\n",
      "1            No   12403  10.4813\n",
      "2         Maybe     423   0.3575\n",
      "3           NaN     388   0.3279\n",
      "4            Ny      33   0.0279\n",
      "5            zo      33   0.0279\n",
      "6            yo      32   0.0270\n",
      "7            Nx      31   0.0262\n",
      "8            xo      28   0.0237\n",
      "9            Nz      27   0.0228\n",
      "10          Yey      26   0.0220\n",
      "11          yes      24   0.0203\n",
      "12          Yxs      22   0.0186\n",
      "13          zes      20   0.0169\n",
      "14          Yex      19   0.0161\n",
      "15          xes      17   0.0144\n",
      "16          Yzs      14   0.0118\n",
      "17          Yez      13   0.0110\n",
      "18          Yys      10   0.0085\n",
      "처리후\n",
      "  Churn status   count  percent\n",
      "0          Yes  104936  89.2898\n",
      "1           No   12587  10.7102\n",
      "-----------------------------------------------------------------------------\n",
      "최초 119779 처리 전 118334 처리 후 117523 제거됨 811 누적제거 2256\n"
     ]
    }
   ],
   "source": [
    "# 2. Churn status (클래스 데이터 이므로 별도 처리)\n",
    "#    - 결측치 처리\n",
    "#    - 문자형 오류 데이터 치환 처리\n",
    "#    - 극 소수 데이터 처리\n",
    "#      - Maybe - 0.35%\n",
    "\n",
    "before_cnt = df.shape[0]\n",
    "\n",
    "allowed_list = [\n",
    "'Yes',\n",
    "'No',\n",
    "'Maybe',\n",
    "]\n",
    "col_name = 'Churn status'\n",
    "# cleaned_col_name = f'Cleaned {col_name}'\n",
    "cleaned_col_name = col_name\n",
    "\n",
    "print('처리전')\n",
    "\n",
    "displayPatterns(df, cleaned_col_name, True)\n",
    "\n",
    "# 유사 값 변경처리\n",
    "df[cleaned_col_name] = df[col_name].apply(lambda x: fuzzy_match_and_clean(x, allowed_list, 50))\n",
    "\n",
    "\n",
    "# Churn status는 필수이기 때문에 무조건 드롭한다.\n",
    "df = df.dropna(subset=[col_name])\n",
    "\n",
    "# 데이터 수가 작음으로 일단 제거\n",
    "index_to_drop = df[df[col_name] == 'Maybe'].index\n",
    "df.drop(index_to_drop, axis=0, inplace=True)\n",
    "\n",
    "print('처리후')\n",
    "\n",
    "displayPatterns(df, cleaned_col_name, True)\n",
    "\n",
    "after_cnt = df.shape[0]\n",
    "\n",
    "printMiddle(before_cnt, after_cnt)"
   ]
  },
  {
   "cell_type": "code",
   "execution_count": 152,
   "id": "76d0ada6",
   "metadata": {},
   "outputs": [],
   "source": [
    "# 3. Customer ID - 결측치 처리가 의미가 있는지 확인 필요\n",
    "#    - 결측치 401건 처리\n",
    "\n",
    "# col_name = 'Customer ID'\n",
    "\n",
    "# # 결측치 공백처리, NaN은 빈 문자열로 대체 (str 메서드의 오류 방지)\n",
    "# df[col_name] = df[col_name].replace(np.nan, '', regex=True)\n",
    "\n",
    "# # 정상 코드 패턴 정의 (C + 6자리 숫자)\n",
    "# NORMAL_PATTERN = r'^C\\d{6}$'\n",
    "\n",
    "# # 정상 패턴에 일치하지 않는 행(오류 데이터)을 필터링하고 공백으로 대체\n",
    "# # str.match()의 결과를 Boolean Series로 얻고, ~ (틸드) 연산자로 True/False를 반전시킴\n",
    "# # 즉, 'is_normal'이 False인 모든 행을 선택하여 ''로 바꿉니다.\n",
    "# df.loc[~df[col_name].str.match(NORMAL_PATTERN), col_name] = np.nan"
   ]
  },
  {
   "cell_type": "code",
   "execution_count": 153,
   "id": "865b5e27",
   "metadata": {},
   "outputs": [
    {
     "name": "stdout",
     "output_type": "stream",
     "text": [
      "-----------------------------------------------------------------------------\n",
      "최초 119779 처리 전 117523 처리 후 117523 제거됨 0 누적제거 2256\n"
     ]
    }
   ],
   "source": [
    "# ----------------------------------------------------------------------\n",
    "# 회의 후 다시 할것 -일단 결측치 있으면 중위값으로 대체\n",
    "# ----------------------------------------------------------------------\n",
    "# 4. 숫자형 컬럼 숫자 아닌 오류데이터 제거\n",
    "#    - Subscription Length (Months)\n",
    "#    - Customer Satisfaction Score (1-10)\n",
    "#    - Daily Watch Time (Hours)\n",
    "#    - Engagement Rate (1-10)\n",
    "#    - Support Queries Logged\n",
    "#    - Age\n",
    "#    - Monthly Income ($)\n",
    "#    - Promotional Offers Used\n",
    "#    - Number of Profiles Created\n",
    "\n",
    "\n",
    "target_cols = [\n",
    "    'Subscription Length (Months)',\n",
    "    'Customer Satisfaction Score (1-10)',\n",
    "    'Daily Watch Time (Hours)',\n",
    "    'Engagement Rate (1-10)',\n",
    "    'Support Queries Logged',\n",
    "    'Age',\n",
    "    'Monthly Income ($)',\n",
    "    'Promotional Offers Used',\n",
    "    'Number of Profiles Created'\n",
    "]\n",
    "\n",
    "before_cnt = df.shape[0]\n",
    "\n",
    "for col_name in target_cols:\n",
    "    # 값을 숫자 혹은 NaN으로 변경처리\n",
    "    df[col_name] = pd.to_numeric(df[col_name], errors='coerce')\n",
    "    # 컬럼 유형을 float로 변경처리\n",
    "    df[col_name] = df[col_name].astype(float)\n",
    "\n",
    "    # # 일단 결측치 있으면 일단 드롭\n",
    "    # df = df.dropna(subset=[col_name])\n",
    "\n",
    "    # 일단 결측치 있으면 일단 중위값 대체\n",
    "    median_value = df[col_name].median()\n",
    "    df[col_name].fillna(median_value, inplace=True)\n",
    "\n",
    "after_cnt = df.shape[0]\n",
    "printMiddle(before_cnt, after_cnt)"
   ]
  },
  {
   "cell_type": "code",
   "execution_count": 154,
   "id": "5923e7e5",
   "metadata": {},
   "outputs": [
    {
     "name": "stdout",
     "output_type": "stream",
     "text": [
      "-----------------------------------------------------------------------------\n",
      "최초 119779 처리 전 117523 처리 후 116790 제거됨 733 누적제거 2989\n"
     ]
    }
   ],
   "source": [
    "# ----------------------------------------------------------------------\n",
    "# 회의 후 다시 할것 - 일단 이상치 날림\n",
    "# ----------------------------------------------------------------------\n",
    "# 5. 범위가 정해진 숫자형 컬럼 데이터 정리 필요 1~10으로 한정\n",
    "#    - Engagement Rate (1-10)\n",
    "#    - Customer Satisfaction Score (1-10)\n",
    "\n",
    "before_cnt = df.shape[0]\n",
    "\n",
    "for col_name in ['Engagement Rate (1-10)', 'Customer Satisfaction Score (1-10)']:\n",
    "    # 1보다 작으면 날림\n",
    "    index_to_drop = df[df[col_name] < 1.0].index\n",
    "    df.drop(index_to_drop, axis=0, inplace=True)\n",
    "    # 10보다 크면 날림\n",
    "    index_to_drop = df[10.0 < df[col_name]].index\n",
    "    df.drop(index_to_drop, axis=0, inplace=True)\n",
    "\n",
    "\n",
    "after_cnt = df.shape[0]\n",
    "printMiddle(before_cnt, after_cnt)"
   ]
  },
  {
   "cell_type": "code",
   "execution_count": 155,
   "id": "2769c5f8",
   "metadata": {},
   "outputs": [],
   "source": [
    "# 6. 범주화 필요\n",
    "#    - Daily Watch Time (Hours)\n",
    "#      - 시청시간 시간단위로 반올림\n",
    "#    - Age\n",
    "#      - 연령 10단위로 반올림\n",
    "\n",
    "# 시청시간 시간단위로 반올림\n",
    "df['Daily Watch Time (Hours)'] = df['Daily Watch Time (Hours)'].round(0)\n",
    "\n",
    "# 연령 10단위로 반올림\n",
    "df['Age'] = df['Age'].round(-1)\n",
    "\n",
    "\n"
   ]
  },
  {
   "cell_type": "code",
   "execution_count": 156,
   "id": "43cb2cda",
   "metadata": {},
   "outputs": [
    {
     "name": "stdout",
     "output_type": "stream",
     "text": [
      "-----------------------------------------------------------------------------\n",
      "최초 119779 처리 전 116790 처리 후 115020 제거됨 1770 누적제거 4759\n"
     ]
    }
   ],
   "source": [
    "# ----------------------------------------------------------------------\n",
    "# 회의 후 다시 할것 -일단 결측치 있으면 일단 드롭\n",
    "# ----------------------------------------------------------------------\n",
    "# 7. 문자형 오류 데이터 유사 문자 치환 처리\n",
    "#    - Device Used Most Often\n",
    "#      - 'Laptop', 'Mobile', 'Tablet', 'Smart TV', 'Desktop'\n",
    "#    - Genre Preference\n",
    "#      - 'Sci-Fi', 'Romance', 'Drama', 'Thriller', 'Documentary', 'Action', 'Comedy', 'Dramedy', \n",
    "#    - Region\n",
    "#      - 'Asia', 'Africa', 'Europe', 'South America', 'North America', 'Eurasia', \n",
    "#    - Payment History\n",
    "#      - 'Delayed', 'On-Time', 'Late', \n",
    "#    - Subscription Plan\n",
    "#      - 'Standard', 'Premium', 'Basic',\n",
    "\n",
    "\n",
    "target_list = [\n",
    "    ('Device Used Most Often', ['Laptop', 'Mobile', 'Tablet', 'Smart TV', 'Desktop'], 80)\n",
    "    ,('Genre Preference', ['Sci-Fi', 'Romance', 'Drama', 'Thriller', 'Documentary', 'Action', 'Comedy', 'Dramedy'], 80)\n",
    "    ,('Region', ['Asia', 'Africa', 'Europe', 'South America', 'North America', 'Eurasia'], 70)\n",
    "    ,('Payment History (On-Time/Delayed)', ['Delayed', 'On-Time', 'Late'], 80)\n",
    "    ,('Subscription Plan', ['Standard', 'Premium', 'Basic'], 80)\n",
    "]\n",
    "\n",
    "\n",
    "before_cnt = df.shape[0]\n",
    "\n",
    "for i, (col_name, allowed_list, percent) in enumerate(target_list):\n",
    "    cleaned_col_name = col_name\n",
    "    df[cleaned_col_name] = df[col_name].apply(lambda x: fuzzy_match_and_clean(x, allowed_list, percent))    \n",
    "    df = df.dropna(subset=[col_name])\n",
    "\n",
    "\n",
    "after_cnt = df.shape[0]\n",
    "printMiddle(before_cnt, after_cnt)"
   ]
  },
  {
   "cell_type": "code",
   "execution_count": 158,
   "id": "ee782a27",
   "metadata": {},
   "outputs": [
    {
     "name": "stdout",
     "output_type": "stream",
     "text": [
      "-----------------------------------------------------------------------------\n",
      "최초 119779 처리 전 115020 처리 후 114113 제거됨 907 누적제거 5666\n"
     ]
    }
   ],
   "source": [
    "# 8. 극 소수 데이터 처리\n",
    "#    - Device Used Most Often\n",
    "#      - Smart_Television - 0.32%\n",
    "#    - Genre Preference\n",
    "#      - Dramedy - 0.31%\n",
    "#    - Region\n",
    "#      - Eurasia - 0.32%\n",
    "#    - Payment History\n",
    "#      - Late - 0.32%\n",
    "\n",
    "before_cnt = df.shape[0]\n",
    "\n",
    "# 대체 처리\n",
    "col_name = 'Device Used Most Often'\n",
    "df[col_name] = df[col_name].replace('Smart_Television', 'Smart TV')\n",
    "\n",
    "# 드롭 처리\n",
    "col_name = 'Genre Preference'\n",
    "index_to_drop = df[df[col_name] == 'Dramedy'].index\n",
    "df.drop(index_to_drop, axis=0, inplace=True)\n",
    "\n",
    "# 드롭 처리\n",
    "col_name = 'Region'\n",
    "index_to_drop = df[df[col_name] == 'Eurasia'].index\n",
    "df.drop(index_to_drop, axis=0, inplace=True)\n",
    "\n",
    "# 드롭 처리\n",
    "col_name = 'Payment History (On-Time/Delayed)'\n",
    "index_to_drop = df[df[col_name] == 'Late'].index\n",
    "df.drop(index_to_drop, axis=0, inplace=True)\n",
    "\n",
    "after_cnt = df.shape[0]\n",
    "printMiddle(before_cnt, after_cnt)\n"
   ]
  },
  {
   "cell_type": "code",
   "execution_count": 159,
   "id": "9f2fee53",
   "metadata": {},
   "outputs": [],
   "source": [
    "df = df.reset_index(drop=True)"
   ]
  },
  {
   "cell_type": "code",
   "execution_count": 160,
   "id": "3e04d9fd",
   "metadata": {},
   "outputs": [
    {
     "name": "stdout",
     "output_type": "stream",
     "text": [
      "<class 'pandas.core.frame.DataFrame'>\n",
      "RangeIndex: 114113 entries, 0 to 114112\n",
      "Data columns (total 16 columns):\n",
      " #   Column                              Non-Null Count   Dtype  \n",
      "---  ------                              --------------   -----  \n",
      " 0   Customer ID                         113856 non-null  object \n",
      " 1   Subscription Length (Months)        114113 non-null  float64\n",
      " 2   Customer Satisfaction Score (1-10)  114113 non-null  float64\n",
      " 3   Daily Watch Time (Hours)            114113 non-null  float64\n",
      " 4   Engagement Rate (1-10)              114113 non-null  float64\n",
      " 5   Device Used Most Often              114113 non-null  object \n",
      " 6   Genre Preference                    114113 non-null  object \n",
      " 7   Region                              114113 non-null  object \n",
      " 8   Payment History (On-Time/Delayed)   114113 non-null  object \n",
      " 9   Subscription Plan                   114113 non-null  object \n",
      " 10  Churn status                        114113 non-null  object \n",
      " 11  Support Queries Logged              114113 non-null  float64\n",
      " 12  Age                                 114113 non-null  float64\n",
      " 13  Monthly Income ($)                  114113 non-null  float64\n",
      " 14  Promotional Offers Used             114113 non-null  float64\n",
      " 15  Number of Profiles Created          114113 non-null  float64\n",
      "dtypes: float64(9), object(7)\n",
      "memory usage: 13.9+ MB\n"
     ]
    }
   ],
   "source": [
    "df.info()"
   ]
  },
  {
   "cell_type": "code",
   "execution_count": 161,
   "id": "fecea9cd",
   "metadata": {},
   "outputs": [],
   "source": [
    "df.to_csv(f'./data/netflix_user_data_clean_kbs.csv', index=False)"
   ]
  }
 ],
 "metadata": {
  "kernelspec": {
   "display_name": "ml_env",
   "language": "python",
   "name": "python3"
  },
  "language_info": {
   "codemirror_mode": {
    "name": "ipython",
    "version": 3
   },
   "file_extension": ".py",
   "mimetype": "text/x-python",
   "name": "python",
   "nbconvert_exporter": "python",
   "pygments_lexer": "ipython3",
   "version": "3.12.11"
  }
 },
 "nbformat": 4,
 "nbformat_minor": 5
}
