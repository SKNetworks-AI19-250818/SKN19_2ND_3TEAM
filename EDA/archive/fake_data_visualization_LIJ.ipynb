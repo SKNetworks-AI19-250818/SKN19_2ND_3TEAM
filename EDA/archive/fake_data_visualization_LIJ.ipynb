{
 "cells": [
  {
   "cell_type": "code",
   "execution_count": 1,
   "id": "1acfe057",
   "metadata": {},
   "outputs": [],
   "source": [
    "import pandas as pd\n",
    "import numpy as np\n",
    "import matplotlib.pyplot as plt\n",
    "import seaborn as sns\n",
    "\n",
    "# 한글 폰트 설정\n",
    "plt.rc('font', family='Malgun Gothic')\n",
    "plt.rcParams['axes.unicode_minus'] = False"
   ]
  },
  {
   "cell_type": "code",
   "execution_count": 2,
   "id": "7c9f20a5",
   "metadata": {},
   "outputs": [],
   "source": [
    "movies = pd.read_csv('./data/2/movies_cleaned.csv')\n",
    "recommendation = pd.read_csv('./data/2/recommendation_cleaned.csv')\n",
    "reviews = pd.read_csv('./data/2/reviews_cleaned.csv')\n",
    "search = pd.read_csv('./data/2/search_cleaned.csv')\n",
    "users = pd.read_csv('./data/2/users_cleaned.csv')\n",
    "watch = pd.read_csv('./data/2/watch_cleaned.csv')"
   ]
  },
  {
   "cell_type": "markdown",
   "id": "a9e8b8d7",
   "metadata": {},
   "source": [
    "## 컬럼 분류"
   ]
  },
  {
   "cell_type": "code",
   "execution_count": null,
   "id": "28fddab8",
   "metadata": {},
   "outputs": [],
   "source": [
    "# movies\n",
    "movies_numeric = ['release_year', 'duration_minutes', 'imdb_rating']\n",
    "movies_categorical = ['movie_id', 'title', 'content_type', 'genre_primary', 'rating', 'language', 'country_of_origin', 'added_to_platform']\n",
    "movies_boolean = ['is_netflix_original', 'content_warning']\n",
    "\n",
    "# recommendation\n",
    "recommendation_numeric = ['position_in_list']\n",
    "recommendation_categorical = ['recommendation_id', 'user_id', 'movie_id', 'recommendation_date', 'recommendation_type', 'device_type', 'time_of_day', 'algorithm_version']\n",
    "recommendation_boolean = ['was_clicked']\n",
    "\n",
    "# reviews\n",
    "reviews_numeric = ['rating', 'helpful_votes', 'total_votes', 'sentiment_score']\n",
    "reviews_categorical = ['review_id', 'user_id', 'movie_id', 'review_date', 'device_type', 'review_text', 'sentiment']\n",
    "reviews_boolean = ['is_verified_watch']\n",
    "\n",
    "# search\n",
    "search_numeric = ['results_returned', 'search_duration_seconds']\n",
    "search_categorical = ['search_id', 'user_id', 'search_query', 'search_date', 'device_type', 'location_country']\n",
    "search_boolean = ['had_typo', 'used_filters']\n",
    "\n",
    "# users\n",
    "users_numeric = ['age', 'monthly_spend', 'household_size']\n",
    "users_categorical = ['user_id', 'email', 'first_name', 'last_name', 'gender', 'country', 'state_province', 'city', 'subscription_plan', 'subscription_start_date', 'primary_device', 'created_at']\n",
    "users_boolean = ['is_active']\n",
    "\n",
    "# watch\n",
    "watch_numeric = ['watch_duration_minutes', 'progress_percentage']\n",
    "watch_categorical = ['session_id', 'user_id', 'movie_id', 'watch_date', 'device_type', 'action', 'quality', 'location_country']\n",
    "watch_boolean = ['is_download']"
   ]
  },
  {
   "cell_type": "markdown",
   "metadata": {},
   "source": [
    "## 1. 데이터 병합 및 전처리"
   ]
  },
  {
   "cell_type": "code",
   "metadata": {},
   "source": [
    "# user와 watch 데이터 병합\n",
    "user_watch = pd.merge(users, watch, on='user_id', how='inner')\n",
    "\n",
    "# user_watch와 movies 데이터 병합\n",
    "merged_df = pd.merge(user_watch, movies, on='movie_id', how='inner')\n",
    "\n",
    "# 연령대 컬럼 추가\n",
    "bins = [0, 19, 29, 39, 49, 59, 100]\n",
    "labels = ['10대 이하', '20대', '30대', '40대', '50대', '60대 이상']\n",
    "users['age_group'] = pd.cut(users['age'], bins=bins, labels=labels, right=False)\n",
    "merged_df['age_group'] = pd.cut(merged_df['age'], bins=bins, labels=labels, right=False)"
   ]
  },
  {
   "cell_type": "markdown",
   "metadata": {},
   "source": [
    "## 2. 연령대별 선호 장르 분석"
   ]
  },
  {
   "cell_type": "code",
   "metadata": {},
   "source": [
    "age_genre = merged_df.groupby(['age_group', 'genre_primary'])['movie_id'].count().reset_index()\n",
    "age_genre_pivot = age_genre.pivot_table(index='age_group', columns='genre_primary', values='movie_id', fill_value=0)\n",
    "\n",
    "plt.figure(figsize=(18, 10))\n",
    "sns.heatmap(age_genre_pivot, cmap='viridis', annot=True, fmt='.0f')\n",
    "plt.title('연령대별 선호 장르 (시청 횟수 기준)')\n",
    "plt.xlabel('장르')\n",
    "plt.ylabel('연령대')\n",
    "plt.show()"
   ]
  },
  {
   "cell_type": "markdown",
   "metadata": {},
   "source": [
    "## 3. 연령대별 월간 지출액 및 구독 요금제 분석"
   ]
  },
  {
   "cell_type": "code",
   "metadata": {},
   "source": [
    "plt.figure(figsize=(12, 6))\n",
    "sns.boxplot(x='age_group', y='monthly_spend', data=users, palette='pastel')\n",
    "plt.title('연령대별 월간 지출액')\n",
    "plt.xlabel('연령대')\n",
    "plt.ylabel('월간 지출액')\n",
    "plt.show()"
   ]
  },
  {
   "cell_type": "code",
   "metadata": {},
   "source": [
    "age_subscription = users.groupby(['age_group', 'subscription_plan'])['user_id'].count().unstack().fillna(0)\n",
    "\n",
    "age_subscription.plot(kind='bar', stacked=True, figsize=(14, 8), colormap='viridis')\n",
    "plt.title('연령대별 구독 요금제 분포')\n",
    "plt.xlabel('연령대')\n",
    "plt.ylabel('사용자 수')\n",
    "plt.xticks(rotation=45)\n",
    "plt.legend(title='구독 요금제')\n",
    "plt.show()"
   ]
  },
  {
   "cell_type": "markdown",
   "metadata": {},
   "source": [
    "## 4. 연령대별 시청 행태 분석"
   ]
  },
  {
   "cell_type": "code",
   "metadata": {},
   "source": [
    "plt.figure(figsize=(12, 6))\n",
    "sns.boxplot(x='age_group', y='watch_duration_minutes', data=merged_df, palette='coolwarm', showfliers=False) # 이상치 제외\n",
    "plt.title('연령대별 평균 시청 시간 (분)')\n",
    "plt.xlabel('연령대')\n",
    "plt.ylabel('시청 시간 (분)')\n",
    "plt.show()"
   ]
  },
  {
   "cell_type": "code",
   "metadata": {},
   "source": [
    "plt.figure(figsize=(12, 6))\n",
    "sns.boxplot(x='age_group', y='progress_percentage', data=merged_df, palette='magma', showfliers=False) # 이상치 제외\n",
    "plt.title('연령대별 시청 완료율 (%)')\n",
    "plt.xlabel('연령대')\n",
    "plt.ylabel('시청 완료율 (%)')\n",
    "plt.show()"
   ]
  },
  {
   "cell_type": "markdown",
   "metadata": {},
   "source": [
    "## 5. 연령대별 주로 사용하는 기기 분석"
   ]
  },
  {
   "cell_type": "code",
   "metadata": {},
   "source": [
    "plt.figure(figsize=(14, 7))\n",
    "sns.countplot(x='age_group', hue='primary_device', data=users, palette='plasma')\n",
    "plt.title('연령대별 주 사용 기기')\n",
    "plt.xlabel('연령대')\n",
    "plt.ylabel('사용자 수')\n",
    "plt.legend(title='기기 종류')\n",
    "plt.show()"
   ]
  }
 ],
 "metadata": {
  "kernelspec": {
   "display_name": "ml_env",
   "language": "python",
   "name": "python3"
  },
  "language_info": {
   "codemirror_mode": {
    "name": "ipython",
    "version": 3
   },
   "file_extension": ".py",
   "mimetype": "text/x-python",
   "name": "python",
   "nbconvert_exporter": "python",
   "pygments_lexer": "ipython3",
   "version": "3.12.11"
  }
 },
 "nbformat": 4,
 "nbformat_minor": 5
}