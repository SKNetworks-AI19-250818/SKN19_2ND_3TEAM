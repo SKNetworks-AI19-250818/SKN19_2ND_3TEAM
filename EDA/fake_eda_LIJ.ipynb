{
 "cells": [
  {
   "cell_type": "code",
   "execution_count": 23,
   "id": "d48e3737",
   "metadata": {},
   "outputs": [],
   "source": [
    "import pandas as pd\n",
    "import numpy as np\n",
    "import seaborn as sns"
   ]
  },
  {
   "cell_type": "code",
   "execution_count": 370,
   "id": "6b436a60",
   "metadata": {},
   "outputs": [],
   "source": [
    "movies = pd.read_csv('./data/2/movies.csv')\n",
    "recommendation = pd.read_csv('./data/2/recommendation_logs.csv')\n",
    "reviews = pd.read_csv('./data/2/reviews.csv')\n",
    "search = pd.read_csv('./data/2/search_logs.csv')\n",
    "users = pd.read_csv('./data/2/users.csv')\n",
    "watch = pd.read_csv('./data/2/watch_history.csv')"
   ]
  },
  {
   "cell_type": "markdown",
   "id": "b996aba6",
   "metadata": {},
   "source": [
    "## movies"
   ]
  },
  {
   "cell_type": "code",
   "execution_count": 25,
   "id": "280064eb",
   "metadata": {},
   "outputs": [
    {
     "data": {
      "text/html": [
       "<div>\n",
       "<style scoped>\n",
       "    .dataframe tbody tr th:only-of-type {\n",
       "        vertical-align: middle;\n",
       "    }\n",
       "\n",
       "    .dataframe tbody tr th {\n",
       "        vertical-align: top;\n",
       "    }\n",
       "\n",
       "    .dataframe thead th {\n",
       "        text-align: right;\n",
       "    }\n",
       "</style>\n",
       "<table border=\"1\" class=\"dataframe\">\n",
       "  <thead>\n",
       "    <tr style=\"text-align: right;\">\n",
       "      <th></th>\n",
       "      <th>movie_id</th>\n",
       "      <th>title</th>\n",
       "      <th>content_type</th>\n",
       "      <th>genre_primary</th>\n",
       "      <th>genre_secondary</th>\n",
       "      <th>release_year</th>\n",
       "      <th>duration_minutes</th>\n",
       "      <th>rating</th>\n",
       "      <th>language</th>\n",
       "      <th>country_of_origin</th>\n",
       "      <th>imdb_rating</th>\n",
       "      <th>production_budget</th>\n",
       "      <th>box_office_revenue</th>\n",
       "      <th>number_of_seasons</th>\n",
       "      <th>number_of_episodes</th>\n",
       "      <th>is_netflix_original</th>\n",
       "      <th>added_to_platform</th>\n",
       "      <th>content_warning</th>\n",
       "    </tr>\n",
       "  </thead>\n",
       "  <tbody>\n",
       "    <tr>\n",
       "      <th>0</th>\n",
       "      <td>movie_0001</td>\n",
       "      <td>Dragon Legend</td>\n",
       "      <td>Stand-up Comedy</td>\n",
       "      <td>History</td>\n",
       "      <td>Thriller</td>\n",
       "      <td>2014</td>\n",
       "      <td>35.0</td>\n",
       "      <td>TV-Y</td>\n",
       "      <td>French</td>\n",
       "      <td>Japan</td>\n",
       "      <td>NaN</td>\n",
       "      <td>NaN</td>\n",
       "      <td>NaN</td>\n",
       "      <td>NaN</td>\n",
       "      <td>NaN</td>\n",
       "      <td>False</td>\n",
       "      <td>2023-08-07</td>\n",
       "      <td>False</td>\n",
       "    </tr>\n",
       "    <tr>\n",
       "      <th>1</th>\n",
       "      <td>movie_0002</td>\n",
       "      <td>Storm Warrior</td>\n",
       "      <td>Stand-up Comedy</td>\n",
       "      <td>Sci-Fi</td>\n",
       "      <td>NaN</td>\n",
       "      <td>2017</td>\n",
       "      <td>37.0</td>\n",
       "      <td>PG</td>\n",
       "      <td>Japanese</td>\n",
       "      <td>USA</td>\n",
       "      <td>3.3</td>\n",
       "      <td>NaN</td>\n",
       "      <td>NaN</td>\n",
       "      <td>NaN</td>\n",
       "      <td>NaN</td>\n",
       "      <td>False</td>\n",
       "      <td>2022-01-28</td>\n",
       "      <td>True</td>\n",
       "    </tr>\n",
       "    <tr>\n",
       "      <th>2</th>\n",
       "      <td>movie_0003</td>\n",
       "      <td>Fire Family</td>\n",
       "      <td>Movie</td>\n",
       "      <td>Drama</td>\n",
       "      <td>NaN</td>\n",
       "      <td>2003</td>\n",
       "      <td>142.0</td>\n",
       "      <td>TV-MA</td>\n",
       "      <td>English</td>\n",
       "      <td>USA</td>\n",
       "      <td>8.5</td>\n",
       "      <td>2114120.0</td>\n",
       "      <td>NaN</td>\n",
       "      <td>NaN</td>\n",
       "      <td>NaN</td>\n",
       "      <td>False</td>\n",
       "      <td>2021-05-04</td>\n",
       "      <td>True</td>\n",
       "    </tr>\n",
       "    <tr>\n",
       "      <th>3</th>\n",
       "      <td>movie_0004</td>\n",
       "      <td>Our Princess</td>\n",
       "      <td>Documentary</td>\n",
       "      <td>Sci-Fi</td>\n",
       "      <td>NaN</td>\n",
       "      <td>2011</td>\n",
       "      <td>131.0</td>\n",
       "      <td>NC-17</td>\n",
       "      <td>Japanese</td>\n",
       "      <td>USA</td>\n",
       "      <td>5.3</td>\n",
       "      <td>NaN</td>\n",
       "      <td>NaN</td>\n",
       "      <td>NaN</td>\n",
       "      <td>NaN</td>\n",
       "      <td>False</td>\n",
       "      <td>2022-11-26</td>\n",
       "      <td>False</td>\n",
       "    </tr>\n",
       "    <tr>\n",
       "      <th>4</th>\n",
       "      <td>movie_0005</td>\n",
       "      <td>Warrior Mission</td>\n",
       "      <td>Documentary</td>\n",
       "      <td>Sport</td>\n",
       "      <td>Mystery</td>\n",
       "      <td>2015</td>\n",
       "      <td>91.0</td>\n",
       "      <td>TV-G</td>\n",
       "      <td>English</td>\n",
       "      <td>USA</td>\n",
       "      <td>3.1</td>\n",
       "      <td>NaN</td>\n",
       "      <td>NaN</td>\n",
       "      <td>NaN</td>\n",
       "      <td>NaN</td>\n",
       "      <td>False</td>\n",
       "      <td>2023-06-15</td>\n",
       "      <td>False</td>\n",
       "    </tr>\n",
       "  </tbody>\n",
       "</table>\n",
       "</div>"
      ],
      "text/plain": [
       "     movie_id            title     content_type genre_primary genre_secondary  \\\n",
       "0  movie_0001    Dragon Legend  Stand-up Comedy       History        Thriller   \n",
       "1  movie_0002    Storm Warrior  Stand-up Comedy        Sci-Fi             NaN   \n",
       "2  movie_0003      Fire Family            Movie         Drama             NaN   \n",
       "3  movie_0004     Our Princess      Documentary        Sci-Fi             NaN   \n",
       "4  movie_0005  Warrior Mission      Documentary         Sport         Mystery   \n",
       "\n",
       "   release_year  duration_minutes rating  language country_of_origin  \\\n",
       "0          2014              35.0   TV-Y    French             Japan   \n",
       "1          2017              37.0     PG  Japanese               USA   \n",
       "2          2003             142.0  TV-MA   English               USA   \n",
       "3          2011             131.0  NC-17  Japanese               USA   \n",
       "4          2015              91.0   TV-G   English               USA   \n",
       "\n",
       "   imdb_rating  production_budget  box_office_revenue  number_of_seasons  \\\n",
       "0          NaN                NaN                 NaN                NaN   \n",
       "1          3.3                NaN                 NaN                NaN   \n",
       "2          8.5          2114120.0                 NaN                NaN   \n",
       "3          5.3                NaN                 NaN                NaN   \n",
       "4          3.1                NaN                 NaN                NaN   \n",
       "\n",
       "   number_of_episodes  is_netflix_original added_to_platform  content_warning  \n",
       "0                 NaN                False        2023-08-07            False  \n",
       "1                 NaN                False        2022-01-28             True  \n",
       "2                 NaN                False        2021-05-04             True  \n",
       "3                 NaN                False        2022-11-26            False  \n",
       "4                 NaN                False        2023-06-15            False  "
      ]
     },
     "execution_count": 25,
     "metadata": {},
     "output_type": "execute_result"
    }
   ],
   "source": [
    "movies.head()"
   ]
  },
  {
   "cell_type": "code",
   "execution_count": 422,
   "id": "c3bf6485",
   "metadata": {},
   "outputs": [
    {
     "data": {
      "text/plain": [
       "movie_id               0\n",
       "title                  0\n",
       "content_type           0\n",
       "genre_primary          0\n",
       "release_year           0\n",
       "duration_minutes       0\n",
       "rating                 0\n",
       "language               0\n",
       "country_of_origin      0\n",
       "imdb_rating            0\n",
       "is_netflix_original    0\n",
       "added_to_platform      0\n",
       "content_warning        0\n",
       "dtype: int64"
      ]
     },
     "execution_count": 422,
     "metadata": {},
     "output_type": "execute_result"
    }
   ],
   "source": [
    "# movies 데이터 셋의 컬럼 NaN 값\n",
    "movies.isnull().sum()"
   ]
  },
  {
   "cell_type": "markdown",
   "id": "3d8028dc",
   "metadata": {},
   "source": [
    "### 숫자열\n",
    "\n",
    "- `release_year` (출시 연도)\n",
    "- `duration_minutes` (상영 시간 (분))\n",
    "- `imdb_rating` (IMDB 평점)\n",
    "- `production_budget` (제작 예산)\n",
    "- `box_office_revenue` (박스오피스 수익)\n",
    "- `number_of_seasons` (시즌 수)\n",
    "- `number_of_episodes` (에피소드 수)"
   ]
  },
  {
   "cell_type": "code",
   "execution_count": 373,
   "id": "6abd34b2",
   "metadata": {},
   "outputs": [
    {
     "name": "stdout",
     "output_type": "stream",
     "text": [
      "release_year\n",
      "1998    38\n",
      "2018    36\n",
      "1997    34\n",
      "2020    34\n",
      "2011    32\n",
      "2002    31\n",
      "2024    30\n",
      "1990    30\n",
      "1993    29\n",
      "2015    29\n",
      "2003    29\n",
      "1995    26\n",
      "2005    26\n",
      "2001    26\n",
      "2023    26\n",
      "2022    25\n",
      "2014    25\n",
      "2017    25\n",
      "1999    22\n",
      "1996    22\n",
      "1992    22\n",
      "2016    21\n",
      "2010    21\n",
      "2000    21\n",
      "2008    21\n",
      "2004    21\n",
      "2021    21\n",
      "2006    20\n",
      "2009    20\n",
      "2012    20\n",
      "1994    19\n",
      "2013    19\n",
      "2019    19\n",
      "1991    18\n",
      "2007    18\n",
      "1966     3\n",
      "1961     2\n",
      "1956     2\n",
      "1986     1\n",
      "1953     1\n",
      "1954     1\n",
      "1981     1\n",
      "1978     1\n",
      "1963     1\n",
      "1965     1\n",
      "Name: count, dtype: int64\n"
     ]
    }
   ],
   "source": [
    "# release_year 데이터 확인\n",
    "print(movies['release_year'].value_counts())"
   ]
  },
  {
   "cell_type": "code",
   "execution_count": 181,
   "id": "aaeab31b",
   "metadata": {},
   "outputs": [
    {
     "name": "stdout",
     "output_type": "stream",
     "text": [
      "0        35.0\n",
      "1        37.0\n",
      "2       142.0\n",
      "3       131.0\n",
      "4        91.0\n",
      "        ...  \n",
      "1035     19.0\n",
      "1036     48.0\n",
      "1037     54.0\n",
      "1038    137.0\n",
      "1039    102.0\n",
      "Name: duration_minutes, Length: 1040, dtype: float64\n"
     ]
    }
   ],
   "source": [
    "# duration_minutes 소수점 반올림\n",
    "movies['duration_minutes'] = movies['duration_minutes'].round(0)\n",
    "print(movies['duration_minutes'])"
   ]
  },
  {
   "cell_type": "code",
   "execution_count": 182,
   "id": "61a18b36",
   "metadata": {},
   "outputs": [
    {
     "name": "stdout",
     "output_type": "stream",
     "text": [
      "0        NaN\n",
      "1        3.0\n",
      "2        8.0\n",
      "3        5.0\n",
      "4        3.0\n",
      "        ... \n",
      "1035     6.0\n",
      "1036     6.0\n",
      "1037     7.0\n",
      "1038     6.0\n",
      "1039    10.0\n",
      "Name: imdb_rating, Length: 1040, dtype: float64\n",
      "imdb_rating\n",
      "6.0     239\n",
      "7.0     183\n",
      "8.0     144\n",
      "5.0     124\n",
      "4.0      63\n",
      "9.0      56\n",
      "3.0      25\n",
      "1.0      24\n",
      "10.0     22\n",
      "2.0       9\n",
      "0.0       1\n",
      "Name: count, dtype: int64\n"
     ]
    }
   ],
   "source": [
    "# imdb_rating 소수점 반올림\n",
    "movies['imdb_rating'] = movies['imdb_rating'].round(0)\n",
    "print(movies['imdb_rating'])\n",
    "print(movies['imdb_rating'].value_counts())"
   ]
  },
  {
   "cell_type": "code",
   "execution_count": 183,
   "id": "51959248",
   "metadata": {},
   "outputs": [
    {
     "name": "stdout",
     "output_type": "stream",
     "text": [
      "0              NaN\n",
      "1              NaN\n",
      "2        2114120.0\n",
      "3              NaN\n",
      "4              NaN\n",
      "           ...    \n",
      "1035           NaN\n",
      "1036           NaN\n",
      "1037           NaN\n",
      "1038     3593765.0\n",
      "1039    14939487.0\n",
      "Name: production_budget, Length: 1040, dtype: float64\n"
     ]
    }
   ],
   "source": [
    "# production_budget 반올림\n",
    "movies['production_budget'] = movies['production_budget'].round(0)\n",
    "print(movies['production_budget'])"
   ]
  },
  {
   "cell_type": "code",
   "execution_count": 184,
   "id": "4781cbca",
   "metadata": {},
   "outputs": [
    {
     "name": "stdout",
     "output_type": "stream",
     "text": [
      "0              NaN\n",
      "1              NaN\n",
      "2              NaN\n",
      "3              NaN\n",
      "4              NaN\n",
      "           ...    \n",
      "1035           NaN\n",
      "1036           NaN\n",
      "1037           NaN\n",
      "1038     2259750.0\n",
      "1039    21771252.0\n",
      "Name: box_office_revenue, Length: 1040, dtype: float64\n"
     ]
    }
   ],
   "source": [
    "# box_office_revuenu 반올림\n",
    "movies['box_office_revenue'] = movies['box_office_revenue'].round(0)\n",
    "print(movies['box_office_revenue'])"
   ]
  },
  {
   "cell_type": "code",
   "execution_count": 185,
   "id": "48ceb5e5",
   "metadata": {},
   "outputs": [
    {
     "name": "stdout",
     "output_type": "stream",
     "text": [
      "0        NaN\n",
      "1        NaN\n",
      "2        NaN\n",
      "3        NaN\n",
      "4        NaN\n",
      "        ... \n",
      "1035     NaN\n",
      "1036     9.0\n",
      "1037    10.0\n",
      "1038     NaN\n",
      "1039     NaN\n",
      "Name: number_of_seasons, Length: 1040, dtype: float64\n"
     ]
    }
   ],
   "source": [
    "# number_of_seasons 반올림\n",
    "movies['number_of_seasons'] = movies['number_of_seasons'].round(0)\n",
    "print(movies['number_of_seasons'])"
   ]
  },
  {
   "cell_type": "code",
   "execution_count": 186,
   "id": "77e53a43",
   "metadata": {},
   "outputs": [
    {
     "name": "stdout",
     "output_type": "stream",
     "text": [
      "0         NaN\n",
      "1         NaN\n",
      "2         NaN\n",
      "3         NaN\n",
      "4         NaN\n",
      "        ...  \n",
      "1035      NaN\n",
      "1036     85.0\n",
      "1037    174.0\n",
      "1038      NaN\n",
      "1039      NaN\n",
      "Name: number_of_episodes, Length: 1040, dtype: float64\n"
     ]
    }
   ],
   "source": [
    "# number_of_episodes 반올림\n",
    "movies['number_of_episodes'] = movies['number_of_episodes'].round(0)\n",
    "print(movies['number_of_episodes'])"
   ]
  },
  {
   "cell_type": "code",
   "execution_count": 372,
   "id": "b9370732",
   "metadata": {},
   "outputs": [
    {
     "name": "stdout",
     "output_type": "stream",
     "text": [
      "imdb_rating           890\n",
      "production_budget     326\n",
      "box_office_revenue    288\n",
      "number_of_seasons     240\n",
      "number_of_episodes    267\n",
      "dtype: int64\n"
     ]
    }
   ],
   "source": [
    "# 데이터 숫자열 NAN(결측치) 제거\n",
    "# 결측치 제거 후 너무 적은 데이터가 남은 컬럼 제거\n",
    "movies.dropna(subset=['imdb_rating'], inplace=True)\n",
    "numeric = ['imdb_rating', 'production_budget', 'box_office_revenue', 'number_of_seasons', 'number_of_episodes']\n",
    "dropped = movies.dropna(subset=numeric)\n",
    "after = len(dropped)\n",
    "print(movies[numeric].count())\n",
    "movies.drop(columns=['production_budget', 'box_office_revenue', 'number_of_seasons', 'number_of_episodes'], inplace=True)"
   ]
  },
  {
   "cell_type": "markdown",
   "id": "260a4dbf",
   "metadata": {},
   "source": [
    "### 문자열\n",
    "\n",
    "- `movie_id` (영화 ID)\n",
    "- `title` (제목)\n",
    "- `content_type` (콘텐츠 유형)\n",
    "- `genre_primary` (주요 장르)\n",
    "- `genre_secondary` (보조 장르)\n",
    "- `rating` (관람 등급)\n",
    "- `language` (언어)\n",
    "- `country_of_origin` (제작 국가)\n",
    "- `added_to_platform` (플랫폼 추가일)"
   ]
  },
  {
   "cell_type": "code",
   "execution_count": 188,
   "id": "262cf640",
   "metadata": {},
   "outputs": [
    {
     "name": "stdout",
     "output_type": "stream",
     "text": [
      "34\n",
      "movie_id\n",
      "movie_0383    2\n",
      "movie_0043    2\n",
      "movie_0210    2\n",
      "movie_0147    2\n",
      "movie_0138    2\n",
      "             ..\n",
      "movie_0995    1\n",
      "movie_0023    1\n",
      "movie_0997    1\n",
      "movie_0998    1\n",
      "movie_0030    1\n",
      "Name: count, Length: 856, dtype: int64\n",
      "856\n"
     ]
    }
   ],
   "source": [
    "# movie_id 중복값 확인 및 제거\n",
    "print(movies['movie_id'].duplicated().sum())\n",
    "print(movies['movie_id'].value_counts())\n",
    "movies.drop_duplicates(subset=['movie_id'], keep='first', inplace=True)\n",
    "print(movies['movie_id'].size)"
   ]
  },
  {
   "cell_type": "code",
   "execution_count": 189,
   "id": "4032e3c9",
   "metadata": {},
   "outputs": [
    {
     "name": "stdout",
     "output_type": "stream",
     "text": [
      "856\n",
      "content_type\n",
      "Movie              386\n",
      "TV Series          211\n",
      "Documentary        119\n",
      "Stand-up Comedy     97\n",
      "Limited Series      43\n",
      "Name: count, dtype: int64\n"
     ]
    }
   ],
   "source": [
    "# content_type 값 확인\n",
    "print(movies['content_type'].size)\n",
    "print(movies['content_type'].value_counts())"
   ]
  },
  {
   "cell_type": "code",
   "execution_count": 190,
   "id": "15eb0b4f",
   "metadata": {},
   "outputs": [
    {
     "name": "stdout",
     "output_type": "stream",
     "text": [
      "856\n",
      "genre_primary\n",
      "Adventure      62\n",
      "Animation      52\n",
      "War            50\n",
      "History        48\n",
      "Comedy         48\n",
      "Action         47\n",
      "Western        47\n",
      "Sci-Fi         45\n",
      "Documentary    44\n",
      "Romance        43\n",
      "Biography      43\n",
      "Horror         43\n",
      "Crime          42\n",
      "Fantasy        41\n",
      "Drama          38\n",
      "Family         36\n",
      "Mystery        34\n",
      "Music          33\n",
      "Thriller       31\n",
      "Sport          29\n",
      "Name: count, dtype: int64\n"
     ]
    }
   ],
   "source": [
    "# genre_primary 값 확인\n",
    "print(movies['genre_primary'].size)\n",
    "print(movies['genre_primary'].value_counts())"
   ]
  },
  {
   "cell_type": "code",
   "execution_count": 191,
   "id": "29c80ead",
   "metadata": {},
   "outputs": [
    {
     "name": "stdout",
     "output_type": "stream",
     "text": [
      "856\n",
      "genre_secondary\n",
      "Adventure      23\n",
      "Sci-Fi         21\n",
      "Drama          21\n",
      "Family         19\n",
      "Thriller       18\n",
      "Crime          18\n",
      "War            17\n",
      "Biography      17\n",
      "Mystery        16\n",
      "History        16\n",
      "Western        15\n",
      "Fantasy        15\n",
      "Sport          13\n",
      "Animation      13\n",
      "Music          12\n",
      "Comedy         12\n",
      "Documentary    11\n",
      "Horror         11\n",
      "Action          9\n",
      "Romance         7\n",
      "Name: count, dtype: int64\n"
     ]
    }
   ],
   "source": [
    "# genre_secondary 값 확인\n",
    "print(movies['genre_secondary'].size)\n",
    "print(movies['genre_secondary'].value_counts())"
   ]
  },
  {
   "cell_type": "code",
   "execution_count": 192,
   "id": "17974aaf",
   "metadata": {},
   "outputs": [
    {
     "name": "stdout",
     "output_type": "stream",
     "text": [
      "rating\n",
      "NC-17    86\n",
      "PG       85\n",
      "G        84\n",
      "TV-Y     84\n",
      "PG-13    82\n",
      "TV-MA    79\n",
      "TV-Y7    79\n",
      "TV-PG    74\n",
      "TV-14    74\n",
      "R        68\n",
      "TV-G     61\n",
      "Name: count, dtype: int64\n",
      "856\n"
     ]
    }
   ],
   "source": [
    "# rating 값 확인\n",
    "print(movies['rating'].value_counts())\n",
    "print(movies['rating'].size)"
   ]
  },
  {
   "cell_type": "code",
   "execution_count": 193,
   "id": "d49c83af",
   "metadata": {},
   "outputs": [
    {
     "name": "stdout",
     "output_type": "stream",
     "text": [
      "language\n",
      "English     505\n",
      "Spanish      84\n",
      "French       54\n",
      "Hindi        47\n",
      "Korean       45\n",
      "Japanese     44\n",
      "Italian      44\n",
      "German       33\n",
      "Name: count, dtype: int64\n",
      "856\n"
     ]
    }
   ],
   "source": [
    "# language 값 확인\n",
    "print(movies['language'].value_counts())\n",
    "print(movies['language'].size)"
   ]
  },
  {
   "cell_type": "code",
   "execution_count": 194,
   "id": "1e455bc1",
   "metadata": {},
   "outputs": [
    {
     "name": "stdout",
     "output_type": "stream",
     "text": [
      "country_of_origin\n",
      "USA            452\n",
      "South Korea     91\n",
      "Canada          87\n",
      "UK              67\n",
      "Japan           47\n",
      "France          40\n",
      "Germany         39\n",
      "India           33\n",
      "Name: count, dtype: int64\n",
      "856\n"
     ]
    }
   ],
   "source": [
    "# country_of_origin 값 확인\n",
    "print(movies['country_of_origin'].value_counts())\n",
    "print(movies['country_of_origin'].size)"
   ]
  },
  {
   "cell_type": "code",
   "execution_count": 195,
   "id": "29e1ac93",
   "metadata": {},
   "outputs": [
    {
     "name": "stdout",
     "output_type": "stream",
     "text": [
      "added_to_platform\n",
      "2024-05-09    4\n",
      "2023-09-28    4\n",
      "2021-04-22    4\n",
      "2024-03-02    3\n",
      "2022-06-24    3\n",
      "             ..\n",
      "2021-09-20    1\n",
      "2020-10-04    1\n",
      "2021-01-21    1\n",
      "2023-06-15    1\n",
      "2022-01-28    1\n",
      "Name: count, Length: 679, dtype: int64\n",
      "856\n"
     ]
    }
   ],
   "source": [
    "# added_to_platform 값 확인 및 data 타입으로 변환\n",
    "print(movies['added_to_platform'].value_counts())\n",
    "print(movies['added_to_platform'].size)\n",
    "movies['added_to_platform'] = pd.to_datetime(movies['added_to_platform'], errors='coerce')"
   ]
  },
  {
   "cell_type": "code",
   "execution_count": 375,
   "id": "f4eccb45",
   "metadata": {},
   "outputs": [
    {
     "name": "stdout",
     "output_type": "stream",
     "text": [
      "genre_secondary    317\n",
      "dtype: int64\n"
     ]
    }
   ],
   "source": [
    "# 데이터 문자열 NAN(결측치) 제거\n",
    "# 결측치가 많은 컬럼 제거 후 너무 적은 데이터가 남은 컬럼 제거\n",
    "string = ['genre_secondary']\n",
    "dropped = movies.dropna(subset=string)\n",
    "after = len(dropped)\n",
    "print(movies[string].count())\n",
    "movies.drop(columns=['genre_secondary'], inplace=True)"
   ]
  },
  {
   "cell_type": "markdown",
   "id": "015dbc78",
   "metadata": {},
   "source": [
    "### Boolean\n",
    "- `is_netflix_original` (넷플릭스 오리지널 여부)\n",
    "- `content_warning` (콘텐츠 경고)"
   ]
  },
  {
   "cell_type": "code",
   "execution_count": 197,
   "id": "73412f85",
   "metadata": {},
   "outputs": [
    {
     "name": "stdout",
     "output_type": "stream",
     "text": [
      "is_netflix_original\n",
      "False    590\n",
      "True     266\n",
      "Name: count, dtype: int64\n",
      "856\n"
     ]
    }
   ],
   "source": [
    "# is_netflix_original 값 확인\n",
    "print(movies['is_netflix_original'].value_counts())\n",
    "print(movies['is_netflix_original'].size)"
   ]
  },
  {
   "cell_type": "code",
   "execution_count": 198,
   "id": "fda7c5b4",
   "metadata": {},
   "outputs": [
    {
     "name": "stdout",
     "output_type": "stream",
     "text": [
      "content_warning\n",
      "False    693\n",
      "True     163\n",
      "Name: count, dtype: int64\n",
      "856\n"
     ]
    }
   ],
   "source": [
    "# content_warning 값 확인\n",
    "print(movies['content_warning'].value_counts())\n",
    "print(movies['content_warning'].size)"
   ]
  },
  {
   "cell_type": "markdown",
   "id": "e25ee777",
   "metadata": {},
   "source": [
    "## recommendation"
   ]
  },
  {
   "cell_type": "code",
   "execution_count": 26,
   "id": "5d7d740a",
   "metadata": {},
   "outputs": [
    {
     "data": {
      "text/html": [
       "<div>\n",
       "<style scoped>\n",
       "    .dataframe tbody tr th:only-of-type {\n",
       "        vertical-align: middle;\n",
       "    }\n",
       "\n",
       "    .dataframe tbody tr th {\n",
       "        vertical-align: top;\n",
       "    }\n",
       "\n",
       "    .dataframe thead th {\n",
       "        text-align: right;\n",
       "    }\n",
       "</style>\n",
       "<table border=\"1\" class=\"dataframe\">\n",
       "  <thead>\n",
       "    <tr style=\"text-align: right;\">\n",
       "      <th></th>\n",
       "      <th>recommendation_id</th>\n",
       "      <th>user_id</th>\n",
       "      <th>movie_id</th>\n",
       "      <th>recommendation_date</th>\n",
       "      <th>recommendation_type</th>\n",
       "      <th>recommendation_score</th>\n",
       "      <th>was_clicked</th>\n",
       "      <th>position_in_list</th>\n",
       "      <th>device_type</th>\n",
       "      <th>time_of_day</th>\n",
       "      <th>algorithm_version</th>\n",
       "    </tr>\n",
       "  </thead>\n",
       "  <tbody>\n",
       "    <tr>\n",
       "      <th>0</th>\n",
       "      <td>rec_000001</td>\n",
       "      <td>user_06326</td>\n",
       "      <td>movie_0771</td>\n",
       "      <td>2025-07-03</td>\n",
       "      <td>new_releases</td>\n",
       "      <td>NaN</td>\n",
       "      <td>False</td>\n",
       "      <td>10</td>\n",
       "      <td>Tablet</td>\n",
       "      <td>evening</td>\n",
       "      <td>v1.4</td>\n",
       "    </tr>\n",
       "    <tr>\n",
       "      <th>1</th>\n",
       "      <td>rec_000002</td>\n",
       "      <td>user_02180</td>\n",
       "      <td>movie_0985</td>\n",
       "      <td>2024-11-07</td>\n",
       "      <td>genre_based</td>\n",
       "      <td>0.916</td>\n",
       "      <td>False</td>\n",
       "      <td>9</td>\n",
       "      <td>Mobile</td>\n",
       "      <td>evening</td>\n",
       "      <td>v1.4</td>\n",
       "    </tr>\n",
       "    <tr>\n",
       "      <th>2</th>\n",
       "      <td>rec_000003</td>\n",
       "      <td>user_03535</td>\n",
       "      <td>movie_0834</td>\n",
       "      <td>2024-08-22</td>\n",
       "      <td>personalized</td>\n",
       "      <td>0.816</td>\n",
       "      <td>False</td>\n",
       "      <td>2</td>\n",
       "      <td>Tablet</td>\n",
       "      <td>evening</td>\n",
       "      <td>v1.4</td>\n",
       "    </tr>\n",
       "    <tr>\n",
       "      <th>3</th>\n",
       "      <td>rec_000004</td>\n",
       "      <td>user_05025</td>\n",
       "      <td>movie_0718</td>\n",
       "      <td>2024-04-12</td>\n",
       "      <td>trending</td>\n",
       "      <td>0.771</td>\n",
       "      <td>False</td>\n",
       "      <td>16</td>\n",
       "      <td>Mobile</td>\n",
       "      <td>evening</td>\n",
       "      <td>v1.2</td>\n",
       "    </tr>\n",
       "    <tr>\n",
       "      <th>4</th>\n",
       "      <td>rec_000005</td>\n",
       "      <td>user_06794</td>\n",
       "      <td>movie_0718</td>\n",
       "      <td>2025-10-30</td>\n",
       "      <td>similar_users</td>\n",
       "      <td>0.251</td>\n",
       "      <td>False</td>\n",
       "      <td>9</td>\n",
       "      <td>Tablet</td>\n",
       "      <td>evening</td>\n",
       "      <td>v1.3</td>\n",
       "    </tr>\n",
       "  </tbody>\n",
       "</table>\n",
       "</div>"
      ],
      "text/plain": [
       "  recommendation_id     user_id    movie_id recommendation_date  \\\n",
       "0        rec_000001  user_06326  movie_0771          2025-07-03   \n",
       "1        rec_000002  user_02180  movie_0985          2024-11-07   \n",
       "2        rec_000003  user_03535  movie_0834          2024-08-22   \n",
       "3        rec_000004  user_05025  movie_0718          2024-04-12   \n",
       "4        rec_000005  user_06794  movie_0718          2025-10-30   \n",
       "\n",
       "  recommendation_type  recommendation_score  was_clicked  position_in_list  \\\n",
       "0        new_releases                   NaN        False                10   \n",
       "1         genre_based                 0.916        False                 9   \n",
       "2        personalized                 0.816        False                 2   \n",
       "3            trending                 0.771        False                16   \n",
       "4       similar_users                 0.251        False                 9   \n",
       "\n",
       "  device_type time_of_day algorithm_version  \n",
       "0      Tablet     evening              v1.4  \n",
       "1      Mobile     evening              v1.4  \n",
       "2      Tablet     evening              v1.4  \n",
       "3      Mobile     evening              v1.2  \n",
       "4      Tablet     evening              v1.3  "
      ]
     },
     "execution_count": 26,
     "metadata": {},
     "output_type": "execute_result"
    }
   ],
   "source": [
    "recommendation.head()"
   ]
  },
  {
   "cell_type": "code",
   "execution_count": 421,
   "id": "8c838869",
   "metadata": {},
   "outputs": [
    {
     "data": {
      "text/plain": [
       "recommendation_id      0\n",
       "user_id                0\n",
       "movie_id               0\n",
       "recommendation_date    0\n",
       "recommendation_type    0\n",
       "was_clicked            0\n",
       "position_in_list       0\n",
       "device_type            0\n",
       "time_of_day            0\n",
       "algorithm_version      0\n",
       "dtype: int64"
      ]
     },
     "execution_count": 421,
     "metadata": {},
     "output_type": "execute_result"
    }
   ],
   "source": [
    "recommendation.isnull().sum()"
   ]
  },
  {
   "cell_type": "markdown",
   "id": "a456a4c8",
   "metadata": {},
   "source": [
    "### 숫자열\n",
    "- `recommendation_score` (추천 점수)\n",
    "- `position_in_list` (목록 내 위치)"
   ]
  },
  {
   "cell_type": "code",
   "execution_count": 221,
   "id": "08df1ec1",
   "metadata": {},
   "outputs": [
    {
     "name": "stdout",
     "output_type": "stream",
     "text": [
      "recommendation_score\n",
      "0.4    4867\n",
      "0.8    4827\n",
      "0.6    4801\n",
      "0.7    4740\n",
      "0.2    4715\n",
      "0.9    4695\n",
      "0.3    4639\n",
      "0.5    4626\n",
      "1.0    2429\n",
      "0.1    2386\n",
      "Name: count, dtype: int64\n",
      "47478\n"
     ]
    }
   ],
   "source": [
    "# recommendation_score 값 확인 및 반올림\n",
    "recommendation['recommendation_score'] = recommendation['recommendation_score'].round(1)\n",
    "print(recommendation['recommendation_score'].value_counts())\n",
    "print(recommendation['recommendation_score'].size)"
   ]
  },
  {
   "cell_type": "code",
   "execution_count": 222,
   "id": "465c7455",
   "metadata": {},
   "outputs": [
    {
     "name": "stdout",
     "output_type": "stream",
     "text": [
      "position_in_list\n",
      "16    2460\n",
      "3     2427\n",
      "11    2423\n",
      "9     2421\n",
      "13    2413\n",
      "20    2406\n",
      "18    2387\n",
      "8     2366\n",
      "14    2363\n",
      "10    2363\n",
      "17    2360\n",
      "2     2355\n",
      "7     2353\n",
      "4     2350\n",
      "6     2350\n",
      "5     2345\n",
      "1     2342\n",
      "12    2342\n",
      "19    2339\n",
      "15    2313\n",
      "Name: count, dtype: int64\n",
      "47478\n"
     ]
    }
   ],
   "source": [
    "# position_in_list\n",
    "print(recommendation['position_in_list'].value_counts())\n",
    "print(recommendation['position_in_list'].size)"
   ]
  },
  {
   "cell_type": "code",
   "execution_count": 381,
   "id": "18993e55",
   "metadata": {},
   "outputs": [],
   "source": [
    "# 결측치가 많은 컬럼 제거\n",
    "recommendation.drop(columns=['recommendation_score'], inplace=True)"
   ]
  },
  {
   "cell_type": "markdown",
   "id": "790e2a48",
   "metadata": {},
   "source": [
    "### 문자열\n",
    "- `recommendation_id` (추천 ID)\n",
    "- `user_id` (사용자 ID)\n",
    "- `movie_id` (영화 ID)\n",
    "- `recommendation_date` (추천 날짜)\n",
    "- `recommendation_type` (추천 유형)\n",
    "- `device_type` (기기 유형)\n",
    "- `time_of_day` (시간대)\n",
    "- `algorithm_version` (알고리즘 버전)"
   ]
  },
  {
   "cell_type": "code",
   "execution_count": 202,
   "id": "0d0d8cd9",
   "metadata": {},
   "outputs": [
    {
     "name": "stdout",
     "output_type": "stream",
     "text": [
      "recommendation_id\n",
      "rec_000001    1\n",
      "rec_000002    1\n",
      "rec_000003    1\n",
      "rec_000004    1\n",
      "rec_000005    1\n",
      "             ..\n",
      "rec_049996    1\n",
      "rec_049997    1\n",
      "rec_049998    1\n",
      "rec_049999    1\n",
      "rec_050000    1\n",
      "Name: count, Length: 50000, dtype: int64\n",
      "0\n",
      "50000\n"
     ]
    }
   ],
   "source": [
    "# recommendation_id 중복값 제거 및 값 확인\n",
    "print(recommendation['recommendation_id'].value_counts())\n",
    "print(recommendation['recommendation_id'].duplicated().sum())\n",
    "recommendation.drop_duplicates(subset=['recommendation_id'], keep='first', inplace=True)\n",
    "print(recommendation['recommendation_id'].size)"
   ]
  },
  {
   "cell_type": "code",
   "execution_count": 382,
   "id": "2d2a229b",
   "metadata": {},
   "outputs": [
    {
     "name": "stdout",
     "output_type": "stream",
     "text": [
      "user_id\n",
      "user_00231    17\n",
      "user_06547    17\n",
      "user_00031    15\n",
      "user_03812    15\n",
      "user_01099    15\n",
      "              ..\n",
      "user_07460     1\n",
      "user_03276     1\n",
      "user_05011     1\n",
      "user_00481     1\n",
      "user_09683     1\n",
      "Name: count, Length: 9921, dtype: int64\n",
      "52000\n"
     ]
    }
   ],
   "source": [
    "# user_id 값 확인\n",
    "print(recommendation['user_id'].value_counts())\n",
    "print(recommendation['user_id'].size)"
   ]
  },
  {
   "cell_type": "code",
   "execution_count": 211,
   "id": "50af23d5",
   "metadata": {},
   "outputs": [
    {
     "name": "stdout",
     "output_type": "stream",
     "text": [
      "movie_id\n",
      "movie_0946    84\n",
      "movie_0342    74\n",
      "movie_0330    72\n",
      "movie_0972    70\n",
      "movie_0653    70\n",
      "              ..\n",
      "movie_0231    33\n",
      "movie_0183    32\n",
      "movie_0107    32\n",
      "movie_0688    32\n",
      "movie_0291    31\n",
      "Name: count, Length: 1000, dtype: int64\n",
      "50000\n"
     ]
    }
   ],
   "source": [
    "# movie_id 값 확인\n",
    "print(recommendation['movie_id'].value_counts())\n",
    "print(recommendation['movie_id'].size)"
   ]
  },
  {
   "cell_type": "code",
   "execution_count": 208,
   "id": "0e97d5b9",
   "metadata": {},
   "outputs": [
    {
     "name": "stdout",
     "output_type": "stream",
     "text": [
      "recommendation_date\n",
      "2024-05-26    92\n",
      "2024-12-18    92\n",
      "2025-02-28    92\n",
      "2024-08-01    92\n",
      "2025-08-06    91\n",
      "              ..\n",
      "2024-02-25    49\n",
      "2025-03-15    47\n",
      "2024-06-15    46\n",
      "2024-07-26    45\n",
      "2024-12-20    44\n",
      "Name: count, Length: 731, dtype: int64\n",
      "50000\n"
     ]
    }
   ],
   "source": [
    "# recommendation_date 값 확인 및 date 타입으로 변환\n",
    "recommendation['recommendation_date'] = pd.to_datetime(recommendation['recommendation_date'], errors='coerce')\n",
    "print(recommendation['recommendation_date'].value_counts())\n",
    "print(recommendation['recommendation_date'].size)"
   ]
  },
  {
   "cell_type": "code",
   "execution_count": 210,
   "id": "c79b321d",
   "metadata": {},
   "outputs": [
    {
     "name": "stdout",
     "output_type": "stream",
     "text": [
      "recommendation_type\n",
      "personalized     10170\n",
      "genre_based       9989\n",
      "new_releases      9950\n",
      "trending          9949\n",
      "similar_users     9942\n",
      "Name: count, dtype: int64\n",
      "50000\n"
     ]
    }
   ],
   "source": [
    "# recommendation_type 값 확인\n",
    "print(recommendation['recommendation_type'].value_counts())\n",
    "print(recommendation['recommendation_type'].size)"
   ]
  },
  {
   "cell_type": "code",
   "execution_count": null,
   "id": "bf70fbe9",
   "metadata": {},
   "outputs": [
    {
     "name": "stdout",
     "output_type": "stream",
     "text": [
      "device_type\n",
      "Tablet      12539\n",
      "Smart TV    12517\n",
      "Laptop      12480\n",
      "Mobile      12464\n",
      "Name: count, dtype: int64\n",
      "50000\n"
     ]
    }
   ],
   "source": [
    "# device_type 값 확인\n",
    "print(recommendation['device_type'].value_counts())\n",
    "print(recommendation['device_type'].size)"
   ]
  },
  {
   "cell_type": "code",
   "execution_count": 215,
   "id": "106ec99e",
   "metadata": {},
   "outputs": [
    {
     "name": "stdout",
     "output_type": "stream",
     "text": [
      "time_of_day\n",
      "evening      12576\n",
      "morning      12538\n",
      "night        12518\n",
      "afternoon    12368\n",
      "Name: count, dtype: int64\n",
      "50000\n"
     ]
    }
   ],
   "source": [
    "# time_of_day 값 확인\n",
    "print(recommendation['time_of_day'].value_counts())\n",
    "print(recommendation['time_of_day'].size)"
   ]
  },
  {
   "cell_type": "code",
   "execution_count": 217,
   "id": "91ec63d5",
   "metadata": {},
   "outputs": [
    {
     "name": "stdout",
     "output_type": "stream",
     "text": [
      "algorithm_version\n",
      "v1.4    18906\n",
      "v1.3    14196\n",
      "v2.0     9540\n",
      "v1.2     4836\n",
      "Name: count, dtype: int64\n",
      "50000\n"
     ]
    }
   ],
   "source": [
    "# algorithm_version 값 확인\n",
    "print(recommendation['algorithm_version'].value_counts())\n",
    "print(recommendation['algorithm_version'].size)"
   ]
  },
  {
   "cell_type": "code",
   "execution_count": 383,
   "id": "d7187271",
   "metadata": {},
   "outputs": [],
   "source": [
    "# 결측치 제거\n",
    "recommendation.dropna(subset=['algorithm_version'], inplace=True)"
   ]
  },
  {
   "cell_type": "markdown",
   "id": "d25d7792",
   "metadata": {},
   "source": [
    "### Boolean\n",
    "- `was_clicked` (클릭 여부)"
   ]
  },
  {
   "cell_type": "code",
   "execution_count": 226,
   "id": "0eef7886",
   "metadata": {},
   "outputs": [
    {
     "name": "stdout",
     "output_type": "stream",
     "text": [
      "was_clicked\n",
      "False    36317\n",
      "True      6408\n",
      "Name: count, dtype: int64\n",
      "42725\n"
     ]
    }
   ],
   "source": [
    "# was_clicked 값 확인\n",
    "print(recommendation['was_clicked'].value_counts())\n",
    "print(recommendation['was_clicked'].size)"
   ]
  },
  {
   "cell_type": "markdown",
   "id": "de9dfc33",
   "metadata": {},
   "source": [
    "## reviews"
   ]
  },
  {
   "cell_type": "code",
   "execution_count": 27,
   "id": "035b9084",
   "metadata": {},
   "outputs": [
    {
     "data": {
      "text/html": [
       "<div>\n",
       "<style scoped>\n",
       "    .dataframe tbody tr th:only-of-type {\n",
       "        vertical-align: middle;\n",
       "    }\n",
       "\n",
       "    .dataframe tbody tr th {\n",
       "        vertical-align: top;\n",
       "    }\n",
       "\n",
       "    .dataframe thead th {\n",
       "        text-align: right;\n",
       "    }\n",
       "</style>\n",
       "<table border=\"1\" class=\"dataframe\">\n",
       "  <thead>\n",
       "    <tr style=\"text-align: right;\">\n",
       "      <th></th>\n",
       "      <th>review_id</th>\n",
       "      <th>user_id</th>\n",
       "      <th>movie_id</th>\n",
       "      <th>rating</th>\n",
       "      <th>review_date</th>\n",
       "      <th>device_type</th>\n",
       "      <th>is_verified_watch</th>\n",
       "      <th>helpful_votes</th>\n",
       "      <th>total_votes</th>\n",
       "      <th>review_text</th>\n",
       "      <th>sentiment</th>\n",
       "      <th>sentiment_score</th>\n",
       "    </tr>\n",
       "  </thead>\n",
       "  <tbody>\n",
       "    <tr>\n",
       "      <th>0</th>\n",
       "      <td>review_000001</td>\n",
       "      <td>user_07066</td>\n",
       "      <td>movie_0360</td>\n",
       "      <td>4</td>\n",
       "      <td>2025-03-29</td>\n",
       "      <td>Mobile</td>\n",
       "      <td>False</td>\n",
       "      <td>3.0</td>\n",
       "      <td>5.0</td>\n",
       "      <td>Fantastic cinematography and plot twists.</td>\n",
       "      <td>positive</td>\n",
       "      <td>0.711</td>\n",
       "    </tr>\n",
       "    <tr>\n",
       "      <th>1</th>\n",
       "      <td>review_000002</td>\n",
       "      <td>user_02953</td>\n",
       "      <td>movie_0095</td>\n",
       "      <td>5</td>\n",
       "      <td>2024-07-19</td>\n",
       "      <td>Mobile</td>\n",
       "      <td>True</td>\n",
       "      <td>2.0</td>\n",
       "      <td>2.0</td>\n",
       "      <td>This series is a masterpiece!</td>\n",
       "      <td>positive</td>\n",
       "      <td>0.645</td>\n",
       "    </tr>\n",
       "    <tr>\n",
       "      <th>2</th>\n",
       "      <td>review_000003</td>\n",
       "      <td>user_05528</td>\n",
       "      <td>movie_0518</td>\n",
       "      <td>4</td>\n",
       "      <td>2025-02-11</td>\n",
       "      <td>Tablet</td>\n",
       "      <td>True</td>\n",
       "      <td>2.0</td>\n",
       "      <td>5.0</td>\n",
       "      <td>Fantastic cinematography and plot twists.</td>\n",
       "      <td>positive</td>\n",
       "      <td>0.730</td>\n",
       "    </tr>\n",
       "    <tr>\n",
       "      <th>3</th>\n",
       "      <td>review_000004</td>\n",
       "      <td>user_07612</td>\n",
       "      <td>movie_0672</td>\n",
       "      <td>5</td>\n",
       "      <td>2025-11-26</td>\n",
       "      <td>Mobile</td>\n",
       "      <td>True</td>\n",
       "      <td>7.0</td>\n",
       "      <td>7.0</td>\n",
       "      <td>One of the best series I've ever watched. High...</td>\n",
       "      <td>positive</td>\n",
       "      <td>0.798</td>\n",
       "    </tr>\n",
       "    <tr>\n",
       "      <th>4</th>\n",
       "      <td>review_000005</td>\n",
       "      <td>user_03424</td>\n",
       "      <td>movie_0580</td>\n",
       "      <td>3</td>\n",
       "      <td>2025-07-11</td>\n",
       "      <td>Mobile</td>\n",
       "      <td>True</td>\n",
       "      <td>1.0</td>\n",
       "      <td>5.0</td>\n",
       "      <td>Mixed feelings about this one.</td>\n",
       "      <td>neutral</td>\n",
       "      <td>0.410</td>\n",
       "    </tr>\n",
       "  </tbody>\n",
       "</table>\n",
       "</div>"
      ],
      "text/plain": [
       "       review_id     user_id    movie_id  rating review_date device_type  \\\n",
       "0  review_000001  user_07066  movie_0360       4  2025-03-29      Mobile   \n",
       "1  review_000002  user_02953  movie_0095       5  2024-07-19      Mobile   \n",
       "2  review_000003  user_05528  movie_0518       4  2025-02-11      Tablet   \n",
       "3  review_000004  user_07612  movie_0672       5  2025-11-26      Mobile   \n",
       "4  review_000005  user_03424  movie_0580       3  2025-07-11      Mobile   \n",
       "\n",
       "   is_verified_watch  helpful_votes  total_votes  \\\n",
       "0              False            3.0          5.0   \n",
       "1               True            2.0          2.0   \n",
       "2               True            2.0          5.0   \n",
       "3               True            7.0          7.0   \n",
       "4               True            1.0          5.0   \n",
       "\n",
       "                                         review_text sentiment  \\\n",
       "0          Fantastic cinematography and plot twists.  positive   \n",
       "1                      This series is a masterpiece!  positive   \n",
       "2          Fantastic cinematography and plot twists.  positive   \n",
       "3  One of the best series I've ever watched. High...  positive   \n",
       "4                     Mixed feelings about this one.   neutral   \n",
       "\n",
       "   sentiment_score  \n",
       "0            0.711  \n",
       "1            0.645  \n",
       "2            0.730  \n",
       "3            0.798  \n",
       "4            0.410  "
      ]
     },
     "execution_count": 27,
     "metadata": {},
     "output_type": "execute_result"
    }
   ],
   "source": [
    "reviews.head()"
   ]
  },
  {
   "cell_type": "code",
   "execution_count": 420,
   "id": "60e6a629",
   "metadata": {},
   "outputs": [
    {
     "data": {
      "text/plain": [
       "review_id            0\n",
       "user_id              0\n",
       "movie_id             0\n",
       "rating               0\n",
       "review_date          0\n",
       "device_type          0\n",
       "is_verified_watch    0\n",
       "helpful_votes        0\n",
       "total_votes          0\n",
       "review_text          0\n",
       "sentiment            0\n",
       "sentiment_score      0\n",
       "dtype: int64"
      ]
     },
     "execution_count": 420,
     "metadata": {},
     "output_type": "execute_result"
    }
   ],
   "source": [
    "reviews.isnull().sum()"
   ]
  },
  {
   "cell_type": "markdown",
   "id": "a262f73f",
   "metadata": {},
   "source": [
    "### 숫자열\n",
    "- `rating` (평점)\n",
    "- `helpful_votes` (도움이 된 투표 수)\n",
    "- `total_votes` (총 투표 수)\n",
    "- `sentiment_score` (감성 점수)"
   ]
  },
  {
   "cell_type": "code",
   "execution_count": 386,
   "id": "71e7b660",
   "metadata": {},
   "outputs": [
    {
     "name": "stdout",
     "output_type": "stream",
     "text": [
      "rating\n",
      "4    5373\n",
      "5    3957\n",
      "3    3824\n",
      "2    1520\n",
      "1     776\n",
      "Name: count, dtype: int64\n",
      "15450\n"
     ]
    }
   ],
   "source": [
    "# rating 값 확인\n",
    "print(reviews['rating'].value_counts())\n",
    "print(reviews['rating'].size)"
   ]
  },
  {
   "cell_type": "code",
   "execution_count": 387,
   "id": "d1b9f409",
   "metadata": {},
   "outputs": [
    {
     "name": "stdout",
     "output_type": "stream",
     "text": [
      "helpful_votes\n",
      "3.0     3049\n",
      "2.0     3030\n",
      "4.0     2359\n",
      "1.0     2042\n",
      "5.0     1350\n",
      "6.0      678\n",
      "0.0      673\n",
      "7.0      295\n",
      "8.0      104\n",
      "9.0       43\n",
      "10.0       8\n",
      "13.0       2\n",
      "12.0       1\n",
      "11.0       1\n",
      "Name: count, dtype: int64\n",
      "15450\n"
     ]
    }
   ],
   "source": [
    "# helpful_votes 값 확인\n",
    "print(reviews['helpful_votes'].value_counts())\n",
    "print(reviews['helpful_votes'].size)"
   ]
  },
  {
   "cell_type": "code",
   "execution_count": null,
   "id": "83cc5356",
   "metadata": {},
   "outputs": [
    {
     "name": "stdout",
     "output_type": "stream",
     "text": [
      "total_votes\n",
      "5.0     2789\n",
      "4.0     2578\n",
      "6.0     2350\n",
      "3.0     1625\n",
      "7.0     1617\n",
      "8.0      959\n",
      "2.0      640\n",
      "9.0      533\n",
      "10.0     259\n",
      "11.0     105\n",
      "1.0       98\n",
      "12.0      49\n",
      "13.0      18\n",
      "0.0        5\n",
      "14.0       5\n",
      "15.0       4\n",
      "16.0       1\n",
      "Name: count, dtype: int64\n",
      "15450\n"
     ]
    }
   ],
   "source": [
    "# total_votes 값 확인\n",
    "print(reviews['total_votes'].value_counts())\n",
    "print(reviews['total_votes'].size)"
   ]
  },
  {
   "cell_type": "code",
   "execution_count": 389,
   "id": "4118dd88",
   "metadata": {},
   "outputs": [
    {
     "name": "stdout",
     "output_type": "stream",
     "text": [
      "sentiment_score\n",
      "0.7    1928\n",
      "0.8    1925\n",
      "0.9    1866\n",
      "0.6    1765\n",
      "0.5    1492\n",
      "0.4     991\n",
      "1.0     952\n",
      "0.1     486\n",
      "0.2     475\n",
      "0.3     439\n",
      "0.0     247\n",
      "Name: count, dtype: int64\n",
      "12566\n"
     ]
    }
   ],
   "source": [
    "# sentiment_score 값 확인 및 반올림\n",
    "reviews['sentiment_score'] = reviews['sentiment_score'].round(1)\n",
    "print(reviews['sentiment_score'].value_counts())\n",
    "print(reviews['sentiment_score'].size)"
   ]
  },
  {
   "cell_type": "code",
   "execution_count": 388,
   "id": "5378c8cc",
   "metadata": {},
   "outputs": [],
   "source": [
    "# 결측치 제거\n",
    "reviews.dropna(subset=['sentiment_score', 'helpful_votes', 'total_votes'], inplace=True)"
   ]
  },
  {
   "cell_type": "markdown",
   "id": "a01b49a8",
   "metadata": {},
   "source": [
    "### 문자열\n",
    "- `review_id` (리뷰 ID)\n",
    "- `user_id` (사용자 ID)\n",
    "- `movie_id` (영화 ID)\n",
    "- `review_date` (리뷰 작성일)\n",
    "- `device_type` (기기 유형)\n",
    "- `review_text` (리뷰 텍스트)\n",
    "- `sentiment` (감성/감정)"
   ]
  },
  {
   "cell_type": "code",
   "execution_count": 243,
   "id": "6f03b92a",
   "metadata": {},
   "outputs": [
    {
     "name": "stdout",
     "output_type": "stream",
     "text": [
      "review_id\n",
      "review_000001    1\n",
      "review_000002    1\n",
      "review_000003    1\n",
      "review_000004    1\n",
      "review_000005    1\n",
      "                ..\n",
      "review_014996    1\n",
      "review_014997    1\n",
      "review_014998    1\n",
      "review_014999    1\n",
      "review_015000    1\n",
      "Name: count, Length: 12204, dtype: int64\n",
      "0\n",
      "12204\n"
     ]
    }
   ],
   "source": [
    "# review_id 값 확인\n",
    "print(reviews['review_id'].value_counts())\n",
    "print(reviews['review_id'].duplicated().sum())\n",
    "reviews.drop_duplicates(subset=['review_id'], keep='first', inplace=True)\n",
    "print(reviews['review_id'].size)"
   ]
  },
  {
   "cell_type": "code",
   "execution_count": 245,
   "id": "483d76e0",
   "metadata": {},
   "outputs": [
    {
     "name": "stdout",
     "output_type": "stream",
     "text": [
      "user_id\n",
      "user_08441    7\n",
      "user_09501    7\n",
      "user_06751    7\n",
      "user_05784    7\n",
      "user_04356    7\n",
      "             ..\n",
      "user_03285    1\n",
      "user_06318    1\n",
      "user_03810    1\n",
      "user_02897    1\n",
      "user_03744    1\n",
      "Name: count, Length: 7029, dtype: int64\n",
      "12204\n"
     ]
    }
   ],
   "source": [
    "# user_id 값 확인\n",
    "print(reviews['user_id'].value_counts())\n",
    "print(reviews['user_id'].size)"
   ]
  },
  {
   "cell_type": "code",
   "execution_count": 247,
   "id": "ca636616",
   "metadata": {},
   "outputs": [
    {
     "name": "stdout",
     "output_type": "stream",
     "text": [
      "movie_id\n",
      "movie_0317    27\n",
      "movie_0515    24\n",
      "movie_0200    23\n",
      "movie_0099    23\n",
      "movie_0722    22\n",
      "              ..\n",
      "movie_0910     4\n",
      "movie_0638     4\n",
      "movie_0510     4\n",
      "movie_0177     3\n",
      "movie_0081     3\n",
      "Name: count, Length: 1000, dtype: int64\n",
      "12204\n"
     ]
    }
   ],
   "source": [
    "# movie_id 값 확인\n",
    "print(reviews['movie_id'].value_counts())\n",
    "print(reviews['movie_id'].size)"
   ]
  },
  {
   "cell_type": "code",
   "execution_count": 391,
   "id": "bd0e9366",
   "metadata": {},
   "outputs": [
    {
     "name": "stdout",
     "output_type": "stream",
     "text": [
      "review_date\n",
      "2025-12-31    32\n",
      "2024-01-04    29\n",
      "2025-02-18    28\n",
      "2025-01-12    28\n",
      "2025-03-07    28\n",
      "              ..\n",
      "2025-10-11     6\n",
      "2024-08-12     6\n",
      "2024-02-19     6\n",
      "2024-08-10     6\n",
      "2025-03-11     5\n",
      "Name: count, Length: 731, dtype: int64\n",
      "11915\n"
     ]
    }
   ],
   "source": [
    "# review_date 값 확인 및 데이터 타입으로 변환\n",
    "reviews['review_date'] = pd.to_datetime(reviews['review_date'], errors='coerce')\n",
    "print(reviews['review_date'].value_counts())\n",
    "print(reviews['review_date'].size)"
   ]
  },
  {
   "cell_type": "code",
   "execution_count": 251,
   "id": "f6da01bb",
   "metadata": {},
   "outputs": [
    {
     "name": "stdout",
     "output_type": "stream",
     "text": [
      "device_type\n",
      "Mobile      3105\n",
      "Smart TV    3096\n",
      "Laptop      3005\n",
      "Tablet      2998\n",
      "Name: count, dtype: int64\n",
      "12204\n"
     ]
    }
   ],
   "source": [
    "# device_type 값 확인\n",
    "print(reviews['device_type'].value_counts())\n",
    "print(reviews['device_type'].size)"
   ]
  },
  {
   "cell_type": "code",
   "execution_count": null,
   "id": "3b8da302",
   "metadata": {},
   "outputs": [
    {
     "name": "stdout",
     "output_type": "stream",
     "text": [
      "review_text\n",
      "This series is a masterpiece!                                  737\n",
      "Outstanding direction and screenplay.                          735\n",
      "Perfect blend of drama and action.                             728\n",
      "Absolutely loved this movie. Great acting and storyline.       714\n",
      "Amazing show! Couldn't stop watching.                          704\n",
      "One of the best series I've ever watched. Highly recommend!    690\n",
      "Brilliant performance by the cast. Must watch!                 686\n",
      "Fantastic cinematography and plot twists.                      680\n",
      "Incredible story telling. Kept me engaged throughout.          677\n",
      "This movie exceeded my expectations.                           663\n",
      "It was okay. Nothing special.                                  300\n",
      "Mixed feelings about this one.                                 299\n",
      "Decent watch but forgettable.                                  296\n",
      "Could have been better.                                        290\n",
      "Watchable but predictable.                                     290\n",
      "Has its moments but overall average.                           290\n",
      "Average movie. Some good moments.                              288\n",
      "Not bad but not great either.                                  264\n",
      "Okay for a one-time watch.                                     262\n",
      "It's fine for background watching.                             258\n",
      "Not worth the time. Very predictable.                          194\n",
      "Slow paced and boring.                                         189\n",
      "Overhyped. Didn't live up to expectations.                     182\n",
      "Waste of time. Poor character development.                     174\n",
      "Confusing plot. Hard to follow.                                174\n",
      "Poor acting and weak plot.                                     173\n",
      "Boring storyline, couldn't finish watching.                    168\n",
      "Not my cup of tea. Too violent.                                163\n",
      "Terrible script and direction.                                 150\n",
      "Disappointing. Expected much more.                             150\n",
      "Name: count, dtype: int64\n"
     ]
    }
   ],
   "source": [
    "# review_text 값 확인\n",
    "print(reviews['review_text'].value_counts())\n",
    "print(reviews['review_text'].size)"
   ]
  },
  {
   "cell_type": "code",
   "execution_count": null,
   "id": "1ebba21e",
   "metadata": {},
   "outputs": [
    {
     "name": "stdout",
     "output_type": "stream",
     "text": [
      "sentiment\n",
      "positive    7397\n",
      "neutral     2993\n",
      "negative    1814\n",
      "Name: count, dtype: int64\n"
     ]
    }
   ],
   "source": [
    "# sentiment 값 확인\n",
    "print(reviews['sentiment'].value_counts())\n",
    "print(reviews['sentiment'].size)"
   ]
  },
  {
   "cell_type": "code",
   "execution_count": 390,
   "id": "2fb1f7d9",
   "metadata": {},
   "outputs": [],
   "source": [
    "# 결측치 제거\n",
    "reviews.dropna(subset=['review_text'], inplace=True)"
   ]
  },
  {
   "cell_type": "markdown",
   "id": "c7feb42e",
   "metadata": {},
   "source": [
    "### Boolean\n",
    "- `is_verified_watch` (검증된 시청 여부)"
   ]
  },
  {
   "cell_type": "code",
   "execution_count": 257,
   "id": "6c3eed50",
   "metadata": {},
   "outputs": [
    {
     "name": "stdout",
     "output_type": "stream",
     "text": [
      "is_verified_watch\n",
      "True     9362\n",
      "False    2206\n",
      "Name: count, dtype: int64\n",
      "11568\n"
     ]
    }
   ],
   "source": [
    "# is_verified_watch 값 확인\n",
    "print(reviews['is_verified_watch'].value_counts())\n",
    "print(reviews['is_verified_watch'].size)"
   ]
  },
  {
   "cell_type": "markdown",
   "id": "32d1006f",
   "metadata": {},
   "source": [
    "## search"
   ]
  },
  {
   "cell_type": "code",
   "execution_count": 28,
   "id": "782f47de",
   "metadata": {},
   "outputs": [
    {
     "data": {
      "text/html": [
       "<div>\n",
       "<style scoped>\n",
       "    .dataframe tbody tr th:only-of-type {\n",
       "        vertical-align: middle;\n",
       "    }\n",
       "\n",
       "    .dataframe tbody tr th {\n",
       "        vertical-align: top;\n",
       "    }\n",
       "\n",
       "    .dataframe thead th {\n",
       "        text-align: right;\n",
       "    }\n",
       "</style>\n",
       "<table border=\"1\" class=\"dataframe\">\n",
       "  <thead>\n",
       "    <tr style=\"text-align: right;\">\n",
       "      <th></th>\n",
       "      <th>search_id</th>\n",
       "      <th>user_id</th>\n",
       "      <th>search_query</th>\n",
       "      <th>search_date</th>\n",
       "      <th>results_returned</th>\n",
       "      <th>clicked_result_position</th>\n",
       "      <th>device_type</th>\n",
       "      <th>search_duration_seconds</th>\n",
       "      <th>had_typo</th>\n",
       "      <th>used_filters</th>\n",
       "      <th>location_country</th>\n",
       "    </tr>\n",
       "  </thead>\n",
       "  <tbody>\n",
       "    <tr>\n",
       "      <th>0</th>\n",
       "      <td>search_000001</td>\n",
       "      <td>user_09864</td>\n",
       "      <td>classic movies</td>\n",
       "      <td>2024-03-22</td>\n",
       "      <td>20</td>\n",
       "      <td>2.0</td>\n",
       "      <td>Tablet</td>\n",
       "      <td>12.4</td>\n",
       "      <td>False</td>\n",
       "      <td>False</td>\n",
       "      <td>Canada</td>\n",
       "    </tr>\n",
       "    <tr>\n",
       "      <th>1</th>\n",
       "      <td>search_000002</td>\n",
       "      <td>user_08038</td>\n",
       "      <td>stand up comedy</td>\n",
       "      <td>2025-11-22</td>\n",
       "      <td>24</td>\n",
       "      <td>4.0</td>\n",
       "      <td>Tablet</td>\n",
       "      <td>63.5</td>\n",
       "      <td>True</td>\n",
       "      <td>False</td>\n",
       "      <td>USA</td>\n",
       "    </tr>\n",
       "    <tr>\n",
       "      <th>2</th>\n",
       "      <td>search_000003</td>\n",
       "      <td>user_02009</td>\n",
       "      <td>music documentaries</td>\n",
       "      <td>2024-10-09</td>\n",
       "      <td>86</td>\n",
       "      <td>1.0</td>\n",
       "      <td>Tablet</td>\n",
       "      <td>24.7</td>\n",
       "      <td>True</td>\n",
       "      <td>False</td>\n",
       "      <td>USA</td>\n",
       "    </tr>\n",
       "    <tr>\n",
       "      <th>3</th>\n",
       "      <td>search_000004</td>\n",
       "      <td>user_01083</td>\n",
       "      <td>comedy shows</td>\n",
       "      <td>2024-12-14</td>\n",
       "      <td>70</td>\n",
       "      <td>4.0</td>\n",
       "      <td>Mobile</td>\n",
       "      <td>53.7</td>\n",
       "      <td>False</td>\n",
       "      <td>False</td>\n",
       "      <td>USA</td>\n",
       "    </tr>\n",
       "    <tr>\n",
       "      <th>4</th>\n",
       "      <td>search_000005</td>\n",
       "      <td>user_04269</td>\n",
       "      <td>movies based on true stories</td>\n",
       "      <td>2025-01-10</td>\n",
       "      <td>48</td>\n",
       "      <td>NaN</td>\n",
       "      <td>Tablet</td>\n",
       "      <td>69.6</td>\n",
       "      <td>True</td>\n",
       "      <td>False</td>\n",
       "      <td>USA</td>\n",
       "    </tr>\n",
       "  </tbody>\n",
       "</table>\n",
       "</div>"
      ],
      "text/plain": [
       "       search_id     user_id                  search_query search_date  \\\n",
       "0  search_000001  user_09864                classic movies  2024-03-22   \n",
       "1  search_000002  user_08038               stand up comedy  2025-11-22   \n",
       "2  search_000003  user_02009           music documentaries  2024-10-09   \n",
       "3  search_000004  user_01083                  comedy shows  2024-12-14   \n",
       "4  search_000005  user_04269  movies based on true stories  2025-01-10   \n",
       "\n",
       "   results_returned  clicked_result_position device_type  \\\n",
       "0                20                      2.0      Tablet   \n",
       "1                24                      4.0      Tablet   \n",
       "2                86                      1.0      Tablet   \n",
       "3                70                      4.0      Mobile   \n",
       "4                48                      NaN      Tablet   \n",
       "\n",
       "   search_duration_seconds  had_typo  used_filters location_country  \n",
       "0                     12.4     False         False           Canada  \n",
       "1                     63.5      True         False              USA  \n",
       "2                     24.7      True         False              USA  \n",
       "3                     53.7     False         False              USA  \n",
       "4                     69.6      True         False              USA  "
      ]
     },
     "execution_count": 28,
     "metadata": {},
     "output_type": "execute_result"
    }
   ],
   "source": [
    "search.head()"
   ]
  },
  {
   "cell_type": "code",
   "execution_count": 423,
   "id": "38764187",
   "metadata": {},
   "outputs": [
    {
     "data": {
      "text/plain": [
       "search_id                  0\n",
       "user_id                    0\n",
       "search_query               0\n",
       "search_date                0\n",
       "results_returned           0\n",
       "device_type                0\n",
       "search_duration_seconds    0\n",
       "had_typo                   0\n",
       "used_filters               0\n",
       "location_country           0\n",
       "dtype: int64"
      ]
     },
     "execution_count": 423,
     "metadata": {},
     "output_type": "execute_result"
    }
   ],
   "source": [
    "search.isnull().sum()"
   ]
  },
  {
   "cell_type": "markdown",
   "id": "a0be1d3d",
   "metadata": {},
   "source": [
    "### 숫자열\n",
    "- `results_returned` (반환된 결과 수)\n",
    "- `clicked_result_position` (클릭된 결과 위치)\n",
    "- `search_duration_seconds` (검색 소요 시간(초))"
   ]
  },
  {
   "cell_type": "code",
   "execution_count": 261,
   "id": "76cfeb70",
   "metadata": {},
   "outputs": [
    {
     "name": "stdout",
     "output_type": "stream",
     "text": [
      "results_returned\n",
      "49    306\n",
      "61    301\n",
      "82    300\n",
      "78    296\n",
      "38    296\n",
      "     ... \n",
      "25    239\n",
      "22    237\n",
      "70    232\n",
      "31    226\n",
      "39    219\n",
      "Name: count, Length: 101, dtype: int64\n",
      "26500\n"
     ]
    }
   ],
   "source": [
    "# results_returned 값 확인\n",
    "print(search['results_returned'].value_counts())\n",
    "print(search['results_returned'].size)"
   ]
  },
  {
   "cell_type": "code",
   "execution_count": 294,
   "id": "e859d1e6",
   "metadata": {},
   "outputs": [
    {
     "name": "stdout",
     "output_type": "stream",
     "text": [
      "clicked_result_position\n",
      "7.0     1237\n",
      "6.0     1225\n",
      "10.0    1178\n",
      "8.0     1174\n",
      "2.0     1155\n",
      "3.0     1149\n",
      "5.0     1147\n",
      "4.0     1143\n",
      "9.0     1122\n",
      "1.0     1090\n",
      "Name: count, dtype: int64\n",
      "11620\n"
     ]
    }
   ],
   "source": [
    "# clicked_result_position 값 확인 및 반올림\n",
    "search['clicked_result_position'] = search['clicked_result_position'].round(0)\n",
    "print(search['clicked_result_position'].value_counts())\n",
    "print(search['clicked_result_position'].size)"
   ]
  },
  {
   "cell_type": "code",
   "execution_count": 394,
   "id": "8cbfb7f5",
   "metadata": {},
   "outputs": [
    {
     "name": "stdout",
     "output_type": "stream",
     "text": [
      "search_duration_seconds\n",
      "8.0      1028\n",
      "14.0      998\n",
      "10.0      985\n",
      "12.0      973\n",
      "16.0      943\n",
      "         ... \n",
      "116.0       1\n",
      "96.0        1\n",
      "103.0       1\n",
      "114.0       1\n",
      "104.0       1\n",
      "Name: count, Length: 109, dtype: int64\n",
      "25223\n"
     ]
    }
   ],
   "source": [
    "# search_duration_seconds 값 확인\n",
    "search['search_duration_seconds'] = search['search_duration_seconds'].round(0)\n",
    "print(search['search_duration_seconds'].value_counts())\n",
    "print(search['search_duration_seconds'].size)"
   ]
  },
  {
   "cell_type": "code",
   "execution_count": 393,
   "id": "6f789bb5",
   "metadata": {},
   "outputs": [],
   "source": [
    "# 결측치 제거 및 컬럼 제거\n",
    "search.dropna(subset=['search_duration_seconds'], inplace=True)\n",
    "search.drop(columns=['clicked_result_position'], inplace=True)"
   ]
  },
  {
   "cell_type": "markdown",
   "id": "60770e2a",
   "metadata": {},
   "source": [
    "### 문자열\n",
    "- `search_id` (검색 ID)\n",
    "- `user_id` (사용자 ID)\n",
    "- `search_query` (검색어)\n",
    "- `search_date` (검색 날짜)\n",
    "- `device_type` (기기 유형)\n",
    "- `location_country` (위치(국가))"
   ]
  },
  {
   "cell_type": "code",
   "execution_count": null,
   "id": "8c8ab14e",
   "metadata": {},
   "outputs": [
    {
     "name": "stdout",
     "output_type": "stream",
     "text": [
      "search_id\n",
      "search_000001    1\n",
      "search_000002    1\n",
      "search_000003    1\n",
      "search_000004    1\n",
      "search_000005    1\n",
      "                ..\n",
      "search_024996    1\n",
      "search_024997    1\n",
      "search_024998    1\n",
      "search_024999    1\n",
      "search_025000    1\n",
      "Name: count, Length: 25000, dtype: int64\n",
      "0\n",
      "25000\n"
     ]
    }
   ],
   "source": [
    "# search_id 값 확인 및 중복값 제거\n",
    "print(search['search_id'].value_counts())\n",
    "print(search.duplicated().sum())\n",
    "search.drop_duplicates(subset=['search_id'], keep='first', inplace=True)\n",
    "print(search['search_id'].size)"
   ]
  },
  {
   "cell_type": "code",
   "execution_count": 278,
   "id": "6a7bf868",
   "metadata": {},
   "outputs": [
    {
     "name": "stdout",
     "output_type": "stream",
     "text": [
      "user_id\n",
      "user_08356    9\n",
      "user_04165    9\n",
      "user_02953    9\n",
      "user_05805    9\n",
      "user_09095    9\n",
      "             ..\n",
      "user_07998    1\n",
      "user_01604    1\n",
      "user_02220    1\n",
      "user_03296    1\n",
      "user_05901    1\n",
      "Name: count, Length: 9186, dtype: int64\n",
      "25000\n"
     ]
    }
   ],
   "source": [
    "# user_id 값 확인\n",
    "print(search['user_id'].value_counts())\n",
    "print(search['user_id'].size)"
   ]
  },
  {
   "cell_type": "code",
   "execution_count": 280,
   "id": "6b33a457",
   "metadata": {},
   "outputs": [
    {
     "name": "stdout",
     "output_type": "stream",
     "text": [
      "search_query\n",
      "stand up comedy                    958\n",
      "sci-fi                             943\n",
      "comedy shows                       940\n",
      "travel documentaries               938\n",
      "new releases                       933\n",
      "classic movies                     929\n",
      "superhero movies                   924\n",
      "drama series                       917\n",
      "romantic comedies                  916\n",
      "horror movies                      915\n",
      "trending now                       911\n",
      "netflix originals                  907\n",
      "true crime                         903\n",
      "family movies                      901\n",
      "thriller series                    898\n",
      "war movies                         892\n",
      "christmas movies                   892\n",
      "cooking shows                      888\n",
      "documentaries                      885\n",
      "action movies                      871\n",
      "biographies                        865\n",
      "animated shows                     863\n",
      "music documentaries                837\n",
      "korean drama                       837\n",
      "halloween movies                   825\n",
      "movies based on true stories       389\n",
      "short episodes under 30 minutes    377\n",
      "shows with strong female leads     365\n",
      "best movies 2024                   356\n",
      "movies like stranger things        351\n",
      "series with only one season        337\n",
      "award winning documentaries        337\n",
      "Name: count, dtype: int64\n",
      "25000\n"
     ]
    }
   ],
   "source": [
    "# search_query 값 확인\n",
    "print(search['search_query'].value_counts())\n",
    "print(search['search_query'].size)"
   ]
  },
  {
   "cell_type": "code",
   "execution_count": 283,
   "id": "f02adecb",
   "metadata": {},
   "outputs": [
    {
     "name": "stdout",
     "output_type": "stream",
     "text": [
      "search_date\n",
      "2025-05-09    51\n",
      "2025-01-17    50\n",
      "2024-05-23    49\n",
      "2025-06-16    49\n",
      "2024-12-31    49\n",
      "              ..\n",
      "2025-12-21    21\n",
      "2024-05-16    20\n",
      "2024-06-02    19\n",
      "2024-02-09    18\n",
      "2024-09-24    16\n",
      "Name: count, Length: 731, dtype: int64\n",
      "25000\n"
     ]
    }
   ],
   "source": [
    "# search_date 값 확인 및 데이터 타입으로 변환\n",
    "search['search_date'] = pd.to_datetime(search['search_date'], errors='coerce')\n",
    "print(search['search_date'].value_counts())\n",
    "print(search['search_date'].size)"
   ]
  },
  {
   "cell_type": "code",
   "execution_count": 285,
   "id": "80b4a509",
   "metadata": {},
   "outputs": [
    {
     "name": "stdout",
     "output_type": "stream",
     "text": [
      "device_type\n",
      "Tablet      6385\n",
      "Laptop      6243\n",
      "Smart TV    6192\n",
      "Mobile      6180\n",
      "Name: count, dtype: int64\n",
      "25000\n"
     ]
    }
   ],
   "source": [
    "# device_type 값 확인\n",
    "print(search['device_type'].value_counts())\n",
    "print(search['device_type'].size)"
   ]
  },
  {
   "cell_type": "code",
   "execution_count": 287,
   "id": "0247695e",
   "metadata": {},
   "outputs": [
    {
     "name": "stdout",
     "output_type": "stream",
     "text": [
      "location_country\n",
      "USA       17491\n",
      "Canada     7509\n",
      "Name: count, dtype: int64\n",
      "25000\n"
     ]
    }
   ],
   "source": [
    "# location_country 값 확인\n",
    "print(search['location_country'].value_counts())\n",
    "print(search['location_country'].size)"
   ]
  },
  {
   "cell_type": "markdown",
   "id": "ea0bdf80",
   "metadata": {},
   "source": [
    "### Boolean\n",
    "- `had_typo` (오타 여부)\n",
    "- `used_filters` (필터 사용 여부)"
   ]
  },
  {
   "cell_type": "code",
   "execution_count": 289,
   "id": "1c795dde",
   "metadata": {},
   "outputs": [
    {
     "name": "stdout",
     "output_type": "stream",
     "text": [
      "had_typo\n",
      "False    21227\n",
      "True      3773\n",
      "Name: count, dtype: int64\n",
      "25000\n"
     ]
    }
   ],
   "source": [
    "# had_typo 값 확인\n",
    "print(search['had_typo'].value_counts())\n",
    "print(search['had_typo'].size)"
   ]
  },
  {
   "cell_type": "code",
   "execution_count": 291,
   "id": "5fb62e21",
   "metadata": {},
   "outputs": [
    {
     "name": "stdout",
     "output_type": "stream",
     "text": [
      "used_filters\n",
      "False    18647\n",
      "True      6353\n",
      "Name: count, dtype: int64\n",
      "25000\n"
     ]
    }
   ],
   "source": [
    "# used_filters 값 확인\n",
    "print(search['used_filters'].value_counts())\n",
    "print(search['used_filters'].size)"
   ]
  },
  {
   "cell_type": "markdown",
   "id": "525e5923",
   "metadata": {},
   "source": [
    "## users"
   ]
  },
  {
   "cell_type": "code",
   "execution_count": 29,
   "id": "0c774b7a",
   "metadata": {},
   "outputs": [
    {
     "data": {
      "text/html": [
       "<div>\n",
       "<style scoped>\n",
       "    .dataframe tbody tr th:only-of-type {\n",
       "        vertical-align: middle;\n",
       "    }\n",
       "\n",
       "    .dataframe tbody tr th {\n",
       "        vertical-align: top;\n",
       "    }\n",
       "\n",
       "    .dataframe thead th {\n",
       "        text-align: right;\n",
       "    }\n",
       "</style>\n",
       "<table border=\"1\" class=\"dataframe\">\n",
       "  <thead>\n",
       "    <tr style=\"text-align: right;\">\n",
       "      <th></th>\n",
       "      <th>user_id</th>\n",
       "      <th>email</th>\n",
       "      <th>first_name</th>\n",
       "      <th>last_name</th>\n",
       "      <th>age</th>\n",
       "      <th>gender</th>\n",
       "      <th>country</th>\n",
       "      <th>state_province</th>\n",
       "      <th>city</th>\n",
       "      <th>subscription_plan</th>\n",
       "      <th>subscription_start_date</th>\n",
       "      <th>is_active</th>\n",
       "      <th>monthly_spend</th>\n",
       "      <th>primary_device</th>\n",
       "      <th>household_size</th>\n",
       "      <th>created_at</th>\n",
       "    </tr>\n",
       "  </thead>\n",
       "  <tbody>\n",
       "    <tr>\n",
       "      <th>0</th>\n",
       "      <td>user_00001</td>\n",
       "      <td>figueroajohn@example.org</td>\n",
       "      <td>Erica</td>\n",
       "      <td>Garza</td>\n",
       "      <td>43.0</td>\n",
       "      <td>Male</td>\n",
       "      <td>USA</td>\n",
       "      <td>Massachusetts</td>\n",
       "      <td>North Jefferyhaven</td>\n",
       "      <td>Basic</td>\n",
       "      <td>2024-04-08</td>\n",
       "      <td>True</td>\n",
       "      <td>36.06</td>\n",
       "      <td>Laptop</td>\n",
       "      <td>1.0</td>\n",
       "      <td>2023-04-01 14:40:50.540242</td>\n",
       "    </tr>\n",
       "    <tr>\n",
       "      <th>1</th>\n",
       "      <td>user_00002</td>\n",
       "      <td>blakeerik@example.com</td>\n",
       "      <td>Joshua</td>\n",
       "      <td>Bernard</td>\n",
       "      <td>38.0</td>\n",
       "      <td>Male</td>\n",
       "      <td>USA</td>\n",
       "      <td>Texas</td>\n",
       "      <td>North Noahstad</td>\n",
       "      <td>Premium+</td>\n",
       "      <td>2024-05-24</td>\n",
       "      <td>True</td>\n",
       "      <td>14.59</td>\n",
       "      <td>Desktop</td>\n",
       "      <td>2.0</td>\n",
       "      <td>2024-10-10 15:39:11.030515</td>\n",
       "    </tr>\n",
       "    <tr>\n",
       "      <th>2</th>\n",
       "      <td>user_00003</td>\n",
       "      <td>smiller@example.net</td>\n",
       "      <td>Barbara</td>\n",
       "      <td>Williams</td>\n",
       "      <td>32.0</td>\n",
       "      <td>Female</td>\n",
       "      <td>USA</td>\n",
       "      <td>Michigan</td>\n",
       "      <td>Traciebury</td>\n",
       "      <td>Standard</td>\n",
       "      <td>2023-09-22</td>\n",
       "      <td>False</td>\n",
       "      <td>11.71</td>\n",
       "      <td>Desktop</td>\n",
       "      <td>3.0</td>\n",
       "      <td>2024-06-29 14:27:49.560875</td>\n",
       "    </tr>\n",
       "    <tr>\n",
       "      <th>3</th>\n",
       "      <td>user_00004</td>\n",
       "      <td>mitchellclark@example.com</td>\n",
       "      <td>Chelsea</td>\n",
       "      <td>Ferguson</td>\n",
       "      <td>11.0</td>\n",
       "      <td>Male</td>\n",
       "      <td>USA</td>\n",
       "      <td>Ohio</td>\n",
       "      <td>South Noah</td>\n",
       "      <td>Standard</td>\n",
       "      <td>2024-08-21</td>\n",
       "      <td>True</td>\n",
       "      <td>28.56</td>\n",
       "      <td>Laptop</td>\n",
       "      <td>2.0</td>\n",
       "      <td>2023-04-11 01:01:59.614841</td>\n",
       "    </tr>\n",
       "    <tr>\n",
       "      <th>4</th>\n",
       "      <td>user_00005</td>\n",
       "      <td>richard13@example.net</td>\n",
       "      <td>Jason</td>\n",
       "      <td>Foster</td>\n",
       "      <td>21.0</td>\n",
       "      <td>Female</td>\n",
       "      <td>USA</td>\n",
       "      <td>Arizona</td>\n",
       "      <td>West Donald</td>\n",
       "      <td>Standard</td>\n",
       "      <td>2024-10-28</td>\n",
       "      <td>True</td>\n",
       "      <td>9.54</td>\n",
       "      <td>Desktop</td>\n",
       "      <td>6.0</td>\n",
       "      <td>2025-04-12 19:59:30.137806</td>\n",
       "    </tr>\n",
       "  </tbody>\n",
       "</table>\n",
       "</div>"
      ],
      "text/plain": [
       "      user_id                      email first_name last_name   age  gender  \\\n",
       "0  user_00001   figueroajohn@example.org      Erica     Garza  43.0    Male   \n",
       "1  user_00002      blakeerik@example.com     Joshua   Bernard  38.0    Male   \n",
       "2  user_00003        smiller@example.net    Barbara  Williams  32.0  Female   \n",
       "3  user_00004  mitchellclark@example.com    Chelsea  Ferguson  11.0    Male   \n",
       "4  user_00005      richard13@example.net      Jason    Foster  21.0  Female   \n",
       "\n",
       "  country state_province                city subscription_plan  \\\n",
       "0     USA  Massachusetts  North Jefferyhaven             Basic   \n",
       "1     USA          Texas      North Noahstad          Premium+   \n",
       "2     USA       Michigan          Traciebury          Standard   \n",
       "3     USA           Ohio          South Noah          Standard   \n",
       "4     USA        Arizona         West Donald          Standard   \n",
       "\n",
       "  subscription_start_date  is_active  monthly_spend primary_device  \\\n",
       "0              2024-04-08       True          36.06         Laptop   \n",
       "1              2024-05-24       True          14.59        Desktop   \n",
       "2              2023-09-22      False          11.71        Desktop   \n",
       "3              2024-08-21       True          28.56         Laptop   \n",
       "4              2024-10-28       True           9.54        Desktop   \n",
       "\n",
       "   household_size                  created_at  \n",
       "0             1.0  2023-04-01 14:40:50.540242  \n",
       "1             2.0  2024-10-10 15:39:11.030515  \n",
       "2             3.0  2024-06-29 14:27:49.560875  \n",
       "3             2.0  2023-04-11 01:01:59.614841  \n",
       "4             6.0  2025-04-12 19:59:30.137806  "
      ]
     },
     "execution_count": 29,
     "metadata": {},
     "output_type": "execute_result"
    }
   ],
   "source": [
    "users.head()"
   ]
  },
  {
   "cell_type": "code",
   "execution_count": 424,
   "id": "1ea04ae2",
   "metadata": {},
   "outputs": [
    {
     "data": {
      "text/plain": [
       "user_id                    0\n",
       "email                      0\n",
       "first_name                 0\n",
       "last_name                  0\n",
       "age                        0\n",
       "gender                     0\n",
       "country                    0\n",
       "state_province             0\n",
       "city                       0\n",
       "subscription_plan          0\n",
       "subscription_start_date    0\n",
       "is_active                  0\n",
       "monthly_spend              0\n",
       "primary_device             0\n",
       "household_size             0\n",
       "created_at                 0\n",
       "dtype: int64"
      ]
     },
     "execution_count": 424,
     "metadata": {},
     "output_type": "execute_result"
    }
   ],
   "source": [
    "users.isnull().sum()"
   ]
  },
  {
   "cell_type": "markdown",
   "id": "a1be25f4",
   "metadata": {},
   "source": [
    "### 숫자열\n",
    "- `age` (나이)\n",
    "- `monthly_spend` (월간 지출액)\n",
    "- `household_size` (가구 구성원 수)"
   ]
  },
  {
   "cell_type": "code",
   "execution_count": 397,
   "id": "12e7c9e0",
   "metadata": {},
   "outputs": [
    {
     "name": "stdout",
     "output_type": "stream",
     "text": [
      "age\n",
      "35.0     318\n",
      "31.0     305\n",
      "36.0     295\n",
      "33.0     289\n",
      "40.0     286\n",
      "        ... \n",
      "73.0       1\n",
      "108.0      1\n",
      "107.0      1\n",
      "95.0       1\n",
      "93.0       1\n",
      "Name: count, Length: 91, dtype: int64\n",
      "10300\n"
     ]
    }
   ],
   "source": [
    "# age 값 확인, 반올림 및 음수 NAN값으로 변환\n",
    "users['age'] = users['age'].round(0)\n",
    "users.loc[users['age'] < 0, 'age'] = np.nan\n",
    "print(users['age'].value_counts())\n",
    "print(users['age'].size)"
   ]
  },
  {
   "cell_type": "code",
   "execution_count": null,
   "id": "7d10b3a8",
   "metadata": {},
   "outputs": [
    {
     "name": "stdout",
     "output_type": "stream",
     "text": [
      "monthly_spend\n",
      "9.0      454\n",
      "10.0     435\n",
      "8.0      429\n",
      "7.0      415\n",
      "6.0      412\n",
      "        ... \n",
      "843.0      1\n",
      "544.0      1\n",
      "835.0      1\n",
      "378.0      1\n",
      "657.0      1\n",
      "Name: count, Length: 171, dtype: int64\n",
      "10300\n"
     ]
    }
   ],
   "source": [
    "# monthly_spend 값 확인 및 반올림\n",
    "users['monthly_spend'] = users['monthly_spend'].round(0)\n",
    "print(users['monthly_spend'].value_counts())\n",
    "print(users['monthly_spend'].size)"
   ]
  },
  {
   "cell_type": "code",
   "execution_count": 309,
   "id": "be0eaf82",
   "metadata": {},
   "outputs": [
    {
     "name": "stdout",
     "output_type": "stream",
     "text": [
      "household_size\n",
      "2.0    2659\n",
      "1.0    1719\n",
      "3.0    1717\n",
      "4.0    1350\n",
      "5.0     695\n",
      "6.0     371\n",
      "7.0     172\n",
      "8.0      72\n",
      "Name: count, dtype: int64\n",
      "10300\n"
     ]
    }
   ],
   "source": [
    "# household_size 값 확인 및 반올림\n",
    "users['household_size'] = users['household_size'].round(0)\n",
    "print(users['household_size'].value_counts())\n",
    "print(users['household_size'].size)"
   ]
  },
  {
   "cell_type": "code",
   "execution_count": 398,
   "id": "1e83d757",
   "metadata": {},
   "outputs": [],
   "source": [
    "# 결측치 제거\n",
    "users.dropna(subset=['age', 'monthly_spend', 'household_size'], inplace=True)"
   ]
  },
  {
   "cell_type": "markdown",
   "id": "910c4716",
   "metadata": {},
   "source": [
    "### 문자열\n",
    "- `user_id` (사용자 ID)\n",
    "- `email` (이메일)\n",
    "- `first_name` (이름)\n",
    "- `last_name` (성)\n",
    "- `gender` (성별)\n",
    "- `country` (국가)\n",
    "- `state_province` (주/도)\n",
    "- `city` (도시)\n",
    "- `subscription_plan` (구독 요금제)\n",
    "- `subscription_start_date` (구독 시작일)\n",
    "- `primary_device` (주 사용 기기)\n",
    "- `created_at` (계정 생성일)"
   ]
  },
  {
   "cell_type": "code",
   "execution_count": 321,
   "id": "ce5ca679",
   "metadata": {},
   "outputs": [
    {
     "name": "stdout",
     "output_type": "stream",
     "text": [
      "user_id\n",
      "user_00001    1\n",
      "user_00002    1\n",
      "user_00003    1\n",
      "user_00004    1\n",
      "user_00005    1\n",
      "             ..\n",
      "user_09995    1\n",
      "user_09996    1\n",
      "user_09998    1\n",
      "user_09999    1\n",
      "user_10000    1\n",
      "Name: count, Length: 6737, dtype: int64\n",
      "6737\n"
     ]
    }
   ],
   "source": [
    "# user_id 값 확인 및 중복값 제거\n",
    "print(users['user_id'].value_counts())\n",
    "users['user_id'].duplicated().sum()\n",
    "users.drop_duplicates(subset=['user_id'], keep='first', inplace=True)\n",
    "print(users['user_id'].size)"
   ]
  },
  {
   "cell_type": "code",
   "execution_count": null,
   "id": "e6faab0d",
   "metadata": {},
   "outputs": [
    {
     "name": "stdout",
     "output_type": "stream",
     "text": [
      "email\n",
      "figueroajohn@example.org      1\n",
      "blakeerik@example.com         1\n",
      "smiller@example.net           1\n",
      "mitchellclark@example.com     1\n",
      "richard13@example.net         1\n",
      "                             ..\n",
      "erin07@example.org            1\n",
      "jessicaestrada@example.org    1\n",
      "lisa14@example.com            1\n",
      "kscott@example.org            1\n",
      "kevin71@example.org           1\n",
      "Name: count, Length: 6627, dtype: int64\n",
      "6627\n"
     ]
    }
   ],
   "source": [
    "# email 값 확인 및 중복값 제거\n",
    "print(users['email'].value_counts())\n",
    "users['email'].duplicated().sum()\n",
    "users.drop_duplicates(subset=['email'], keep='first', inplace=True)\n",
    "print(users['email'].size)"
   ]
  },
  {
   "cell_type": "code",
   "execution_count": 326,
   "id": "32f3b7de",
   "metadata": {},
   "outputs": [
    {
     "name": "stdout",
     "output_type": "stream",
     "text": [
      "first_name\n",
      "Michael        150\n",
      "David          119\n",
      "James          104\n",
      "Robert          95\n",
      "Christopher     94\n",
      "              ... \n",
      "Adriana          1\n",
      "Tim              1\n",
      "Ashlee           1\n",
      "Kristie          1\n",
      "Kellie           1\n",
      "Name: count, Length: 625, dtype: int64\n",
      "6627\n"
     ]
    }
   ],
   "source": [
    "# first_name 값 확인\n",
    "print(users['first_name'].value_counts())\n",
    "print(users['first_name'].size)"
   ]
  },
  {
   "cell_type": "code",
   "execution_count": 328,
   "id": "25148c53",
   "metadata": {},
   "outputs": [
    {
     "name": "stdout",
     "output_type": "stream",
     "text": [
      "<bound method IndexOpsMixin.value_counts of 0          Garza\n",
      "1        Bernard\n",
      "2       Williams\n",
      "3       Ferguson\n",
      "4         Foster\n",
      "          ...   \n",
      "9994     Goodwin\n",
      "9995    Harrison\n",
      "9997    Galloway\n",
      "9998    Mckenzie\n",
      "9999     Morales\n",
      "Name: last_name, Length: 6627, dtype: object>\n",
      "6627\n"
     ]
    }
   ],
   "source": [
    "# last_name 값 확인\n",
    "print(users['last_name'].value_counts)\n",
    "print(users['last_name'].size)"
   ]
  },
  {
   "cell_type": "code",
   "execution_count": 330,
   "id": "0d15ae23",
   "metadata": {},
   "outputs": [
    {
     "name": "stdout",
     "output_type": "stream",
     "text": [
      "gender\n",
      "Female               2758\n",
      "Male                 2719\n",
      "Other                 306\n",
      "Prefer not to say     298\n",
      "Name: count, dtype: int64\n",
      "6627\n"
     ]
    }
   ],
   "source": [
    "# gender 값 확인\n",
    "print(users['gender'].value_counts())\n",
    "print(users['gender'].size)"
   ]
  },
  {
   "cell_type": "code",
   "execution_count": 332,
   "id": "5590dc2e",
   "metadata": {},
   "outputs": [
    {
     "name": "stdout",
     "output_type": "stream",
     "text": [
      "country\n",
      "USA       4636\n",
      "Canada    1991\n",
      "Name: count, dtype: int64\n",
      "6627\n"
     ]
    }
   ],
   "source": [
    "# country 값 확인\n",
    "print(users['country'].value_counts())\n",
    "print(users['country'].size)"
   ]
  },
  {
   "cell_type": "code",
   "execution_count": 334,
   "id": "58ff3a37",
   "metadata": {},
   "outputs": [
    {
     "name": "stdout",
     "output_type": "stream",
     "text": [
      "state_province\n",
      "North Carolina               261\n",
      "Tennessee                    260\n",
      "Arizona                      241\n",
      "Nova Scotia                  239\n",
      "Georgia                      239\n",
      "Florida                      236\n",
      "Wisconsin                    233\n",
      "Indiana                      233\n",
      "New York                     233\n",
      "Illinois                     232\n",
      "Michigan                     230\n",
      "Texas                        230\n",
      "Missouri                     229\n",
      "Pennsylvania                 228\n",
      "California                   227\n",
      "Washington                   226\n",
      "New Jersey                   224\n",
      "Virginia                     222\n",
      "Maryland                     221\n",
      "Massachusetts                218\n",
      "Ohio                         213\n",
      "Quebec                       209\n",
      "Ontario                      206\n",
      "Manitoba                     200\n",
      "Prince Edward Island         198\n",
      "Newfoundland and Labrador    197\n",
      "Alberta                      191\n",
      "Saskatchewan                 187\n",
      "British Columbia             185\n",
      "New Brunswick                179\n",
      "Name: count, dtype: int64\n",
      "6627\n"
     ]
    }
   ],
   "source": [
    "# state_province 값 확인\n",
    "print(users['state_province'].value_counts())\n",
    "print(users['state_province'].size)"
   ]
  },
  {
   "cell_type": "code",
   "execution_count": null,
   "id": "169ad98d",
   "metadata": {},
   "outputs": [
    {
     "name": "stdout",
     "output_type": "stream",
     "text": [
      "city\n",
      "North Michael        11\n",
      "North Jennifer        7\n",
      "Port Michael          6\n",
      "Davismouth            6\n",
      "New Christopher       6\n",
      "                     ..\n",
      "South Bobside         1\n",
      "Luistown              1\n",
      "Tinaland              1\n",
      "Port Jeanetteview     1\n",
      "Navarrohaven          1\n",
      "Name: count, Length: 5525, dtype: int64\n",
      "6627\n"
     ]
    }
   ],
   "source": [
    "# city 값 확인\n",
    "print(users['city'].value_counts())\n",
    "print(users['city'].size)"
   ]
  },
  {
   "cell_type": "code",
   "execution_count": null,
   "id": "9044194b",
   "metadata": {},
   "outputs": [
    {
     "name": "stdout",
     "output_type": "stream",
     "text": [
      "subscription_plan\n",
      "Standard    2342\n",
      "Premium     2317\n",
      "Basic       1316\n",
      "Premium+     652\n",
      "Name: count, dtype: int64\n",
      "6627\n"
     ]
    }
   ],
   "source": [
    "# subscription_plan 값 확인\n",
    "print(users['subscription_plan'].value_counts())\n",
    "print(users['subscription_plan'].size)"
   ]
  },
  {
   "cell_type": "code",
   "execution_count": 342,
   "id": "6cbc3b25",
   "metadata": {},
   "outputs": [
    {
     "name": "stdout",
     "output_type": "stream",
     "text": [
      "subscription_start_date\n",
      "2023-08-21    15\n",
      "2023-09-14    14\n",
      "2022-08-17    14\n",
      "2025-02-08    14\n",
      "2023-01-12    14\n",
      "              ..\n",
      "2023-06-30     1\n",
      "2025-07-31     1\n",
      "2025-06-18     1\n",
      "2025-02-04     1\n",
      "2024-05-26     1\n",
      "Name: count, Length: 1095, dtype: int64\n",
      "6627\n"
     ]
    }
   ],
   "source": [
    "# subscription_start_date 값 확인 및 데이터 타입으로 변환\n",
    "users['subscription_start_date'] = pd.to_datetime(users['subscription_start_date'])\n",
    "print(users['subscription_start_date'].value_counts())\n",
    "print(users['subscription_start_date'].size)"
   ]
  },
  {
   "cell_type": "code",
   "execution_count": 344,
   "id": "e0208105",
   "metadata": {},
   "outputs": [
    {
     "name": "stdout",
     "output_type": "stream",
     "text": [
      "primary_device\n",
      "Desktop           1147\n",
      "Tablet            1105\n",
      "Laptop            1104\n",
      "Smart TV          1098\n",
      "Mobile            1089\n",
      "Gaming Console    1084\n",
      "Name: count, dtype: int64\n",
      "6627\n"
     ]
    }
   ],
   "source": [
    "# primary_device 값 확인\n",
    "print(users['primary_device'].value_counts())\n",
    "print(users['primary_device'].size)"
   ]
  },
  {
   "cell_type": "code",
   "execution_count": 347,
   "id": "936819ce",
   "metadata": {},
   "outputs": [
    {
     "name": "stdout",
     "output_type": "stream",
     "text": [
      "created_at\n",
      "2023-04-01 14:40:50.540242    1\n",
      "2024-10-10 15:39:11.030515    1\n",
      "2024-06-29 14:27:49.560875    1\n",
      "2023-04-11 01:01:59.614841    1\n",
      "2025-04-12 19:59:30.137806    1\n",
      "                             ..\n",
      "2024-04-10 16:47:26.959267    1\n",
      "2022-10-13 00:19:59.664856    1\n",
      "2025-05-28 10:02:35.235233    1\n",
      "2024-07-14 10:36:03.719715    1\n",
      "2024-06-03 22:53:10.930630    1\n",
      "Name: count, Length: 6627, dtype: int64\n",
      "6627\n"
     ]
    }
   ],
   "source": [
    "# created_at 값 확인 및 데이터 타입으로 변환\n",
    "users['created_at'] = pd.to_datetime(users['created_at'])\n",
    "print(users['created_at'].value_counts())\n",
    "print(users['created_at'].size)"
   ]
  },
  {
   "cell_type": "code",
   "execution_count": 400,
   "id": "28cec213",
   "metadata": {},
   "outputs": [],
   "source": [
    "# 결측치 제거\n",
    "users.dropna(subset=['gender'], inplace=True)"
   ]
  },
  {
   "cell_type": "markdown",
   "id": "158b727e",
   "metadata": {},
   "source": [
    "### Boolean\n",
    "- `is_active` (활성 여부)"
   ]
  },
  {
   "cell_type": "code",
   "execution_count": 349,
   "id": "a059fcec",
   "metadata": {},
   "outputs": [
    {
     "name": "stdout",
     "output_type": "stream",
     "text": [
      "is_active\n",
      "True     5669\n",
      "False     958\n",
      "Name: count, dtype: int64\n",
      "6627\n"
     ]
    }
   ],
   "source": [
    "# is_active 값 확인\n",
    "print(users['is_active'].value_counts())\n",
    "print(users['is_active'].size)"
   ]
  },
  {
   "cell_type": "markdown",
   "id": "1cbc1cc5",
   "metadata": {},
   "source": [
    "## watch"
   ]
  },
  {
   "cell_type": "code",
   "execution_count": 30,
   "id": "4658bde0",
   "metadata": {},
   "outputs": [
    {
     "data": {
      "text/html": [
       "<div>\n",
       "<style scoped>\n",
       "    .dataframe tbody tr th:only-of-type {\n",
       "        vertical-align: middle;\n",
       "    }\n",
       "\n",
       "    .dataframe tbody tr th {\n",
       "        vertical-align: top;\n",
       "    }\n",
       "\n",
       "    .dataframe thead th {\n",
       "        text-align: right;\n",
       "    }\n",
       "</style>\n",
       "<table border=\"1\" class=\"dataframe\">\n",
       "  <thead>\n",
       "    <tr style=\"text-align: right;\">\n",
       "      <th></th>\n",
       "      <th>session_id</th>\n",
       "      <th>user_id</th>\n",
       "      <th>movie_id</th>\n",
       "      <th>watch_date</th>\n",
       "      <th>device_type</th>\n",
       "      <th>watch_duration_minutes</th>\n",
       "      <th>progress_percentage</th>\n",
       "      <th>action</th>\n",
       "      <th>quality</th>\n",
       "      <th>location_country</th>\n",
       "      <th>is_download</th>\n",
       "      <th>user_rating</th>\n",
       "    </tr>\n",
       "  </thead>\n",
       "  <tbody>\n",
       "    <tr>\n",
       "      <th>0</th>\n",
       "      <td>session_000001</td>\n",
       "      <td>user_07271</td>\n",
       "      <td>movie_0511</td>\n",
       "      <td>2025-11-13</td>\n",
       "      <td>Tablet</td>\n",
       "      <td>63.9</td>\n",
       "      <td>34.6</td>\n",
       "      <td>completed</td>\n",
       "      <td>HD</td>\n",
       "      <td>USA</td>\n",
       "      <td>False</td>\n",
       "      <td>NaN</td>\n",
       "    </tr>\n",
       "    <tr>\n",
       "      <th>1</th>\n",
       "      <td>session_000002</td>\n",
       "      <td>user_00861</td>\n",
       "      <td>movie_0588</td>\n",
       "      <td>2025-02-26</td>\n",
       "      <td>Laptop</td>\n",
       "      <td>120.1</td>\n",
       "      <td>44.2</td>\n",
       "      <td>started</td>\n",
       "      <td>HD</td>\n",
       "      <td>USA</td>\n",
       "      <td>False</td>\n",
       "      <td>NaN</td>\n",
       "    </tr>\n",
       "    <tr>\n",
       "      <th>2</th>\n",
       "      <td>session_000003</td>\n",
       "      <td>user_05391</td>\n",
       "      <td>movie_0694</td>\n",
       "      <td>2024-12-15</td>\n",
       "      <td>Desktop</td>\n",
       "      <td>572.1</td>\n",
       "      <td>84.7</td>\n",
       "      <td>started</td>\n",
       "      <td>HD</td>\n",
       "      <td>Canada</td>\n",
       "      <td>False</td>\n",
       "      <td>1.0</td>\n",
       "    </tr>\n",
       "    <tr>\n",
       "      <th>3</th>\n",
       "      <td>session_000004</td>\n",
       "      <td>user_05192</td>\n",
       "      <td>movie_0234</td>\n",
       "      <td>2024-09-30</td>\n",
       "      <td>Desktop</td>\n",
       "      <td>395.3</td>\n",
       "      <td>89.9</td>\n",
       "      <td>completed</td>\n",
       "      <td>SD</td>\n",
       "      <td>USA</td>\n",
       "      <td>False</td>\n",
       "      <td>5.0</td>\n",
       "    </tr>\n",
       "    <tr>\n",
       "      <th>4</th>\n",
       "      <td>session_000005</td>\n",
       "      <td>user_05735</td>\n",
       "      <td>movie_0390</td>\n",
       "      <td>2024-08-04</td>\n",
       "      <td>Tablet</td>\n",
       "      <td>14.6</td>\n",
       "      <td>6.2</td>\n",
       "      <td>completed</td>\n",
       "      <td>HD</td>\n",
       "      <td>USA</td>\n",
       "      <td>False</td>\n",
       "      <td>NaN</td>\n",
       "    </tr>\n",
       "  </tbody>\n",
       "</table>\n",
       "</div>"
      ],
      "text/plain": [
       "       session_id     user_id    movie_id  watch_date device_type  \\\n",
       "0  session_000001  user_07271  movie_0511  2025-11-13      Tablet   \n",
       "1  session_000002  user_00861  movie_0588  2025-02-26      Laptop   \n",
       "2  session_000003  user_05391  movie_0694  2024-12-15     Desktop   \n",
       "3  session_000004  user_05192  movie_0234  2024-09-30     Desktop   \n",
       "4  session_000005  user_05735  movie_0390  2024-08-04      Tablet   \n",
       "\n",
       "   watch_duration_minutes  progress_percentage     action quality  \\\n",
       "0                    63.9                 34.6  completed      HD   \n",
       "1                   120.1                 44.2    started      HD   \n",
       "2                   572.1                 84.7    started      HD   \n",
       "3                   395.3                 89.9  completed      SD   \n",
       "4                    14.6                  6.2  completed      HD   \n",
       "\n",
       "  location_country  is_download  user_rating  \n",
       "0              USA        False          NaN  \n",
       "1              USA        False          NaN  \n",
       "2           Canada        False          1.0  \n",
       "3              USA        False          5.0  \n",
       "4              USA        False          NaN  "
      ]
     },
     "execution_count": 30,
     "metadata": {},
     "output_type": "execute_result"
    }
   ],
   "source": [
    "watch.head()"
   ]
  },
  {
   "cell_type": "code",
   "execution_count": 426,
   "id": "d8198065",
   "metadata": {},
   "outputs": [
    {
     "data": {
      "text/plain": [
       "session_id                0\n",
       "user_id                   0\n",
       "movie_id                  0\n",
       "watch_date                0\n",
       "device_type               0\n",
       "watch_duration_minutes    0\n",
       "progress_percentage       0\n",
       "action                    0\n",
       "quality                   0\n",
       "location_country          0\n",
       "is_download               0\n",
       "dtype: int64"
      ]
     },
     "execution_count": 426,
     "metadata": {},
     "output_type": "execute_result"
    }
   ],
   "source": [
    "watch.isnull().sum()"
   ]
  },
  {
   "cell_type": "markdown",
   "id": "c8e3f841",
   "metadata": {},
   "source": [
    "### 숫자열\n",
    "- `watch_duration_minutes` (시청 시간(분))\n",
    "- `progress_percentage` (시청 진행률(%))\n",
    "- `user_rating` (사용자 평점)"
   ]
  },
  {
   "cell_type": "code",
   "execution_count": 405,
   "id": "caed964f",
   "metadata": {},
   "outputs": [
    {
     "name": "stdout",
     "output_type": "stream",
     "text": [
      "watch_duration_minutes\n",
      "28.0     1170\n",
      "22.0     1155\n",
      "40.0     1145\n",
      "26.0     1141\n",
      "36.0     1123\n",
      "         ... \n",
      "686.0       1\n",
      "545.0       1\n",
      "655.0       1\n",
      "565.0       1\n",
      "704.0       1\n",
      "Name: count, Length: 730, dtype: int64\n",
      "85181\n"
     ]
    }
   ],
   "source": [
    "# watch_duration_minutes 값 확인 및 반올림\n",
    "watch['watch_duration_minutes'] = watch['watch_duration_minutes'].round(0)\n",
    "print(watch['watch_duration_minutes'].value_counts())\n",
    "print(watch['watch_duration_minutes'].size)"
   ]
  },
  {
   "cell_type": "code",
   "execution_count": 404,
   "id": "0f5b91c7",
   "metadata": {},
   "outputs": [
    {
     "name": "stdout",
     "output_type": "stream",
     "text": [
      "progress_percentage\n",
      "28.0     993\n",
      "50.0     989\n",
      "2.0      988\n",
      "78.0     987\n",
      "38.0     972\n",
      "        ... \n",
      "93.0     726\n",
      "85.0     693\n",
      "77.0     691\n",
      "100.0    494\n",
      "0.0      461\n",
      "Name: count, Length: 101, dtype: int64\n",
      "85181\n"
     ]
    }
   ],
   "source": [
    "# progress_percentage 값 확인 및 반올림\n",
    "watch['progress_percentage'] = watch['progress_percentage'].round(0)\n",
    "print(watch['progress_percentage'].value_counts())\n",
    "print(watch['progress_percentage'].size)"
   ]
  },
  {
   "cell_type": "code",
   "execution_count": null,
   "id": "a6418a5f",
   "metadata": {},
   "outputs": [],
   "source": [
    "# user_rating 값 확인\n",
    "print(watch['user_rating'].value_counts())\n",
    "print(watch['user_rating'].size)"
   ]
  },
  {
   "cell_type": "code",
   "execution_count": 402,
   "id": "6ab91ae7",
   "metadata": {},
   "outputs": [],
   "source": [
    "# 결측치 제거 및 결측치가 많은 컬럼 제거\n",
    "watch.drop(columns=['user_rating'], inplace=True)\n",
    "watch.dropna(subset=['watch_duration_minutes', 'progress_percentage'], inplace=True)"
   ]
  },
  {
   "cell_type": "markdown",
   "id": "70c6c944",
   "metadata": {},
   "source": [
    "### 문자열\n",
    "- `session_id` (세션 ID)\n",
    "- `user_id` (사용자 ID)\n",
    "- `movie_id` (영화 ID)\n",
    "- `watch_date` (시청 날짜)\n",
    "- `device_type` (기기 유형)\n",
    "- `action` (행동/활동)\n",
    "- `quality` (화질)\n",
    "- `location_country` (위치(국가))"
   ]
  },
  {
   "cell_type": "code",
   "execution_count": 410,
   "id": "2f635c03",
   "metadata": {},
   "outputs": [
    {
     "name": "stdout",
     "output_type": "stream",
     "text": [
      "session_id\n",
      "session_000001    1\n",
      "session_000002    1\n",
      "session_000003    1\n",
      "session_000004    1\n",
      "session_000005    1\n",
      "                 ..\n",
      "session_099995    1\n",
      "session_099996    1\n",
      "session_099998    1\n",
      "session_099999    1\n",
      "session_100000    1\n",
      "Name: count, Length: 81120, dtype: int64\n"
     ]
    }
   ],
   "source": [
    "# session_id 값 확인\n",
    "print(watch['session_id'].value_counts())\n",
    "watch['session_id'].duplicated().sum()\n",
    "watch.drop_duplicates(subset=['session_id'], keep='first', inplace=True)"
   ]
  },
  {
   "cell_type": "code",
   "execution_count": 411,
   "id": "c388ebb7",
   "metadata": {},
   "outputs": [
    {
     "name": "stdout",
     "output_type": "stream",
     "text": [
      "user_id\n",
      "user_06589    20\n",
      "user_08103    19\n",
      "user_02512    19\n",
      "user_02940    19\n",
      "user_02666    19\n",
      "              ..\n",
      "user_06426     1\n",
      "user_08479     1\n",
      "user_08960     1\n",
      "user_05035     1\n",
      "user_01254     1\n",
      "Name: count, Length: 9999, dtype: int64\n"
     ]
    }
   ],
   "source": [
    "# user_id 값 확인\n",
    "print(watch['user_id'].value_counts())"
   ]
  },
  {
   "cell_type": "code",
   "execution_count": null,
   "id": "8353bbd7",
   "metadata": {},
   "outputs": [
    {
     "name": "stdout",
     "output_type": "stream",
     "text": [
      "movie_id\n",
      "movie_0285    111\n",
      "movie_0939    109\n",
      "movie_0115    107\n",
      "movie_0148    105\n",
      "movie_0727    104\n",
      "             ... \n",
      "movie_0684     60\n",
      "movie_0007     60\n",
      "movie_0633     60\n",
      "movie_0707     57\n",
      "movie_0773     56\n",
      "Name: count, Length: 1000, dtype: int64\n"
     ]
    }
   ],
   "source": [
    "# movie_id 값 확인\n",
    "print(watch['movie_id'].value_counts())"
   ]
  },
  {
   "cell_type": "code",
   "execution_count": 414,
   "id": "42728159",
   "metadata": {},
   "outputs": [
    {
     "name": "stdout",
     "output_type": "stream",
     "text": [
      "watch_date\n",
      "2024-02-24    149\n",
      "2024-01-02    141\n",
      "2024-06-26    136\n",
      "2025-11-18    136\n",
      "2024-12-24    136\n",
      "             ... \n",
      "2025-03-03     83\n",
      "2025-06-19     80\n",
      "2024-01-08     78\n",
      "2025-04-12     76\n",
      "2025-07-22     75\n",
      "Name: count, Length: 731, dtype: int64\n"
     ]
    }
   ],
   "source": [
    "# watch_date 값 확인 및 데이터 타입으로 변환\n",
    "watch['watch_date'] = pd.to_datetime(watch['watch_date'])\n",
    "print(watch['watch_date'].value_counts())"
   ]
  },
  {
   "cell_type": "code",
   "execution_count": 415,
   "id": "42ab8b55",
   "metadata": {},
   "outputs": [
    {
     "name": "stdout",
     "output_type": "stream",
     "text": [
      "device_type\n",
      "Desktop     16334\n",
      "Tablet      16266\n",
      "Smart TV    16246\n",
      "Mobile      16241\n",
      "Laptop      16033\n",
      "Name: count, dtype: int64\n"
     ]
    }
   ],
   "source": [
    "# device_type 값 확인\n",
    "print(watch['device_type'].value_counts())"
   ]
  },
  {
   "cell_type": "code",
   "execution_count": null,
   "id": "c7517945",
   "metadata": {},
   "outputs": [
    {
     "name": "stdout",
     "output_type": "stream",
     "text": [
      "action\n",
      "started      20423\n",
      "paused       20277\n",
      "stopped      20270\n",
      "completed    20150\n",
      "Name: count, dtype: int64\n"
     ]
    }
   ],
   "source": [
    "# action 값 확인\n",
    "print(watch['action'].value_counts())"
   ]
  },
  {
   "cell_type": "code",
   "execution_count": null,
   "id": "fd061323",
   "metadata": {},
   "outputs": [
    {
     "name": "stdout",
     "output_type": "stream",
     "text": [
      "quality\n",
      "HD          40440\n",
      "4K          24296\n",
      "SD          12364\n",
      "Ultra HD     4020\n",
      "Name: count, dtype: int64\n"
     ]
    }
   ],
   "source": [
    "# quality 값 확인\n",
    "print(watch['quality'].value_counts())"
   ]
  },
  {
   "cell_type": "code",
   "execution_count": null,
   "id": "216f00e9",
   "metadata": {},
   "outputs": [
    {
     "name": "stdout",
     "output_type": "stream",
     "text": [
      "location_country\n",
      "USA       56497\n",
      "Canada    24623\n",
      "Name: count, dtype: int64\n"
     ]
    }
   ],
   "source": [
    "# location_country 값 확인\n",
    "print(watch['location_country'].value_counts())"
   ]
  },
  {
   "cell_type": "markdown",
   "id": "e688b130",
   "metadata": {},
   "source": [
    "### Boolean\n",
    "- `is_download` (다운로드 여부)"
   ]
  },
  {
   "cell_type": "code",
   "execution_count": 419,
   "id": "337367d8",
   "metadata": {},
   "outputs": [
    {
     "name": "stdout",
     "output_type": "stream",
     "text": [
      "is_download\n",
      "False    64835\n",
      "True     16285\n",
      "Name: count, dtype: int64\n"
     ]
    }
   ],
   "source": [
    "# is_download 값 확인\n",
    "print(watch['is_download'].value_counts())"
   ]
  },
  {
   "cell_type": "markdown",
   "id": "575603c6",
   "metadata": {},
   "source": [
    "## to csv"
   ]
  },
  {
   "cell_type": "code",
   "execution_count": 428,
   "id": "0a010be4",
   "metadata": {},
   "outputs": [],
   "source": [
    "movies.to_csv('./data/2/movies_cleaned.csv', index=False)\n",
    "recommendation.to_csv('./data/2/recommendation_cleaned.csv', index=False)\n",
    "reviews.to_csv('./data/2/reviews_cleaned.csv', index=False)\n",
    "search.to_csv('./data/2/search_cleaned.csv', index=False)\n",
    "users.to_csv('./data/2/users_cleaned.csv', index=False)\n",
    "watch.to_csv('./data/2/watch_cleaned.csv', index=False)"
   ]
  }
 ],
 "metadata": {
  "kernelspec": {
   "display_name": "ml_env",
   "language": "python",
   "name": "python3"
  },
  "language_info": {
   "codemirror_mode": {
    "name": "ipython",
    "version": 3
   },
   "file_extension": ".py",
   "mimetype": "text/x-python",
   "name": "python",
   "nbconvert_exporter": "python",
   "pygments_lexer": "ipython3",
   "version": "3.12.11"
  }
 },
 "nbformat": 4,
 "nbformat_minor": 5
}
